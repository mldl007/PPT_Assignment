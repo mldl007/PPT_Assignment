{
 "cells": [
  {
   "cell_type": "markdown",
   "id": "493faf3c-5955-4e94-9432-0e54ad37846c",
   "metadata": {},
   "source": [
    "<aside>\n",
    "💡 **Question 1**\n",
    "Given three integer arrays arr1, arr2 and arr3 **sorted** in **strictly increasing** order, return a sorted array of **only** the integers that appeared in **all** three arrays.\n",
    "\n",
    "**Example 1:**\n",
    "\n",
    "Input: arr1 = [1,2,3,4,5], arr2 = [1,2,5,7,9], arr3 = [1,3,4,5,8]\n",
    "\n",
    "Output: [1,5]\n",
    "\n",
    "**Explanation:** Only 1 and 5 appeared in the three arrays.\n",
    "\n",
    "</aside>"
   ]
  },
  {
   "cell_type": "code",
   "execution_count": 2,
   "id": "5837c888-0838-4e22-830b-763eed1ce254",
   "metadata": {},
   "outputs": [],
   "source": [
    "def q1(arr1: list, arr2: list, arr3: list):\n",
    "    res = []\n",
    "    for i in arr1:\n",
    "        if (i in arr2) & (i in arr3):\n",
    "            res.append(i)\n",
    "    return res\n"
   ]
  },
  {
   "cell_type": "code",
   "execution_count": 6,
   "id": "1b60429d-ad67-43cd-95ae-3dd18d462fad",
   "metadata": {},
   "outputs": [
    {
     "name": "stdout",
     "output_type": "stream",
     "text": [
      "[1, 5]\n",
      "[1]\n"
     ]
    }
   ],
   "source": [
    "print(q1(arr1 = [1,2,3,4,5], arr2 = [1,2,5,7,9], arr3 = [1,3,4,5,8]))\n",
    "print(q1(arr1 = [1,2,3,4,5], arr2 = [1,2,5,7,9], arr3 = [1,3]))"
   ]
  },
  {
   "cell_type": "markdown",
   "id": "40576f8e-d6d3-4631-bf93-cde3dd846c0b",
   "metadata": {},
   "source": [
    "<aside>\n",
    "💡 **Question 2**\n",
    "\n",
    "Given two **0-indexed** integer arrays nums1 and nums2, return *a list* answer *of size* 2 *where:*\n",
    "\n",
    "- answer[0] *is a list of all **distinct** integers in* nums1 *which are **not** present in* nums2*.*\n",
    "- answer[1] *is a list of all **distinct** integers in* nums2 *which are **not** present in* nums1.\n",
    "\n",
    "**Note** that the integers in the lists may be returned in **any** order.\n",
    "\n",
    "**Example 1:**\n",
    "\n",
    "**Input:** nums1 = [1,2,3], nums2 = [2,4,6]\n",
    "\n",
    "**Output:** [[1,3],[4,6]]\n",
    "\n",
    "**Explanation:**\n",
    "\n",
    "For nums1, nums1[1] = 2 is present at index 0 of nums2, whereas nums1[0] = 1 and nums1[2] = 3 are not present in nums2. Therefore, answer[0] = [1,3].\n",
    "\n",
    "For nums2, nums2[0] = 2 is present at index 1 of nums1, whereas nums2[1] = 4 and nums2[2] = 6 are not present in nums2. Therefore, answer[1] = [4,6].\n",
    "\n",
    "</aside>"
   ]
  },
  {
   "cell_type": "code",
   "execution_count": 46,
   "id": "d026d864-37ac-42bd-9fc6-4997f04e6008",
   "metadata": {},
   "outputs": [],
   "source": [
    "def q2(nums1: list, nums2: list):\n",
    "    nums1 = [*set(nums1)]\n",
    "    nums2 = [*set(nums2)]\n",
    "    len1 = len(nums1)\n",
    "    len2 = len(nums2)\n",
    "    maxlen = len1 if len1 >= len2 else len2\n",
    "    res1 = []\n",
    "    res2 = []\n",
    "    for i in range(maxlen):\n",
    "        if i < len1:\n",
    "            if nums1[i] not in nums2:\n",
    "                res1.append(nums1[i])\n",
    "        if i < len2:\n",
    "            if nums2[i] not in nums1:\n",
    "                res2.append(nums2[i])\n",
    "    return [res1, res2]"
   ]
  },
  {
   "cell_type": "code",
   "execution_count": 48,
   "id": "7b0b9897-2796-4e99-8a9c-f22dcf697603",
   "metadata": {},
   "outputs": [
    {
     "name": "stdout",
     "output_type": "stream",
     "text": [
      "[[1, 3], [4, 6]]\n",
      "[[1, 3], [4, 6, 7]]\n"
     ]
    }
   ],
   "source": [
    "print(q2(nums1 = [1,2,3], nums2 = [2,4,6]))\n",
    "print(q2(nums1 = [1,2,3], nums2 = [2,4,6,7]))"
   ]
  },
  {
   "cell_type": "markdown",
   "id": "a1f59670-b46c-4a5b-835b-f0c24c4ca4b3",
   "metadata": {},
   "source": [
    "<aside>\n",
    "💡 **Question 3**\n",
    "Given a 2D integer array matrix, return *the **transpose** of* matrix.\n",
    "\n",
    "The **transpose** of a matrix is the matrix flipped over its main diagonal, switching the matrix's row and column indices.\n",
    "\n",
    "**Example 1:**\n",
    "\n",
    "Input: matrix = [[1,2,3],[4,5,6],[7,8,9]]\n",
    "\n",
    "Output: [[1,4,7],[2,5,8],[3,6,9]]\n",
    "\n",
    "</aside>"
   ]
  },
  {
   "cell_type": "code",
   "execution_count": 50,
   "id": "fb595d65-02b3-410b-8b4c-f3f348714a87",
   "metadata": {},
   "outputs": [],
   "source": [
    "class Transpose:\n",
    "    def __init__(self, arr):\n",
    "        self.arr = arr\n",
    "        self.rows = len(self.arr)\n",
    "        self.cols = len(self.arr[0])\n",
    "        \n",
    "    def empty_transpose_generate(self):\n",
    "        transpose = []\n",
    "        for r in range(self.cols):\n",
    "            row = []\n",
    "            for c in range(self.rows):\n",
    "                row.append(0)\n",
    "            transpose.append(row)\n",
    "        return transpose\n",
    "    \n",
    "    def generate_transpose(self):\n",
    "        transpose = self.empty_transpose_generate()\n",
    "        for i in range(self.cols):\n",
    "            for j in range(self.rows):\n",
    "                transpose[i][j] = self.arr[j][i]\n",
    "        return transpose\n",
    "    \n",
    "    def print_array(self, arr):\n",
    "        arr_str = ''\n",
    "        for i in arr:\n",
    "            arr_str += str(i) + '\\n'\n",
    "        print(arr_str)\n",
    "    \n",
    "    def __repr__(self):\n",
    "        print('Original Array')\n",
    "        self.print_array(self.arr)\n",
    "        print('Transpose Array')\n",
    "        transpose = self.generate_transpose()\n",
    "        self.print_array(transpose)\n",
    "        return \"\""
   ]
  },
  {
   "cell_type": "code",
   "execution_count": 51,
   "id": "0f4c8117-0e95-405c-83f9-f6bff0702684",
   "metadata": {},
   "outputs": [
    {
     "name": "stdout",
     "output_type": "stream",
     "text": [
      "Original Array\n",
      "[1, 2, 3]\n",
      "[4, 5, 6]\n",
      "[7, 8, 9]\n",
      "\n",
      "Transpose Array\n",
      "[1, 4, 7]\n",
      "[2, 5, 8]\n",
      "[3, 6, 9]\n",
      "\n"
     ]
    },
    {
     "data": {
      "text/plain": []
     },
     "execution_count": 51,
     "metadata": {},
     "output_type": "execute_result"
    }
   ],
   "source": [
    "tr = Transpose([[1,2,3],[4,5,6],[7,8,9]])\n",
    "tr"
   ]
  },
  {
   "cell_type": "code",
   "execution_count": 52,
   "id": "48d66db2-5000-42e8-801e-682ca5202cb7",
   "metadata": {},
   "outputs": [
    {
     "name": "stdout",
     "output_type": "stream",
     "text": [
      "Original Array\n",
      "[1]\n",
      "[4]\n",
      "[7]\n",
      "\n",
      "Transpose Array\n",
      "[1, 4, 7]\n",
      "\n"
     ]
    },
    {
     "data": {
      "text/plain": []
     },
     "execution_count": 52,
     "metadata": {},
     "output_type": "execute_result"
    }
   ],
   "source": [
    "tr = Transpose([[1],[4],[7]])\n",
    "tr"
   ]
  },
  {
   "cell_type": "markdown",
   "id": "ac73158a-efe6-4f7e-a09c-09113120255a",
   "metadata": {},
   "source": [
    "<aside>\n",
    "💡 **Question 4**\n",
    "Given an integer array nums of 2n integers, group these integers into n pairs (a1, b1), (a2, b2), ..., (an, bn) such that the sum of min(ai, bi) for all i is **maximized**. Return *the maximized sum*.\n",
    "\n",
    "**Example 1:**\n",
    "\n",
    "Input: nums = [1,4,3,2]\n",
    "\n",
    "Output: 4\n",
    "\n",
    "**Explanation:** All possible pairings (ignoring the ordering of elements) are:\n",
    "\n",
    "1. (1, 4), (2, 3) -> min(1, 4) + min(2, 3) = 1 + 2 = 3\n",
    "\n",
    "2. (1, 3), (2, 4) -> min(1, 3) + min(2, 4) = 1 + 2 = 3\n",
    "\n",
    "3. (1, 2), (3, 4) -> min(1, 2) + min(3, 4) = 1 + 3 = 4\n",
    "\n",
    "So the maximum possible sum is 4.\n",
    "\n",
    "</aside>"
   ]
  },
  {
   "cell_type": "code",
   "execution_count": 16,
   "id": "5f38a749-e10a-42dd-887e-98fa64c968ee",
   "metadata": {},
   "outputs": [],
   "source": [
    "def q4(nums: list):\n",
    "    min_list = []\n",
    "    nums = sorted(nums)\n",
    "    if len(nums) >= 4:\n",
    "        min_list = [min([nums[-1], nums[-2]]), min([nums[-3], nums[-4]])]\n",
    "    else:\n",
    "        min_list = max(nums)\n",
    "    return sum(min_list)"
   ]
  },
  {
   "cell_type": "code",
   "execution_count": 17,
   "id": "4a2f702a-e98e-4778-a34d-d69029240e95",
   "metadata": {},
   "outputs": [
    {
     "name": "stdout",
     "output_type": "stream",
     "text": [
      "4\n",
      "15\n",
      "4\n"
     ]
    }
   ],
   "source": [
    "print(q4(nums=[1,4,3,2]))\n",
    "print(q4(nums=[15,3,5,8,10,1]))\n",
    "print(q4(nums=[1,2,3,8]))"
   ]
  },
  {
   "cell_type": "markdown",
   "id": "f5c8cb2f-e5b1-4a33-89ac-8af71faf3293",
   "metadata": {},
   "source": [
    "<aside>\n",
    "💡 **Question 5**\n",
    "You have n coins and you want to build a staircase with these coins. The staircase consists of k rows where the ith row has exactly i coins. The last row of the staircase **may be** incomplete.\n",
    "\n",
    "Given the integer n, return *the number of **complete rows** of the staircase you will build*.\n",
    "\n",
    "**Example 1:**\n",
    "\n",
    "[]()\n",
    "\n",
    "![v2.jpg](https://s3-us-west-2.amazonaws.com/secure.notion-static.com/4bd91cfa-d2b1-47b3-8197-a72e8dcfff4b/v2.jpg)\n",
    "\n",
    "**Input:** n = 5\n",
    "\n",
    "**Output:** 2\n",
    "\n",
    "**Explanation:** Because the 3rd row is incomplete, we return 2.\n",
    "\n",
    "</aside>"
   ]
  },
  {
   "cell_type": "code",
   "execution_count": 38,
   "id": "8af6688e-4509-47a9-8d14-d172df4a989a",
   "metadata": {},
   "outputs": [],
   "source": [
    "def q5(n: int):\n",
    "    rows = 0\n",
    "    i = 1   \n",
    "    while n >= i:\n",
    "        n-=i\n",
    "        rows+=1\n",
    "        i+=1\n",
    "    return rows"
   ]
  },
  {
   "cell_type": "code",
   "execution_count": 39,
   "id": "d96dcc43-97aa-46eb-a470-c6b5244215be",
   "metadata": {},
   "outputs": [
    {
     "name": "stdout",
     "output_type": "stream",
     "text": [
      "1\n",
      "4\n",
      "5\n"
     ]
    }
   ],
   "source": [
    "print(q5(1))\n",
    "print(q5(10))\n",
    "print(q5(15))"
   ]
  },
  {
   "cell_type": "markdown",
   "id": "c8d5625e-e4c6-4079-bdd5-e7e10bfe91a3",
   "metadata": {},
   "source": [
    "<aside>\n",
    "💡 **Question 6**\n",
    "Given an integer array nums sorted in **non-decreasing** order, return *an array of **the squares of each number** sorted in non-decreasing order*.\n",
    "\n",
    "**Example 1:**\n",
    "\n",
    "Input: nums = [-4,-1,0,3,10]\n",
    "\n",
    "Output: [0,1,9,16,100]\n",
    "\n",
    "**Explanation:** After squaring, the array becomes [16,1,0,9,100].\n",
    "After sorting, it becomes [0,1,9,16,100]\n",
    "\n",
    "</aside>"
   ]
  },
  {
   "cell_type": "code",
   "execution_count": 58,
   "id": "f7a0e01d-10ab-463f-9beb-5cf118f2db8e",
   "metadata": {},
   "outputs": [],
   "source": [
    "def q6(nums: list):\n",
    "    nums = [i**2 for i in nums]\n",
    "#     bubble sort\n",
    "    for i in range(len(nums) -1):\n",
    "        for j in range(len(nums) -1):\n",
    "            if nums[j] > nums[j+1]:\n",
    "                nums[j], nums[j+1] = nums[j+1], nums[j]\n",
    "    return nums"
   ]
  },
  {
   "cell_type": "code",
   "execution_count": 61,
   "id": "901bfa34-a8b0-48a4-a1b1-2a46201c1739",
   "metadata": {},
   "outputs": [
    {
     "name": "stdout",
     "output_type": "stream",
     "text": [
      "[0, 1, 9, 16, 100]\n",
      "[1, 9, 16, 100, 400]\n"
     ]
    }
   ],
   "source": [
    "print(q6(nums=[-4,-1,0,3,10]))\n",
    "print(q6(nums=[-4,-1,20,-3,-10]))"
   ]
  },
  {
   "cell_type": "markdown",
   "id": "f1fae22a-170b-44e1-a76d-0af926f094c0",
   "metadata": {},
   "source": [
    "<aside>\n",
    "💡 **Question 7**\n",
    "You are given an m x n matrix M initialized with all 0's and an array of operations ops, where ops[i] = [ai, bi] means M[x][y] should be incremented by one for all 0 <= x < ai and 0 <= y < bi.\n",
    "\n",
    "Count and return *the number of maximum integers in the matrix after performing all the operations*\n",
    "\n",
    "**Example 1:**\n",
    "\n",
    "![q4.jpg](https://s3-us-west-2.amazonaws.com/secure.notion-static.com/4d0890d0-7bc7-4f59-be8e-352d9f3c1c52/q4.jpg)\n",
    "\n",
    "**Input:** m = 3, n = 3, ops = [[2,2],[3,3]]\n",
    "\n",
    "**Output:** 4\n",
    "\n",
    "**Explanation:** The maximum integer in M is 2, and there are four of it in M. So return 4.\n",
    "\n",
    "</aside>"
   ]
  },
  {
   "cell_type": "code",
   "execution_count": null,
   "id": "b253497f-d6b1-4a57-ad50-f97eb17041a3",
   "metadata": {},
   "outputs": [],
   "source": []
  },
  {
   "cell_type": "markdown",
   "id": "221cb380-574e-438e-8cd4-df2382752dd9",
   "metadata": {},
   "source": [
    "<aside>\n",
    "💡 **Question 8**\n",
    "\n",
    "Given the array nums consisting of 2n elements in the form [x1,x2,...,xn,y1,y2,...,yn].\n",
    "\n",
    "*Return the array in the form* [x1,y1,x2,y2,...,xn,yn].\n",
    "\n",
    "**Example 1:**\n",
    "\n",
    "**Input:** nums = [2,5,1,3,4,7], n = 3\n",
    "\n",
    "**Output:** [2,3,5,4,1,7]\n",
    "\n",
    "**Explanation:** Since x1=2, x2=5, x3=1, y1=3, y2=4, y3=7 then the answer is [2,3,5,4,1,7].\n",
    "\n",
    "</aside>"
   ]
  },
  {
   "cell_type": "code",
   "execution_count": 28,
   "id": "c925d503-d740-49fc-b234-caee2811b829",
   "metadata": {},
   "outputs": [],
   "source": [
    "def q8(nums: list, n: int):\n",
    "    p1 = 0\n",
    "    p2 = n\n",
    "    res = []\n",
    "    i=0\n",
    "    while i < n:\n",
    "        res.append(nums[p1+i])\n",
    "        res.append(nums[p2+i])\n",
    "        i+=1\n",
    "    return res"
   ]
  },
  {
   "cell_type": "code",
   "execution_count": 30,
   "id": "c0f49c32-e94e-406f-8c0b-3be47221c3b9",
   "metadata": {},
   "outputs": [
    {
     "name": "stdout",
     "output_type": "stream",
     "text": [
      "[2, 3, 5, 4, 1, 7]\n",
      "[1, 5, 2, 6, 3, 7, 4, 8]\n"
     ]
    }
   ],
   "source": [
    "print(q8(nums = [2,5,1,3,4,7], n = 3))\n",
    "print(q8(nums = [1,2,3,4,5,6,7,8], n = 4))"
   ]
  }
 ],
 "metadata": {
  "kernelspec": {
   "display_name": "Python 3 (ipykernel)",
   "language": "python",
   "name": "python3"
  },
  "language_info": {
   "codemirror_mode": {
    "name": "ipython",
    "version": 3
   },
   "file_extension": ".py",
   "mimetype": "text/x-python",
   "name": "python",
   "nbconvert_exporter": "python",
   "pygments_lexer": "ipython3",
   "version": "3.9.13"
  }
 },
 "nbformat": 4,
 "nbformat_minor": 5
}
