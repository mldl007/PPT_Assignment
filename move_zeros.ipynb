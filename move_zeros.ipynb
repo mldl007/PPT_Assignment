{
 "cells": [
  {
   "cell_type": "markdown",
   "id": "3f9ee28a-be71-48fa-850e-84750b2e3343",
   "metadata": {},
   "source": [
    "Move Zeroes\n",
    "Given an integer array nums, move all 0's to the end of it while maintaining the relative order of the non-zero elements.\n",
    "\n",
    "Note that you must do this in-place without making a copy of the array.\n",
    "\n",
    "Example 1:\n",
    "Input: nums = [0,1,0,3,12]\n",
    "Output: [1,3,12,0,0]\n",
    "\n",
    "Example 2:\n",
    "Input: nums = [0]\n",
    "Output: [0]\n",
    "\n",
    "Constraints:\n",
    "a. 1 <= nums.length <= 10^4\n",
    "b. -2^31 <= nums[i] <= 2^31 - 1\n"
   ]
  },
  {
   "cell_type": "code",
   "execution_count": 3,
   "id": "66ccd9bc-804b-4d7f-854e-6f33ad2451fe",
   "metadata": {},
   "outputs": [],
   "source": [
    "def move_zeros(l: list[int]):\n",
    "    p = 0\n",
    "    for i in l:\n",
    "        if i != 0:\n",
    "            l[p] = i\n",
    "            p += 1\n",
    "\n",
    "    for i in range(p, len(l)):\n",
    "        l[i] = 0\n",
    "    return l"
   ]
  },
  {
   "cell_type": "code",
   "execution_count": 5,
   "id": "ce9fa608-b05b-489d-ad8c-437ceee61a54",
   "metadata": {},
   "outputs": [
    {
     "name": "stdout",
     "output_type": "stream",
     "text": [
      "[1, 20, 7, 40, 0, 0]\n"
     ]
    }
   ],
   "source": [
    "print(move_zeros(l=[1,20,0,7,40,0]))"
   ]
  },
  {
   "cell_type": "code",
   "execution_count": null,
   "id": "a288103e-abe8-4140-91fd-40a1250aca09",
   "metadata": {},
   "outputs": [],
   "source": []
  },
  {
   "cell_type": "code",
   "execution_count": null,
   "id": "0f20fdcd-97f8-4c87-8b7f-6d16e74bcb7f",
   "metadata": {},
   "outputs": [],
   "source": []
  }
 ],
 "metadata": {
  "kernelspec": {
   "display_name": "Python 3 (ipykernel)",
   "language": "python",
   "name": "python3"
  },
  "language_info": {
   "codemirror_mode": {
    "name": "ipython",
    "version": 3
   },
   "file_extension": ".py",
   "mimetype": "text/x-python",
   "name": "python",
   "nbconvert_exporter": "python",
   "pygments_lexer": "ipython3",
   "version": "3.9.13"
  }
 },
 "nbformat": 4,
 "nbformat_minor": 5
}
