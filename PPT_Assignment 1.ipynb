{
 "cells": [
  {
   "cell_type": "markdown",
   "id": "5eb75251-dcd2-49d4-83ec-422c2c693160",
   "metadata": {},
   "source": [
    "<aside>\n",
    "💡 **Q1.** Given an array of integers nums and an integer target, return indices of the two numbers such that they add up to target.\n",
    "\n",
    "You may assume that each input would have exactly one solution, and you may not use the same element twice.\n",
    "\n",
    "You can return the answer in any order.\n",
    "\n",
    "**Example:**\n",
    "Input: nums = [2,7,11,15], target = 9\n",
    "Output0 [0,1]\n",
    "\n",
    "**Explanation:** Because nums[0] + nums[1] == 9, we return [0, 1][\n",
    "\n",
    "</aside>"
   ]
  },
  {
   "cell_type": "code",
   "execution_count": 1,
   "id": "7fab2c07-b023-452b-82fd-6c2f2883cbd4",
   "metadata": {},
   "outputs": [],
   "source": [
    "def q1(nums: list, value: int):\n",
    "    for i in range(len(nums) - 1):\n",
    "        for j in range(i + 1, len(nums)):\n",
    "            if nums[i] + nums[j] == value:\n",
    "                return (i, j)"
   ]
  },
  {
   "cell_type": "code",
   "execution_count": 5,
   "id": "a0374a2c-bd1d-4ac4-b0ad-5a6dd37a4c68",
   "metadata": {},
   "outputs": [
    {
     "name": "stdout",
     "output_type": "stream",
     "text": [
      "(0, 1)\n"
     ]
    }
   ],
   "source": [
    "print(q1(nums=[2, 7, 11, 15], value=9))"
   ]
  },
  {
   "cell_type": "markdown",
   "id": "787e4c03-70c0-468a-9c5e-3e8083e7c629",
   "metadata": {},
   "source": [
    "<aside>\n",
    "💡 **Q2.** Given an integer array nums and an integer val, remove all occurrences of val in nums in-place. The order of the elements may be changed. Then return the number of elements in nums which are not equal to val.\n",
    "\n",
    "Consider the number of elements in nums which are not equal to val be k, to get accepted, you need to do the following things:\n",
    "\n",
    "- Change the array nums such that the first k elements of nums contain the elements which are not equal to val. The remaining elements of nums are not important as well as the size of nums.\n",
    "- Return k.\n",
    "\n",
    "**Example :**\n",
    "Input: nums = [3,2,2,3], val = 3\n",
    "Output: 2, nums = [2,2,_*,_*]\n",
    "\n",
    "**Explanation:** Your function should return k = 2, with the first two elements of nums being 2. It does not matter what you leave beyond the returned k (hence they are underscores)[\n",
    "\n",
    "</aside>"
   ]
  },
  {
   "cell_type": "code",
   "execution_count": 17,
   "id": "0afbbbd2-4f08-43d4-9bf8-e8acba370006",
   "metadata": {},
   "outputs": [],
   "source": [
    "def q2(nums: list, value: int):\n",
    "    result = []\n",
    "    count = 0\n",
    "    for i in nums:\n",
    "        if i == val:\n",
    "            result = [i] + result\n",
    "            count += 1\n",
    "        else:\n",
    "            result.append('_')\n",
    "    return (count, result)"
   ]
  },
  {
   "cell_type": "code",
   "execution_count": 18,
   "id": "cb027603-7d31-4ced-bb5d-1e2b1818f731",
   "metadata": {},
   "outputs": [
    {
     "name": "stdout",
     "output_type": "stream",
     "text": [
      "(2, [3, 3, '_', '_'])\n"
     ]
    }
   ],
   "source": [
    "print(q2(nums=[3, 2, 2, 3], value=3))"
   ]
  },
  {
   "cell_type": "markdown",
   "id": "a93c6f16-e179-400b-aafb-38adbe671bbf",
   "metadata": {},
   "source": [
    "<aside>\n",
    "💡 **Q3.** Given a sorted array of distinct integers and a target value, return the index if the target is found. If not, return the index where it would be if it were inserted in order.\n",
    "\n",
    "You must write an algorithm with O(log n) runtime complexity.\n",
    "\n",
    "**Example 1:**\n",
    "Input: nums = [1,3,5,6], target = 5\n",
    "\n",
    "Output: 2\n",
    "\n",
    "</aside>"
   ]
  },
  {
   "cell_type": "code",
   "execution_count": 74,
   "id": "ed420fc6-7ea2-4609-9973-9925ab96a62b",
   "metadata": {},
   "outputs": [],
   "source": [
    "def q3(nums: list, target: int):\n",
    "    for i in range(len(nums)):\n",
    "        if nums[i] == target:\n",
    "            return i\n",
    "        else:\n",
    "            if (i == 0) & (target < nums[i]):\n",
    "                return 0\n",
    "            elif (i == len(nums) - 1) & (target > nums[i]):\n",
    "                return i + 1\n",
    "            elif (target < nums[i]):\n",
    "                return i     "
   ]
  },
  {
   "cell_type": "code",
   "execution_count": 78,
   "id": "1a0a5fef-e44b-4cee-a595-37e31928707b",
   "metadata": {},
   "outputs": [
    {
     "name": "stdout",
     "output_type": "stream",
     "text": [
      "2\n",
      "0\n",
      "1\n",
      "4\n"
     ]
    }
   ],
   "source": [
    "print(q3(nums=[1,3,5,6], target=5))\n",
    "print(q3(nums=[1,3,5,6], target=0))\n",
    "print(q3(nums=[1,3,5,6], target=2))\n",
    "print(q3(nums=[1,3,5,6], target=7))"
   ]
  },
  {
   "cell_type": "markdown",
   "id": "b90482b8-300a-444e-ba47-ced1fc3ef76f",
   "metadata": {},
   "source": [
    "<aside>\n",
    "💡 **Q4.** You are given a large integer represented as an integer array digits, where each digits[i] is the ith digit of the integer. The digits are ordered from most significant to least significant in left-to-right order. The large integer does not contain any leading 0's.\n",
    "\n",
    "Increment the large integer by one and return the resulting array of digits.\n",
    "\n",
    "**Example 1:**\n",
    "Input: digits = [1,2,3]\n",
    "Output: [1,2,4]\n",
    "\n",
    "**Explanation:** The array represents the integer 123.\n",
    "\n",
    "Incrementing by one gives 123 + 1 = 124.\n",
    "Thus, the result should be [1,2,4].\n",
    "\n",
    "</aside>"
   ]
  },
  {
   "cell_type": "code",
   "execution_count": 82,
   "id": "230eff3a-96cb-4ed4-bf3e-f1e1f3836000",
   "metadata": {},
   "outputs": [],
   "source": [
    "def q4(digits: list):\n",
    "    str_list = \"\".join([str(i) for i in digits])\n",
    "    add_1 = int(str_list) + 1\n",
    "    result = [int(i) for i in str(add_1)]\n",
    "    return result"
   ]
  },
  {
   "cell_type": "code",
   "execution_count": 85,
   "id": "f6422bc9-078f-45c7-a4eb-a0d9f9c4a825",
   "metadata": {},
   "outputs": [
    {
     "name": "stdout",
     "output_type": "stream",
     "text": [
      "[1, 2, 4]\n",
      "[1, 2, 3, 4, 5, 7]\n",
      "[1, 2, 3, 4, 6, 0]\n"
     ]
    }
   ],
   "source": [
    "print(q4(digits=[1, 2, 3]))\n",
    "print(q4(digits=[1, 2, 3, 4, 5, 6]))\n",
    "print(q4(digits=[1, 2, 3, 4, 5, 9]))"
   ]
  },
  {
   "cell_type": "markdown",
   "id": "7ff686ee-e61a-4971-bbde-9f864531ba12",
   "metadata": {},
   "source": [
    "<aside>\n",
    "💡 **Q5.** You are given two integer arrays nums1 and nums2, sorted in non-decreasing order, and two integers m and n, representing the number of elements in nums1 and nums2 respectively.\n",
    "\n",
    "Merge nums1 and nums2 into a single array sorted in non-decreasing order.\n",
    "\n",
    "The final sorted array should not be returned by the function, but instead be stored inside the array nums1. To accommodate this, nums1 has a length of m + n, where the first m elements denote the elements that should be merged, and the last n elements are set to 0 and should be ignored. nums2 has a length of n.\n",
    "\n",
    "**Example 1:**\n",
    "Input: nums1 = [1,2,3,0,0,0], m = 3, nums2 = [2,5,6], n = 3\n",
    "Output: [1,2,2,3,5,6]\n",
    "\n",
    "**Explanation:** The arrays we are merging are [1,2,3] and [2,5,6].\n",
    "The result of the merge is [1,2,2,3,5,6] with the underlined elements coming from nums1.\n",
    "\n",
    "</aside>"
   ]
  },
  {
   "cell_type": "code",
   "execution_count": 6,
   "id": "9b08f4a2-83ba-4458-ac86-4835c013285c",
   "metadata": {},
   "outputs": [],
   "source": [
    "def q5(l1: list, l2: list):\n",
    "    p1=0\n",
    "    p2=0\n",
    "    res = []\n",
    "    while len(res) < (len(l1) + len(l2)):\n",
    "        if l1[p1] <= l2[p2]:\n",
    "            res.append(l1[p1])\n",
    "            res.append(l2[p2])\n",
    "            if p1 < len(l1)-1:\n",
    "                p1+=1\n",
    "            if p2 < len(l2)-1:\n",
    "                p2+=1\n",
    "        else:\n",
    "            res.append(l1[p1])\n",
    "            if p1 < len(l1)-1:\n",
    "                p1+=1\n",
    "    return res"
   ]
  },
  {
   "cell_type": "code",
   "execution_count": 8,
   "id": "8c47f8bc-0fad-40a5-b50f-26fdecb407b7",
   "metadata": {},
   "outputs": [
    {
     "name": "stdout",
     "output_type": "stream",
     "text": [
      "[1, 2, 2, 5, 3, 6]\n",
      "[1, 2, 2, 2, 3, 3, 3, 5]\n"
     ]
    }
   ],
   "source": [
    "print(q5(l1=[1,2,3], l2=[2,5,6]))\n",
    "print(q5(l1=[1,2,3], l2=[2,2,3,5,6]))"
   ]
  },
  {
   "cell_type": "markdown",
   "id": "fe8b48c4-efda-4a06-9188-60365918a803",
   "metadata": {},
   "source": [
    "<aside>\n",
    "💡 **Q6.** Given an integer array nums, return true if any value appears at least twice in the array, and return false if every element is distinct.\n",
    "\n",
    "**Example 1:**\n",
    "Input: nums = [1,2,3,1]\n",
    "\n",
    "Output: true\n",
    "\n",
    "</aside>"
   ]
  },
  {
   "cell_type": "code",
   "execution_count": 88,
   "id": "12b74edc-962b-40b9-8d0b-fbb7f21af213",
   "metadata": {},
   "outputs": [],
   "source": [
    "def q6(nums: list):\n",
    "    if len(set(nums)) == len(nums):\n",
    "        return False\n",
    "    else:\n",
    "        return True"
   ]
  },
  {
   "cell_type": "code",
   "execution_count": 90,
   "id": "991ad665-eee4-4214-90e5-7a5501233b78",
   "metadata": {},
   "outputs": [
    {
     "name": "stdout",
     "output_type": "stream",
     "text": [
      "True\n",
      "False\n"
     ]
    }
   ],
   "source": [
    "print(q6(nums=[1, 2, 3, 1]))\n",
    "print(q6(nums=[1, 2, 3]))"
   ]
  },
  {
   "cell_type": "markdown",
   "id": "4516d6b1-26a2-4c18-93eb-921135286d42",
   "metadata": {},
   "source": [
    "<aside>\n",
    "💡 **Q7.** Given an integer array nums, move all 0's to the end of it while maintaining the relative order of the nonzero elements.\n",
    "\n",
    "Note that you must do this in-place without making a copy of the array.\n",
    "\n",
    "**Example 1:**\n",
    "Input: nums = [0,1,0,3,12]\n",
    "Output: [1,3,12,0,0]\n",
    "\n",
    "</aside>"
   ]
  },
  {
   "cell_type": "code",
   "execution_count": 102,
   "id": "22da4941-e65c-4cb3-9dcf-d309f05173a3",
   "metadata": {},
   "outputs": [],
   "source": [
    "def q7(nums: list):\n",
    "    for i in range(len(nums)):\n",
    "        if nums[i] == 0:\n",
    "            nums.remove(0)\n",
    "            nums.append(0)\n",
    "    return nums"
   ]
  },
  {
   "cell_type": "code",
   "execution_count": 105,
   "id": "03413c17-3d17-48b6-bdb9-68c0c02a2a9a",
   "metadata": {},
   "outputs": [
    {
     "name": "stdout",
     "output_type": "stream",
     "text": [
      "[1, 3, 12, 0, 0]\n",
      "[1, 3, 12]\n",
      "[1, 3, 12, 0]\n"
     ]
    }
   ],
   "source": [
    "print(q7(nums=[0,1,0,3,12]))\n",
    "print(q7(nums=[1,3,12]))\n",
    "print(q7(nums=[1,3,0,12]))"
   ]
  },
  {
   "cell_type": "markdown",
   "id": "51514103-5a69-4684-8af7-270be01a492d",
   "metadata": {},
   "source": [
    "<aside>\n",
    "💡 **Q8.** You have a set of integers s, which originally contains all the numbers from 1 to n. Unfortunately, due to some error, one of the numbers in s got duplicated to another number in the set, which results in repetition of one number and loss of another number.\n",
    "\n",
    "You are given an integer array nums representing the data status of this set after the error.\n",
    "\n",
    "Find the number that occurs twice and the number that is missing and return them in the form of an array.\n",
    "\n",
    "**Example 1:**\n",
    "Input: nums = [1,2,2,4]\n",
    "Output: [2,3]\n",
    "\n",
    "</aside>"
   ]
  },
  {
   "cell_type": "code",
   "execution_count": 110,
   "id": "8af39f1a-5a5c-4ada-b543-b3e3e917a09f",
   "metadata": {},
   "outputs": [],
   "source": [
    "def q8(nums: list):\n",
    "    for i in range(len(nums) - 1):\n",
    "        if nums[i] == nums[i + 1]:\n",
    "            return (nums[i], nums[i] + 1)"
   ]
  },
  {
   "cell_type": "code",
   "execution_count": 112,
   "id": "0f34befc-7261-4fee-adc8-646848604abf",
   "metadata": {},
   "outputs": [
    {
     "name": "stdout",
     "output_type": "stream",
     "text": [
      "(2, 3)\n",
      "(3, 4)\n"
     ]
    }
   ],
   "source": [
    "print(q8(nums=[1,2,2,4]))\n",
    "print(q8(nums=[1,2,3,3]))"
   ]
  },
  {
   "cell_type": "code",
   "execution_count": null,
   "id": "ce68f91f-34df-4180-87b7-79b7851a6399",
   "metadata": {},
   "outputs": [],
   "source": []
  }
 ],
 "metadata": {
  "kernelspec": {
   "display_name": "Python 3 (ipykernel)",
   "language": "python",
   "name": "python3"
  },
  "language_info": {
   "codemirror_mode": {
    "name": "ipython",
    "version": 3
   },
   "file_extension": ".py",
   "mimetype": "text/x-python",
   "name": "python",
   "nbconvert_exporter": "python",
   "pygments_lexer": "ipython3",
   "version": "3.9.13"
  }
 },
 "nbformat": 4,
 "nbformat_minor": 5
}
