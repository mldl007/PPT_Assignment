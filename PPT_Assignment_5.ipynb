{
 "cells": [
  {
   "cell_type": "markdown",
   "id": "9432a55b-595d-473a-8e58-45d6918ce532",
   "metadata": {},
   "source": [
    "<aside>\n",
    "💡 **Question 1**\n",
    "\n",
    "Convert 1D Array Into 2D Array\n",
    "\n",
    "You are given a **0-indexed** 1-dimensional (1D) integer array original, and two integers, m and n. You are tasked with creating a 2-dimensional (2D) array with  m rows and n columns using **all** the elements from original.\n",
    "\n",
    "The elements from indices 0 to n - 1 (**inclusive**) of original should form the first row of the constructed 2D array, the elements from indices n to 2 * n - 1 (**inclusive**) should form the second row of the constructed 2D array, and so on.\n",
    "\n",
    "Return *an* m x n *2D array constructed according to the above procedure, or an empty 2D array if it is impossible*.\n",
    "\n",
    "</aside>"
   ]
  },
  {
   "cell_type": "code",
   "execution_count": 24,
   "id": "54c8e672-0e53-490c-afba-b996cbb58044",
   "metadata": {},
   "outputs": [],
   "source": [
    "def q1(l: list, m: int, n: int):\n",
    "    res = []\n",
    "    res.extend([l[:m], l[n:]])\n",
    "    return res"
   ]
  },
  {
   "cell_type": "code",
   "execution_count": 26,
   "id": "59054193-5975-4481-b1e2-52833f3a6db1",
   "metadata": {},
   "outputs": [
    {
     "name": "stdout",
     "output_type": "stream",
     "text": [
      "[[1, 2], [3, 4]]\n",
      "[[1, 2, 3], [4, 5, 6]]\n"
     ]
    }
   ],
   "source": [
    "print(q1(l=[1,2,3,4], m=2, n=2))\n",
    "print(q1(l=[1,2,3,4,5,6], m=3, n=3))"
   ]
  },
  {
   "cell_type": "markdown",
   "id": "19f8a43b-dc22-49d9-8dbe-4d740cee7559",
   "metadata": {},
   "source": [
    "<aside>\n",
    "💡 **Question 2**\n",
    "\n",
    "You have n coins and you want to build a staircase with these coins. The staircase consists of k rows where the ith row has exactly i coins. The last row of the staircase **may be** incomplete.\n",
    "\n",
    "Given the integer n, return *the number of **complete rows** of the staircase you will build*.\n",
    "\n",
    "</aside>"
   ]
  },
  {
   "cell_type": "code",
   "execution_count": 33,
   "id": "88acd387-5212-4647-8ae6-f2421c1ec316",
   "metadata": {},
   "outputs": [],
   "source": [
    "def q2(n: int):\n",
    "    rows = 0\n",
    "    i = 1   \n",
    "    while n >= i:\n",
    "        n-=i\n",
    "        rows+=1\n",
    "        i+=1\n",
    "    return rows"
   ]
  },
  {
   "cell_type": "code",
   "execution_count": 34,
   "id": "54b12e0a-f1b9-48a3-97e4-d97b591e307b",
   "metadata": {},
   "outputs": [
    {
     "name": "stdout",
     "output_type": "stream",
     "text": [
      "1\n",
      "4\n",
      "5\n"
     ]
    }
   ],
   "source": [
    "print(q2(1))\n",
    "print(q2(10))\n",
    "print(q2(15))"
   ]
  },
  {
   "cell_type": "markdown",
   "id": "a6c6ab96-95fe-4acf-8988-e7bf040761c9",
   "metadata": {},
   "source": [
    "<aside>\n",
    "💡 **Question 3**\n",
    "\n",
    "Given an integer array nums sorted in **non-decreasing** order, return *an array of **the squares of each number** sorted in non-decreasing order*.\n",
    "\n",
    "**Example 1:**\n",
    "\n",
    "**Input:** nums = [-4,-1,0,3,10]\n",
    "\n",
    "**Output:** [0,1,9,16,100]\n",
    "\n",
    "**Explanation:** After squaring, the array becomes [16,1,0,9,100].\n",
    "\n",
    "After sorting, it becomes [0,1,9,16,100].\n",
    "\n",
    "</aside>"
   ]
  },
  {
   "cell_type": "code",
   "execution_count": 35,
   "id": "5cd7af5f-8e16-42ea-8b2a-20a363f65be8",
   "metadata": {},
   "outputs": [],
   "source": [
    "def q3(nums: list):\n",
    "    nums = [i**2 for i in nums]\n",
    "#     bubble sort\n",
    "    for i in range(len(nums) -1):\n",
    "        for j in range(len(nums) -1):\n",
    "            if nums[j] > nums[j+1]:\n",
    "                nums[j], nums[j+1] = nums[j+1], nums[j]\n",
    "    return nums"
   ]
  },
  {
   "cell_type": "code",
   "execution_count": 36,
   "id": "353aec4a-e203-437c-ba9e-f3f3d0e7ff43",
   "metadata": {},
   "outputs": [
    {
     "name": "stdout",
     "output_type": "stream",
     "text": [
      "[0, 1, 9, 16, 100]\n",
      "[1, 9, 16, 100, 400]\n"
     ]
    }
   ],
   "source": [
    "print(q3(nums=[-4,-1,0,3,10]))\n",
    "print(q3(nums=[-4,-1,20,-3,-10]))"
   ]
  },
  {
   "cell_type": "markdown",
   "id": "2f871c1f-7d5b-4061-a375-f771f37aa6d1",
   "metadata": {},
   "source": [
    "<aside>\n",
    "💡 **Question 4**\n",
    "\n",
    "Given two **0-indexed** integer arrays nums1 and nums2, return *a list* answer *of size* 2 *where:*\n",
    "\n",
    "- answer[0] *is a list of all **distinct** integers in* nums1 *which are **not** present in* nums2*.*\n",
    "- answer[1] *is a list of all **distinct** integers in* nums2 *which are **not** present in* nums1.\n",
    "\n",
    "**Note** that the integers in the lists may be returned in **any** order.\n",
    "\n",
    "**Example 1:**\n",
    "\n",
    "**Input:** nums1 = [1,2,3], nums2 = [2,4,6]\n",
    "\n",
    "**Output:** [[1,3],[4,6]]\n",
    "\n",
    "**Explanation:**\n",
    "\n",
    "For nums1, nums1[1] = 2 is present at index 0 of nums2, whereas nums1[0] = 1 and nums1[2] = 3 are not present in nums2. Therefore, answer[0] = [1,3].\n",
    "\n",
    "For nums2, nums2[0] = 2 is present at index 1 of nums1, whereas nums2[1] = 4 and nums2[2] = 6 are not present in nums2. Therefore, answer[1] = [4,6].\n",
    "\n",
    "</aside>"
   ]
  },
  {
   "cell_type": "code",
   "execution_count": 37,
   "id": "0569e8f9-80eb-40cb-89e1-c3d4050e7616",
   "metadata": {},
   "outputs": [],
   "source": [
    "def q4(nums1: list, nums2: list):\n",
    "    nums1 = [*set(nums1)]\n",
    "    nums2 = [*set(nums2)]\n",
    "    len1 = len(nums1)\n",
    "    len2 = len(nums2)\n",
    "    maxlen = len1 if len1 >= len2 else len2\n",
    "    res1 = []\n",
    "    res2 = []\n",
    "    for i in range(maxlen):\n",
    "        if i < len1:\n",
    "            if nums1[i] not in nums2:\n",
    "                res1.append(nums1[i])\n",
    "        if i < len2:\n",
    "            if nums2[i] not in nums1:\n",
    "                res2.append(nums2[i])\n",
    "    return [res1, res2]"
   ]
  },
  {
   "cell_type": "code",
   "execution_count": 38,
   "id": "d2f39776-2324-48c9-b409-081e64ad89e9",
   "metadata": {},
   "outputs": [
    {
     "name": "stdout",
     "output_type": "stream",
     "text": [
      "[[1, 3], [4, 6]]\n",
      "[[1, 3], [4, 6, 7]]\n"
     ]
    }
   ],
   "source": [
    "print(q4(nums1 = [1,2,3], nums2 = [2,4,6]))\n",
    "print(q4(nums1 = [1,2,3], nums2 = [2,4,6,7]))"
   ]
  },
  {
   "cell_type": "markdown",
   "id": "d1a81f36-2d46-4e57-96be-8d2fd96b2741",
   "metadata": {},
   "source": [
    "<aside>\n",
    "💡 **Question 5**\n",
    "\n",
    "Given two integer arrays arr1 and arr2, and the integer d, *return the distance value between the two arrays*.\n",
    "\n",
    "The distance value is defined as the number of elements arr1[i] such that there is not any element arr2[j] where |arr1[i]-arr2[j]| <= d.\n",
    "\n",
    "**Example 1:**\n",
    "\n",
    "**Input:** arr1 = [4,5,8], arr2 = [10,9,1,8], d = 2\n",
    "\n",
    "**Output:** 2\n",
    "\n",
    "**Explanation:**\n",
    "\n",
    "For arr1[0]=4 we have:\n",
    "\n",
    "|4-10|=6 > d=2\n",
    "\n",
    "|4-9|=5 > d=2\n",
    "\n",
    "|4-1|=3 > d=2\n",
    "\n",
    "|4-8|=4 > d=2\n",
    "\n",
    "For arr1[1]=5 we have:\n",
    "\n",
    "|5-10|=5 > d=2\n",
    "\n",
    "|5-9|=4 > d=2\n",
    "\n",
    "|5-1|=4 > d=2\n",
    "\n",
    "|5-8|=3 > d=2\n",
    "\n",
    "For arr1[2]=8 we have:\n",
    "\n",
    "**|8-10|=2 <= d=2**\n",
    "\n",
    "**|8-9|=1 <= d=2**\n",
    "\n",
    "|8-1|=7 > d=2\n",
    "\n",
    "**|8-8|=0 <= d=2**\n",
    "\n",
    "</aside>"
   ]
  },
  {
   "cell_type": "code",
   "execution_count": 137,
   "id": "c58ab0bb-e4df-45ca-8a99-463457f9f454",
   "metadata": {},
   "outputs": [],
   "source": [
    "def q5(arr1, arr2, d):\n",
    "    for i in range(len(arr1)):\n",
    "        a = [1 if abs(arr1[i] - k) <= d else 0 for k in arr2]\n",
    "        if 1 in a:\n",
    "            return i"
   ]
  },
  {
   "cell_type": "code",
   "execution_count": 138,
   "id": "e268eafe-7782-41d3-b378-029a86fc9c0d",
   "metadata": {},
   "outputs": [
    {
     "name": "stdout",
     "output_type": "stream",
     "text": [
      "2\n"
     ]
    }
   ],
   "source": [
    "print(q5(arr1 = [4,5,8], arr2 = [10,9,1,8], d = 2))"
   ]
  },
  {
   "cell_type": "markdown",
   "id": "a76ba73e-0244-4185-8bb4-7189ae2df10b",
   "metadata": {},
   "source": [
    "<aside>\n",
    "💡 **Question 6**\n",
    "\n",
    "Given an integer array nums of length n where all the integers of nums are in the range [1, n] and each integer appears **once** or **twice**, return *an array of all the integers that appears **twice***.\n",
    "\n",
    "You must write an algorithm that runs in O(n) time and uses only constant extra space.\n",
    "\n",
    "**Example 1:**\n",
    "\n",
    "**Input:** nums = [4,3,2,7,8,2,3,1]\n",
    "\n",
    "**Output:**\n",
    "\n",
    "[2,3]\n",
    "\n",
    "</aside>"
   ]
  },
  {
   "cell_type": "code",
   "execution_count": 47,
   "id": "b6250dc4-f742-41fe-aef4-dc407f4e95fb",
   "metadata": {},
   "outputs": [],
   "source": [
    "def q6(nums: list):\n",
    "    d = {}\n",
    "    for i in nums:\n",
    "        if d.get(i) is None:\n",
    "            d[i] = 1\n",
    "        else:\n",
    "            d[i] += 1\n",
    "\n",
    "    return [key for key, value in [*d.items()] if value == 2]"
   ]
  },
  {
   "cell_type": "code",
   "execution_count": 48,
   "id": "5ba9d0a0-3e5f-4cc3-8c5b-879514724271",
   "metadata": {},
   "outputs": [
    {
     "name": "stdout",
     "output_type": "stream",
     "text": [
      "[3, 2]\n"
     ]
    }
   ],
   "source": [
    "print(q6(nums=[4,3,2,7,8,2,3,1]))"
   ]
  },
  {
   "cell_type": "markdown",
   "id": "50c411a9-b11c-4222-8484-4de731aeca44",
   "metadata": {},
   "source": [
    "<aside>\n",
    "💡 **Question 7**\n",
    "\n",
    "Suppose an array of length n sorted in ascending order is **rotated** between 1 and n times. For example, the array nums = [0,1,2,4,5,6,7] might become:\n",
    "\n",
    "- [4,5,6,7,0,1,2] if it was rotated 4 times.\n",
    "- [0,1,2,4,5,6,7] if it was rotated 7 times.\n",
    "\n",
    "Notice that **rotating** an array [a[0], a[1], a[2], ..., a[n-1]] 1 time results in the array [a[n-1], a[0], a[1], a[2], ..., a[n-2]].\n",
    "\n",
    "Given the sorted rotated array nums of **unique** elements, return *the minimum element of this array*.\n",
    "\n",
    "You must write an algorithm that runs in O(log n) time.\n",
    "\n",
    "**Example 1:**\n",
    "\n",
    "**Input:** nums = [3,4,5,1,2]\n",
    "\n",
    "**Output:** 1\n",
    "\n",
    "**Explanation:**\n",
    "\n",
    "The original array was [1,2,3,4,5] rotated 3 times.\n",
    "\n",
    "</aside>"
   ]
  },
  {
   "cell_type": "code",
   "execution_count": 56,
   "id": "86edcfca-0ee7-467c-89fb-1abc465b9cdc",
   "metadata": {},
   "outputs": [],
   "source": [
    "def q7(rotated):\n",
    "    lo = 0\n",
    "    hi = len(rotated) - 1\n",
    "    mid = (lo + hi) // 2\n",
    "    while lo <= hi:\n",
    "        if mid > 0:\n",
    "            mid = (lo + hi) // 2\n",
    "            if rotated[mid - 1] > rotated[mid]:\n",
    "                if mid == 0:\n",
    "                    mid = f\"0 or {len(rotated)}\"\n",
    "                return mid\n",
    "            if rotated[mid] > rotated[hi]:\n",
    "                lo = mid+ 1\n",
    "            else:\n",
    "                hi = mid-1"
   ]
  },
  {
   "cell_type": "code",
   "execution_count": 58,
   "id": "2fa52b39-f93c-4ced-a962-e9ac1e4cf597",
   "metadata": {},
   "outputs": [
    {
     "name": "stdout",
     "output_type": "stream",
     "text": [
      "4\n",
      "0 or 7\n",
      "3\n"
     ]
    }
   ],
   "source": [
    "print(q7([4,5,6,7,0,1,2]))\n",
    "print(q7([0,1,2,4,5,6,7]))\n",
    "print(q7([3,4,5,1,2]))"
   ]
  },
  {
   "cell_type": "markdown",
   "id": "a0feb9f8-2eab-4a37-b82d-e7303cebcdc8",
   "metadata": {},
   "source": [
    "<aside>\n",
    "💡 **Question 8**\n",
    "\n",
    "An integer array original is transformed into a **doubled** array changed by appending **twice the value** of every element in original, and then randomly **shuffling** the resulting array.\n",
    "\n",
    "Given an array changed, return original *if* changed *is a **doubled** array. If* changed *is not a **doubled** array, return an empty array. The elements in* original *may be returned in **any** order*.\n",
    "\n",
    "**Example 1:**\n",
    "\n",
    "**Input:** changed = [1,3,4,2,6,8]\n",
    "\n",
    "**Output:** [1,3,4]\n",
    "\n",
    "**Explanation:** One possible original array could be [1,3,4]:\n",
    "\n",
    "- Twice the value of 1 is 1 * 2 = 2.\n",
    "- Twice the value of 3 is 3 * 2 = 6.\n",
    "- Twice the value of 4 is 4 * 2 = 8.\n",
    "\n",
    "Other original arrays could be [4,3,1] or [3,1,4].\n",
    "\n",
    "</aside>"
   ]
  },
  {
   "cell_type": "code",
   "execution_count": 127,
   "id": "77166753-63a9-49b2-9e6c-a689523083e6",
   "metadata": {},
   "outputs": [],
   "source": [
    "def q8(changed: list):\n",
    "    res = []\n",
    "    for i in range(len(changed)):\n",
    "        if (changed[i] * 2 in changed) and (changed[i] / 2 not in res):\n",
    "            res.append(changed[i])\n",
    "    return res"
   ]
  },
  {
   "cell_type": "code",
   "execution_count": 128,
   "id": "8adb9600-c0ae-456d-9e51-fd1234ad0606",
   "metadata": {},
   "outputs": [
    {
     "name": "stdout",
     "output_type": "stream",
     "text": [
      "[1, 3, 4]\n",
      "[11]\n",
      "[1, 4]\n"
     ]
    }
   ],
   "source": [
    "print(q8(changed=[1,3,4,2,6,8]))\n",
    "print(q8(changed=[1,3,4,11,22,33]))\n",
    "print(q8(changed=[1,4,2,8]))"
   ]
  }
 ],
 "metadata": {
  "kernelspec": {
   "display_name": "Python 3 (ipykernel)",
   "language": "python",
   "name": "python3"
  },
  "language_info": {
   "codemirror_mode": {
    "name": "ipython",
    "version": 3
   },
   "file_extension": ".py",
   "mimetype": "text/x-python",
   "name": "python",
   "nbconvert_exporter": "python",
   "pygments_lexer": "ipython3",
   "version": "3.9.13"
  }
 },
 "nbformat": 4,
 "nbformat_minor": 5
}
