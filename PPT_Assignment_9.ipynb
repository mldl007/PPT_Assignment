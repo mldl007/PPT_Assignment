{
 "cells": [
  {
   "cell_type": "markdown",
   "id": "5f1b025b-c3da-404a-b624-63ba0f393518",
   "metadata": {},
   "source": [
    "<aside>\n",
    "💡 **Question 1**\n",
    "\n",
    "Given an integer `n`, return *`true` if it is a power of two. Otherwise, return `false`*.\n",
    "\n",
    "An integer `n` is a power of two, if there exists an integer `x` such that `n == 2x`.\n",
    "\n",
    "**Example 1:**\n",
    "Input: n = 1 \n",
    "\n",
    "Output: true\n",
    "\n",
    "**Example 2:**\n",
    "Input: n = 16 \n",
    "\n",
    "Output: true\n",
    "\n",
    "**Example 3:**\n",
    "Input: n = 3 \n",
    "\n",
    "Output: false\n",
    "\n",
    "</aside>"
   ]
  },
  {
   "cell_type": "code",
   "execution_count": 1,
   "id": "ea0b7a94-aa68-4fd5-ac06-9213dbb21b03",
   "metadata": {},
   "outputs": [],
   "source": [
    "def q1(n):\n",
    "    def rec(n):\n",
    "        if n/2 <= 1:\n",
    "            return n\n",
    "        else:\n",
    "            return rec(n/2)\n",
    "        \n",
    "    if rec(n) == 2:\n",
    "        return True\n",
    "    return False\n",
    "        "
   ]
  },
  {
   "cell_type": "code",
   "execution_count": 2,
   "id": "96da6e14-eba1-4435-9493-1b8b4ad564e4",
   "metadata": {},
   "outputs": [
    {
     "name": "stdout",
     "output_type": "stream",
     "text": [
      "True\n",
      "False\n",
      "True\n"
     ]
    }
   ],
   "source": [
    "print(q1(2))\n",
    "print(q1(20))\n",
    "print(q1(32))"
   ]
  },
  {
   "cell_type": "markdown",
   "id": "09c6a2c5-034f-488c-ad41-2e357c1ab5d7",
   "metadata": {},
   "source": [
    "<aside>\n",
    "💡 **Question 2**\n",
    "\n",
    "Given a number n, find the sum of the first natural numbers.\n",
    "\n",
    "**Example 1:**\n",
    "\n",
    "Input: n = 3 \n",
    "\n",
    "Output: 6\n",
    "\n",
    "**Example 2:**\n",
    "\n",
    "Input  : 5 \n",
    "\n",
    "Output : 15\n",
    "\n",
    "</aside>"
   ]
  },
  {
   "cell_type": "code",
   "execution_count": 3,
   "id": "7cb1a858-b615-429f-b761-a72a0979e9ad",
   "metadata": {},
   "outputs": [],
   "source": [
    "def q2(n):\n",
    "    if n == 1:\n",
    "        return n\n",
    "    else:\n",
    "        return n + q2(n-1)"
   ]
  },
  {
   "cell_type": "code",
   "execution_count": 10,
   "id": "6e5f1b41-00f9-4b7d-a7ab-50c583c430f2",
   "metadata": {},
   "outputs": [
    {
     "name": "stdout",
     "output_type": "stream",
     "text": [
      "3\n",
      "6\n",
      "15\n",
      "125250\n"
     ]
    }
   ],
   "source": [
    "print(q2(2))\n",
    "print(q2(3))\n",
    "print(q2(5))\n",
    "print(q2(500))"
   ]
  },
  {
   "cell_type": "markdown",
   "id": "0b79d30c-5d64-4751-a276-43e502ddc94f",
   "metadata": {},
   "source": [
    "<aside>\n",
    "💡 **Question 3**\n",
    "\n",
    "****Given a positive integer, N. Find the factorial of N. \n",
    "\n",
    "**Example 1:**\n",
    "\n",
    "Input: N = 5 \n",
    "\n",
    "Output: 120\n",
    "\n",
    "**Example 2:**\n",
    "\n",
    "Input: N = 4\n",
    "\n",
    "Output: 24\n",
    "\n",
    "</aside>"
   ]
  },
  {
   "cell_type": "code",
   "execution_count": 11,
   "id": "bd2ff4db-3874-4bb5-872c-8d1f43caddea",
   "metadata": {},
   "outputs": [],
   "source": [
    "def q3(n):\n",
    "    if n == 1:\n",
    "        return n\n",
    "    else:\n",
    "        return n * q3(n-1)"
   ]
  },
  {
   "cell_type": "code",
   "execution_count": 14,
   "id": "e736ea34-aaa3-42ab-8c7f-90ad59c12795",
   "metadata": {},
   "outputs": [
    {
     "name": "stdout",
     "output_type": "stream",
     "text": [
      "1\n",
      "2\n",
      "6\n",
      "120\n",
      "3628800\n"
     ]
    }
   ],
   "source": [
    "print(q3(1))\n",
    "print(q3(2))\n",
    "print(q3(3))\n",
    "print(q3(5))\n",
    "print(q3(10))"
   ]
  },
  {
   "cell_type": "markdown",
   "id": "fe31994e-f172-4973-a714-5049bea0d609",
   "metadata": {},
   "source": [
    "<aside>\n",
    "💡 **Question 4**\n",
    "\n",
    "Given a number N and a power P, the task is to find the exponent of this number raised to the given power, i.e. N^P.\n",
    "\n",
    "**Example 1 :** \n",
    "\n",
    "Input: N = 5, P = 2\n",
    "\n",
    "Output: 25\n",
    "\n",
    "**Example 2 :**\n",
    "Input: N = 2, P = 5\n",
    "\n",
    "Output: 32\n",
    "\n",
    "</aside>"
   ]
  },
  {
   "cell_type": "code",
   "execution_count": 17,
   "id": "9c7fd213-e120-49dd-a2e5-fa708c2e5dcd",
   "metadata": {},
   "outputs": [],
   "source": [
    "def q4(n, p):\n",
    "    if p == 1:\n",
    "        return n\n",
    "    else:\n",
    "        return n * q4(n, p-1)"
   ]
  },
  {
   "cell_type": "code",
   "execution_count": 21,
   "id": "5c6b5ef3-664a-46d9-bbbf-06937e5168e9",
   "metadata": {},
   "outputs": [
    {
     "name": "stdout",
     "output_type": "stream",
     "text": [
      "125\n",
      "81\n",
      "100000\n"
     ]
    }
   ],
   "source": [
    "print(q4(5,3))\n",
    "print(q4(9,2))\n",
    "print(q4(10,5))"
   ]
  },
  {
   "cell_type": "markdown",
   "id": "ca189759-6ea6-46a0-b63e-2fdbf18a0ad4",
   "metadata": {},
   "source": [
    "<aside>\n",
    "💡 **Question 5**\n",
    "\n",
    "Given an array of integers **arr**, the task is to find maximum element of that array using recursion.\n",
    "\n",
    "**Example 1:**\n",
    "\n",
    "Input: arr = {1, 4, 3, -5, -4, 8, 6};\n",
    "Output: 8\n",
    "\n",
    "**Example 2:**\n",
    "\n",
    "Input: arr = {1, 4, 45, 6, 10, -8};\n",
    "Output: 45\n",
    "\n",
    "</aside>"
   ]
  },
  {
   "cell_type": "code",
   "execution_count": 43,
   "id": "5b7fc305-238f-420e-92ba-ed2cd7db1c2f",
   "metadata": {},
   "outputs": [],
   "source": [
    "def q5(n, arr):\n",
    "    if n == 1:\n",
    "        return arr[0]\n",
    "    else:\n",
    "        return max(arr[n-1], q5(n-1, arr))"
   ]
  },
  {
   "cell_type": "code",
   "execution_count": 44,
   "id": "679693b5-16e6-457d-b13e-85032649efaa",
   "metadata": {},
   "outputs": [
    {
     "name": "stdout",
     "output_type": "stream",
     "text": [
      "4\n",
      "25\n"
     ]
    }
   ],
   "source": [
    "print(q5(5, [1,2,3,4,-5]))\n",
    "print(q5(3, [-3,6,25]))"
   ]
  },
  {
   "cell_type": "markdown",
   "id": "0a467253-6bcd-4a90-b67c-5de9508caf52",
   "metadata": {},
   "source": [
    "<aside>\n",
    "💡 **Question 6**\n",
    "\n",
    "Given first term (a), common difference (d) and a integer N of the Arithmetic Progression series, the task is to find Nth term of the series.\n",
    "\n",
    "**Example 1:**\n",
    "\n",
    "Input : a = 2 d = 1 N = 5\n",
    "Output : 6\n",
    "The 5th term of the series is : 6\n",
    "\n",
    "**Example 2:**\n",
    "\n",
    "Input : a = 5 d = 2 N = 10\n",
    "Output : 23\n",
    "The 10th term of the series is : 23\n",
    "\n",
    "</aside>"
   ]
  },
  {
   "cell_type": "code",
   "execution_count": 74,
   "id": "7fc8e261-ee85-498a-a47c-f361349b6f8e",
   "metadata": {},
   "outputs": [],
   "source": [
    "def q6(a, d, n):\n",
    "    if n == 1:\n",
    "        return a\n",
    "    else:\n",
    "        return q6(a, d, n - 1) + d"
   ]
  },
  {
   "cell_type": "code",
   "execution_count": 76,
   "id": "189de7ba-fbde-43cc-809f-d269c7aa1b09",
   "metadata": {},
   "outputs": [
    {
     "name": "stdout",
     "output_type": "stream",
     "text": [
      "6\n",
      "23\n"
     ]
    }
   ],
   "source": [
    "print(q6(2,1,5))\n",
    "print(q6(5,2,10))"
   ]
  },
  {
   "cell_type": "markdown",
   "id": "96df20f0-5ea6-4af6-b778-d868a6adeef0",
   "metadata": {},
   "source": [
    "<aside>\n",
    "💡 **Question 7**\n",
    "\n",
    "Given a string S, the task is to write a program to print all permutations of a given string.\n",
    "\n",
    "**Example 1:**\n",
    "\n",
    "***Input:***\n",
    "\n",
    "*S = “ABC”*\n",
    "\n",
    "***Output:***\n",
    "\n",
    "*“ABC”, “ACB”, “BAC”, “BCA”, “CBA”, “CAB”*\n",
    "\n",
    "**Example 2:**\n",
    "\n",
    "***Input:***\n",
    "\n",
    "*S = “XY”*\n",
    "\n",
    "***Output:***\n",
    "\n",
    "*“XY”, “YX”*\n",
    "\n",
    "</aside>"
   ]
  },
  {
   "cell_type": "code",
   "execution_count": 57,
   "id": "18fd8957-567b-4537-837c-41a63a271a5b",
   "metadata": {},
   "outputs": [],
   "source": [
    "def q7(s):        \n",
    "    if(len(s) == 1): \n",
    "        return [s]\n",
    "    \n",
    "    result=[]\n",
    "    for i,v in enumerate(s):\n",
    "        result += [v+p for p in q7(s[:i]+s[i+1:])]\n",
    "    return result"
   ]
  },
  {
   "cell_type": "code",
   "execution_count": 59,
   "id": "75c93eb7-2851-4c15-920a-f2950672175f",
   "metadata": {},
   "outputs": [
    {
     "name": "stdout",
     "output_type": "stream",
     "text": [
      "['ABC', 'ACB', 'BAC', 'BCA', 'CAB', 'CBA']\n",
      "['XY', 'YX']\n"
     ]
    }
   ],
   "source": [
    "print(q7('ABC'))\n",
    "print(q7('XY'))"
   ]
  },
  {
   "cell_type": "markdown",
   "id": "20a3e941-21c1-44fe-a107-f6fe977ef7c2",
   "metadata": {},
   "source": [
    "<aside>\n",
    "💡 **Question 8**\n",
    "\n",
    "Given an array, find a product of all array elements.\n",
    "\n",
    "**Example 1:**\n",
    "\n",
    "Input  : arr[] = {1, 2, 3, 4, 5}\n",
    "Output : 120\n",
    "**Example 2:**\n",
    "\n",
    "Input  : arr[] = {1, 6, 3}\n",
    "Output : 18\n",
    "\n",
    "</aside>"
   ]
  },
  {
   "cell_type": "code",
   "execution_count": 41,
   "id": "6a888e79-5a59-4829-8eef-04342463db5a",
   "metadata": {},
   "outputs": [],
   "source": [
    "def q8(n, arr):\n",
    "    if n == 1:\n",
    "        return arr[0]\n",
    "    else:\n",
    "        return arr[n-1] * q8(n-1, arr)"
   ]
  },
  {
   "cell_type": "code",
   "execution_count": 47,
   "id": "d55b340e-18b9-481b-9ed4-de54de6946a7",
   "metadata": {},
   "outputs": [
    {
     "name": "stdout",
     "output_type": "stream",
     "text": [
      "6\n",
      "-24\n"
     ]
    }
   ],
   "source": [
    "print(q8(2, [2,3]))\n",
    "print(q8(4, [2,3,4,-1]))"
   ]
  },
  {
   "cell_type": "code",
   "execution_count": null,
   "id": "afcc3f51-1a3b-4aad-8ccb-5042c6937387",
   "metadata": {},
   "outputs": [],
   "source": []
  }
 ],
 "metadata": {
  "kernelspec": {
   "display_name": "Python 3 (ipykernel)",
   "language": "python",
   "name": "python3"
  },
  "language_info": {
   "codemirror_mode": {
    "name": "ipython",
    "version": 3
   },
   "file_extension": ".py",
   "mimetype": "text/x-python",
   "name": "python",
   "nbconvert_exporter": "python",
   "pygments_lexer": "ipython3",
   "version": "3.9.13"
  }
 },
 "nbformat": 4,
 "nbformat_minor": 5
}
