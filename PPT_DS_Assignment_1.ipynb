{
 "cells": [
  {
   "cell_type": "markdown",
   "id": "32626ef5-a36f-463f-ae9e-2558f859b6bd",
   "metadata": {},
   "source": [
    "1. Write a Python program to reverse a string without using any built-in string reversal functions.\n"
   ]
  },
  {
   "cell_type": "code",
   "execution_count": 3,
   "id": "b9c580a5-5a2c-445c-8ef6-9c19627a453b",
   "metadata": {},
   "outputs": [],
   "source": [
    "def reverse_string(s: str):\n",
    "    return s[::-1]"
   ]
  },
  {
   "cell_type": "code",
   "execution_count": 4,
   "id": "b3882dd3-ab39-42db-b2c0-0c6af436cb67",
   "metadata": {},
   "outputs": [
    {
     "data": {
      "text/plain": [
       "'cba'"
      ]
     },
     "execution_count": 4,
     "metadata": {},
     "output_type": "execute_result"
    }
   ],
   "source": [
    "print(reverse_string(\"abc\"))"
   ]
  },
  {
   "cell_type": "markdown",
   "id": "46d6eb78-674f-4b7d-b676-8668d0c6e599",
   "metadata": {},
   "source": [
    "2. Implement a function to check if a given string is a palindrome.\n"
   ]
  },
  {
   "cell_type": "code",
   "execution_count": 6,
   "id": "ccfbfa3c-bdd1-4ebc-bea1-b388fac66445",
   "metadata": {},
   "outputs": [],
   "source": [
    "def palindrome(s: str):\n",
    "    if s == s[::-1]:\n",
    "        return True\n",
    "    return False"
   ]
  },
  {
   "cell_type": "code",
   "execution_count": 9,
   "id": "b73510a3-539f-47b0-855a-e729ed3faa4f",
   "metadata": {},
   "outputs": [
    {
     "name": "stdout",
     "output_type": "stream",
     "text": [
      "False\n",
      "True\n"
     ]
    }
   ],
   "source": [
    "print(palindrome(\"abcde\"))\n",
    "print(palindrome(\"aba\"))"
   ]
  },
  {
   "cell_type": "markdown",
   "id": "8c53f0ca-bcb1-4afc-8a0f-4b2501534a4b",
   "metadata": {},
   "source": [
    "3. Write a program to find the largest element in a given list.\n"
   ]
  },
  {
   "cell_type": "code",
   "execution_count": 12,
   "id": "c854e702-7d7c-40b8-9042-1edfa18dccc0",
   "metadata": {},
   "outputs": [],
   "source": [
    "def find_max(l: list[int]):\n",
    "    max_ = l[0]\n",
    "    for i in l[1:]:\n",
    "        if i > max_:\n",
    "            max_ = i\n",
    "    return max_"
   ]
  },
  {
   "cell_type": "code",
   "execution_count": 15,
   "id": "46915de0-01a0-4298-a6b5-a27566b2c038",
   "metadata": {},
   "outputs": [
    {
     "name": "stdout",
     "output_type": "stream",
     "text": [
      "5\n",
      "11\n"
     ]
    }
   ],
   "source": [
    "print(find_max([1,2,5,3,2]))\n",
    "print(find_max([11,2,5,3,2,3,6]))"
   ]
  },
  {
   "cell_type": "markdown",
   "id": "8d3ae150-f5c1-41e9-897a-3b3949ac43c4",
   "metadata": {},
   "source": [
    "4. Implement a function to count the occurrence of each element in a list."
   ]
  },
  {
   "cell_type": "code",
   "execution_count": 20,
   "id": "c8f5000c-d7a3-407c-bfda-707ee2f41cd5",
   "metadata": {},
   "outputs": [],
   "source": [
    "def elt_count(l: list):\n",
    "    d = dict()\n",
    "    for i in l:\n",
    "        if d.get(i) is None:\n",
    "            d[i] = 1\n",
    "        else:\n",
    "            d[i] += 1\n",
    "    return d"
   ]
  },
  {
   "cell_type": "code",
   "execution_count": 22,
   "id": "6f6d0d1f-97bc-44bc-a7d8-09d71172525e",
   "metadata": {},
   "outputs": [
    {
     "name": "stdout",
     "output_type": "stream",
     "text": [
      "{1: 2, 2: 2, 5: 2, 6: 1}\n",
      "{1: 1, 2: 1, 3: 1, 4: 1}\n"
     ]
    }
   ],
   "source": [
    "print(elt_count([1,2,5,2,1,5,6]))\n",
    "print(elt_count([1,2,3,4]))"
   ]
  },
  {
   "cell_type": "markdown",
   "id": "8517bc3b-c450-4987-ac73-c741b0e20ea7",
   "metadata": {},
   "source": [
    "5. Write a Python program to find the second largest number in a list.\n"
   ]
  },
  {
   "cell_type": "code",
   "execution_count": 95,
   "id": "2337e0b7-fced-4183-9c77-7edcb781d366",
   "metadata": {},
   "outputs": [],
   "source": [
    "def second_largest(nums: list):\n",
    "#     bubble sort\n",
    "    for i in range(len(nums) -1):\n",
    "        for j in range(len(nums) -1):\n",
    "            if nums[j] > nums[j+1]:\n",
    "                nums[j], nums[j+1] = nums[j+1], nums[j]\n",
    "    return [*set(nums)][1]"
   ]
  },
  {
   "cell_type": "code",
   "execution_count": 97,
   "id": "130f8b67-fb53-4a3a-9203-654fab76d183",
   "metadata": {},
   "outputs": [
    {
     "name": "stdout",
     "output_type": "stream",
     "text": [
      "4\n",
      "2\n"
     ]
    }
   ],
   "source": [
    "print(second_largest([4,2,9,7,11,2]))\n",
    "print(second_largest([5,4,3,2,1]))"
   ]
  },
  {
   "cell_type": "markdown",
   "id": "fe176a93-e1c0-4fd9-b760-031cc0fd5026",
   "metadata": {},
   "source": [
    "6. Implement a function to remove duplicate elements from a list.\n"
   ]
  },
  {
   "cell_type": "code",
   "execution_count": 31,
   "id": "8cb3c978-3fee-4e7a-a648-1092754f37e5",
   "metadata": {},
   "outputs": [],
   "source": [
    "def remove_duplicates(l: list):\n",
    "    new_l = []\n",
    "    for i in l:\n",
    "        if i not in new_l:\n",
    "            new_l.append(i)\n",
    "    return new_l"
   ]
  },
  {
   "cell_type": "code",
   "execution_count": 33,
   "id": "eee9be3f-6643-447c-bd2c-e8669fb05793",
   "metadata": {},
   "outputs": [
    {
     "name": "stdout",
     "output_type": "stream",
     "text": [
      "[1, 4, 2]\n",
      "[1, 2, 3]\n"
     ]
    }
   ],
   "source": [
    "print(remove_duplicates([1,4,2,1,4]))\n",
    "print(remove_duplicates([1,2,3]))"
   ]
  },
  {
   "cell_type": "markdown",
   "id": "7e8da13e-bf8f-4e21-84c4-f5edd858241a",
   "metadata": {},
   "source": [
    "7. Write a program to calculate the factorial of a given number."
   ]
  },
  {
   "cell_type": "code",
   "execution_count": 41,
   "id": "e77a2cac-27da-41da-8471-7c4e4ee80ffb",
   "metadata": {},
   "outputs": [],
   "source": [
    "def factorial(n):\n",
    "    if n <= 1:\n",
    "        return 1\n",
    "    else:\n",
    "        return n * factorial(n-1)"
   ]
  },
  {
   "cell_type": "code",
   "execution_count": 42,
   "id": "ed254ec9-4c87-4537-a957-c76dd34b5796",
   "metadata": {},
   "outputs": [
    {
     "name": "stdout",
     "output_type": "stream",
     "text": [
      "24\n",
      "6\n",
      "1\n",
      "1\n"
     ]
    }
   ],
   "source": [
    "print(factorial(4))\n",
    "print(factorial(3))\n",
    "print(factorial(1))\n",
    "print(factorial(0))"
   ]
  },
  {
   "cell_type": "markdown",
   "id": "78af0479-68fd-429b-af4c-a540743277b9",
   "metadata": {},
   "source": [
    "8. Implement a function to check if a given number is prime.\n"
   ]
  },
  {
   "cell_type": "code",
   "execution_count": 63,
   "id": "2fd97eda-096b-4903-92dd-db1a9984ea40",
   "metadata": {},
   "outputs": [],
   "source": [
    "def prime(n: int):\n",
    "    is_prime = True\n",
    "    for i in range(2, n):\n",
    "        if n % i == 0:\n",
    "            is_prime = False\n",
    "            break\n",
    "    return is_prime"
   ]
  },
  {
   "cell_type": "code",
   "execution_count": 64,
   "id": "e2e3a48d-7672-4b7c-93f5-5b20004e24fb",
   "metadata": {},
   "outputs": [
    {
     "name": "stdout",
     "output_type": "stream",
     "text": [
      "True\n",
      "False\n",
      "True\n"
     ]
    }
   ],
   "source": [
    "print(prime(2))\n",
    "print(prime(6))\n",
    "print(prime(11))"
   ]
  },
  {
   "cell_type": "markdown",
   "id": "6cf7b55f-076e-4c03-b744-d05f417c6705",
   "metadata": {},
   "source": [
    "9. Write a Python program to sort a list of integers in ascending order.\n"
   ]
  },
  {
   "cell_type": "code",
   "execution_count": 366,
   "id": "f8c9847d-3009-4409-a6f8-ab2d6025ea6e",
   "metadata": {},
   "outputs": [],
   "source": [
    "def bubble_sort(nums: list):\n",
    "    for i in range(len(nums) -1):\n",
    "        for j in range(len(nums) -1):\n",
    "            if nums[j] > nums[j+1]:\n",
    "                nums[j], nums[j+1] = nums[j+1], nums[j]\n",
    "    return nums"
   ]
  },
  {
   "cell_type": "code",
   "execution_count": 367,
   "id": "cf00e7e5-61a9-4308-9f5e-1991f6f41557",
   "metadata": {},
   "outputs": [
    {
     "name": "stdout",
     "output_type": "stream",
     "text": [
      "[1, 2, 2, 5, 5, 7, 9]\n"
     ]
    }
   ],
   "source": [
    "print(bubble_sort([5,2,9,7,5,1,2]))"
   ]
  },
  {
   "cell_type": "markdown",
   "id": "fd6d146d-469f-43a3-b13b-4d4153a5e173",
   "metadata": {},
   "source": [
    "10. Implement a function to find the sum of all numbers in a list.\n"
   ]
  },
  {
   "cell_type": "code",
   "execution_count": 66,
   "id": "bed0d67c-2e86-4bca-957a-fbddee12e114",
   "metadata": {},
   "outputs": [],
   "source": [
    "def sum_list(l: list[int, float]):\n",
    "    tot = 0\n",
    "    for i in l:\n",
    "        tot += i\n",
    "    return tot"
   ]
  },
  {
   "cell_type": "code",
   "execution_count": 68,
   "id": "3df639cd-591e-4ab1-9b57-4119ad35cdd4",
   "metadata": {},
   "outputs": [
    {
     "name": "stdout",
     "output_type": "stream",
     "text": [
      "6\n",
      "9\n"
     ]
    }
   ],
   "source": [
    "print(sum_list([1,2,3]))\n",
    "print(sum_list([1,2,3,3]))"
   ]
  },
  {
   "cell_type": "markdown",
   "id": "ebf1955a-e646-4f26-8530-1b1109b22c01",
   "metadata": {},
   "source": [
    "11. Write a program to find the common elements between two lists.\n"
   ]
  },
  {
   "cell_type": "code",
   "execution_count": 78,
   "id": "39fcb748-73bc-4ac7-a598-348c2807da4d",
   "metadata": {},
   "outputs": [],
   "source": [
    "def q11(l1: list, l2: list):\n",
    "    def intersection(l1: list, l2: list):\n",
    "        res = []\n",
    "        for i in l1:\n",
    "            if i in l2:\n",
    "                res.append(i)\n",
    "        return res\n",
    "    \n",
    "    if len(l1) <= len(l2):\n",
    "        return intersection(l1, l2)\n",
    "    return intersection(l2, l1)"
   ]
  },
  {
   "cell_type": "code",
   "execution_count": 84,
   "id": "c67c2552-1cfe-4126-aafb-407ab91ef84a",
   "metadata": {},
   "outputs": [
    {
     "name": "stdout",
     "output_type": "stream",
     "text": [
      "[2, 3]\n",
      "[]\n",
      "[]\n",
      "[1]\n"
     ]
    }
   ],
   "source": [
    "print(q11([2,5,6,8,8,3], [1,2,3]))\n",
    "print(q11([11], [1,2,3]))\n",
    "print(q11([], []))\n",
    "print(q11([1,2,3], [1]))"
   ]
  },
  {
   "cell_type": "markdown",
   "id": "ccfac4b9-6af9-4cfa-8cdb-e2ca9aaa0c3c",
   "metadata": {},
   "source": [
    "12. Implement a function to check if a given string is an anagram of another string."
   ]
  },
  {
   "cell_type": "code",
   "execution_count": 86,
   "id": "195b06f5-d12b-4452-af1f-f8369509c289",
   "metadata": {},
   "outputs": [],
   "source": [
    "def anagram(s1: str, s2: str):\n",
    "    if len(s1) != len(s2):\n",
    "        return False\n",
    "    \n",
    "    for i in s1:\n",
    "        if i not in s2:\n",
    "            return False\n",
    "    return True"
   ]
  },
  {
   "cell_type": "code",
   "execution_count": 94,
   "id": "29427720-1f4e-4eac-9a51-71fae49c24aa",
   "metadata": {},
   "outputs": [
    {
     "name": "stdout",
     "output_type": "stream",
     "text": [
      "True\n",
      "True\n",
      "False\n"
     ]
    }
   ],
   "source": [
    "print(anagram(\"abc\", \"cab\"))\n",
    "print(anagram(\"c\", \"c\"))\n",
    "print(anagram(\"abcd\", \"cab\"))"
   ]
  },
  {
   "cell_type": "markdown",
   "id": "25bdbd60-cb20-4991-8bb2-c652f840b555",
   "metadata": {},
   "source": [
    "13. Write a Python program to generate all permutations of a given string."
   ]
  },
  {
   "cell_type": "code",
   "execution_count": 100,
   "id": "d0a2b0a0-9e97-4691-92b1-febed8ae6fa5",
   "metadata": {},
   "outputs": [],
   "source": [
    "def permutations(s: str):        \n",
    "    if(len(s) == 1): \n",
    "        return [s]\n",
    "    \n",
    "    result=[]\n",
    "    for i,v in enumerate(s):\n",
    "        result += [v+p for p in permutations(s[:i]+s[i+1:])]\n",
    "    return result"
   ]
  },
  {
   "cell_type": "code",
   "execution_count": 102,
   "id": "81e4b5b8-414d-4d7a-a3db-e5e8416931fc",
   "metadata": {},
   "outputs": [
    {
     "name": "stdout",
     "output_type": "stream",
     "text": [
      "['abc', 'acb', 'bac', 'bca', 'cab', 'cba']\n",
      "['ab', 'ba']\n"
     ]
    }
   ],
   "source": [
    "print(permutations(\"abc\"))\n",
    "print(permutations(\"ab\"))"
   ]
  },
  {
   "cell_type": "markdown",
   "id": "e38a9900-beae-48b6-861a-83e6a634243c",
   "metadata": {},
   "source": [
    "14. Implement a function to calculate the Fibonacci sequence up to a given number of terms.\n"
   ]
  },
  {
   "cell_type": "code",
   "execution_count": 112,
   "id": "2aa9f597-e5c5-4ad8-b51d-58a1f3603113",
   "metadata": {},
   "outputs": [],
   "source": [
    "def fibonacci(n: int):\n",
    "    res = [0, 1]\n",
    "    while len(res) < n:\n",
    "        res.append(res[-2] + res[-1])\n",
    "    return res[:n]"
   ]
  },
  {
   "cell_type": "code",
   "execution_count": 114,
   "id": "4d1fcc48-3ad4-434b-b330-bbccaa892e83",
   "metadata": {},
   "outputs": [
    {
     "name": "stdout",
     "output_type": "stream",
     "text": [
      "[0, 1, 1, 2, 3, 5, 8]\n",
      "[0, 1, 1]\n",
      "[0, 1]\n",
      "[0]\n"
     ]
    }
   ],
   "source": [
    "print(fibonacci(7))\n",
    "print(fibonacci(3))\n",
    "print(fibonacci(2))\n",
    "print(fibonacci(1))"
   ]
  },
  {
   "cell_type": "markdown",
   "id": "b9836be9-6f9d-44ab-a45f-858960d57924",
   "metadata": {},
   "source": [
    "15. Write a program to find the median of a list of numbers.\n"
   ]
  },
  {
   "cell_type": "code",
   "execution_count": 117,
   "id": "35d03566-b7e6-4a03-bc94-5d9dd2a00ad3",
   "metadata": {},
   "outputs": [],
   "source": [
    "def median(nums: list):\n",
    "#     bubble sort\n",
    "    for i in range(len(nums) -1):\n",
    "        for j in range(len(nums) -1):\n",
    "            if nums[j] > nums[j+1]:\n",
    "                nums[j], nums[j+1] = nums[j+1], nums[j]\n",
    "    \n",
    "    \n",
    "    mid1 = mid2 = len(nums) // 2\n",
    "    if len(nums) % 2 == 0:\n",
    "        mid2 = len(nums) // 2\n",
    "        mid1 = mid2 - 1 \n",
    "    \n",
    "    return (nums[mid1] + nums[mid2]) / 2"
   ]
  },
  {
   "cell_type": "code",
   "execution_count": 137,
   "id": "c2273d6a-e5e7-4fe8-bfb0-e62c0079ab69",
   "metadata": {},
   "outputs": [
    {
     "name": "stdout",
     "output_type": "stream",
     "text": [
      "1.0\n",
      "3.0\n",
      "3.0\n",
      "7.5\n"
     ]
    }
   ],
   "source": [
    "print(median([1]))\n",
    "print(median([1,7,3,2,8]))\n",
    "print(median([3,7,1]))\n",
    "print(median([11,5,1,10]))"
   ]
  },
  {
   "cell_type": "markdown",
   "id": "412e1bdf-fa9e-492e-bbd2-a0c6e869cb6b",
   "metadata": {},
   "source": [
    "16. Implement a function to check if a given list is sorted in non-decreasing order.\n"
   ]
  },
  {
   "cell_type": "code",
   "execution_count": 140,
   "id": "b21644a4-e3b0-443d-bcdd-decde182eec8",
   "metadata": {},
   "outputs": [],
   "source": [
    "def q16(l: list):\n",
    "    p1 = 0\n",
    "    p2 = 1\n",
    "    while p2 < len(l):\n",
    "        if l[p1] > l[p2]:\n",
    "            return False\n",
    "        p1 += 1\n",
    "        p2 += 1\n",
    "    return True"
   ]
  },
  {
   "cell_type": "code",
   "execution_count": 144,
   "id": "eda6de7f-6633-4a83-b870-6e79c1b81cb6",
   "metadata": {},
   "outputs": [
    {
     "name": "stdout",
     "output_type": "stream",
     "text": [
      "True\n",
      "False\n",
      "False\n"
     ]
    }
   ],
   "source": [
    "print(q16([1,2,3]))\n",
    "print(q16([1,2,0]))\n",
    "print(q16([1,22,30, 1]))"
   ]
  },
  {
   "cell_type": "markdown",
   "id": "38d42482-6acb-4e75-82a3-68b400e3250d",
   "metadata": {},
   "source": [
    "17. Write a Python program to find the intersection of two lists.\n"
   ]
  },
  {
   "cell_type": "code",
   "execution_count": 145,
   "id": "cf37919e-09cd-4706-9510-c8fafddfd5fd",
   "metadata": {},
   "outputs": [],
   "source": [
    "def q17(l1: list, l2: list):\n",
    "    def intersection(l1: list, l2: list):\n",
    "        res = []\n",
    "        for i in l1:\n",
    "            if i in l2:\n",
    "                res.append(i)\n",
    "        return res\n",
    "    \n",
    "    if len(l1) <= len(l2):\n",
    "        return intersection(l1, l2)\n",
    "    return intersection(l2, l1)"
   ]
  },
  {
   "cell_type": "code",
   "execution_count": 146,
   "id": "e08f38ed-0e5f-413b-8153-fb6c57ddc889",
   "metadata": {},
   "outputs": [
    {
     "name": "stdout",
     "output_type": "stream",
     "text": [
      "[2, 3]\n",
      "[]\n",
      "[]\n",
      "[1]\n"
     ]
    }
   ],
   "source": [
    "print(q17([2,5,6,8,8,3], [1,2,3]))\n",
    "print(q17([11], [1,2,3]))\n",
    "print(q17([], []))\n",
    "print(q17([1,2,3], [1]))"
   ]
  },
  {
   "cell_type": "markdown",
   "id": "d606af36-9a29-46f2-80b5-92b00e0b89ce",
   "metadata": {},
   "source": [
    "18. Implement a function to find the maximum subarray sum in a given list.\n"
   ]
  },
  {
   "cell_type": "code",
   "execution_count": 147,
   "id": "7f992d13-cd5f-4cd2-81ec-3e0bc53e3c95",
   "metadata": {},
   "outputs": [],
   "source": [
    "def find_subaray_with_max_sum(l: list):\n",
    "    max_arr_till_now = [l[0], l[1]]\n",
    "    max_till_now = max_arr_till_now[0] + max_arr_till_now[1]\n",
    "    for i in range(len(l) - 1):\n",
    "        max_current = l[i] + l[i+1]\n",
    "        if max_current > max_till_now:\n",
    "            max_arr_till_now = [l[i], l[i+1]]\n",
    "            max_till_now = l[i] + l[i+1]\n",
    "    return max_arr_till_now, max_till_now"
   ]
  },
  {
   "cell_type": "code",
   "execution_count": 148,
   "id": "944bc735-d413-460d-9e8a-84d182b3e842",
   "metadata": {},
   "outputs": [
    {
     "name": "stdout",
     "output_type": "stream",
     "text": [
      "([22, 3], 25)\n",
      "([1, 2], 3)\n",
      "([-1, 2], 1)\n"
     ]
    }
   ],
   "source": [
    "print(find_subaray_with_max_sum([1,22,3,-4]))\n",
    "print(find_subaray_with_max_sum([0,0,1,2]))\n",
    "print(find_subaray_with_max_sum([0,-3,-1,2]))"
   ]
  },
  {
   "cell_type": "markdown",
   "id": "986f3c1f-9d5a-480c-830e-6def73f7633b",
   "metadata": {},
   "source": [
    "19. Write a program to remove all vowels from a given string.\n"
   ]
  },
  {
   "cell_type": "code",
   "execution_count": 149,
   "id": "6199f298-65b4-4c55-bf73-b9a7b603db37",
   "metadata": {},
   "outputs": [],
   "source": [
    "def remove_vowels(s: str):\n",
    "    res = \"\"\n",
    "    for i in s:\n",
    "        if i not in ['a', 'e', 'i', 'o', 'u']:\n",
    "            res += i\n",
    "    return res"
   ]
  },
  {
   "cell_type": "code",
   "execution_count": 151,
   "id": "9a201d57-71cd-4b55-a25e-2bec31316c7f",
   "metadata": {},
   "outputs": [
    {
     "name": "stdout",
     "output_type": "stream",
     "text": [
      "bc\n",
      "\n"
     ]
    }
   ],
   "source": [
    "print(remove_vowels(\"abc\"))\n",
    "print(remove_vowels(\"aeiou\"))"
   ]
  },
  {
   "cell_type": "markdown",
   "id": "ac3703ba-60a2-439f-8cf7-f7e47b2f4254",
   "metadata": {},
   "source": [
    "20. Implement a function to reverse the order of words in a given sentence.\n"
   ]
  },
  {
   "cell_type": "code",
   "execution_count": 152,
   "id": "f2b5eeb5-81b3-4dc8-af2e-8b3a66ced8dc",
   "metadata": {},
   "outputs": [],
   "source": [
    "def reverse_words(s: str):\n",
    "    s_list = s.split()\n",
    "    return \" \".join(s_list[::-1])"
   ]
  },
  {
   "cell_type": "code",
   "execution_count": 155,
   "id": "8fe5076c-d345-4273-904c-f48c3043f395",
   "metadata": {},
   "outputs": [
    {
     "name": "stdout",
     "output_type": "stream",
     "text": [
      "you are how hi\n",
      "world hello\n"
     ]
    }
   ],
   "source": [
    "print(reverse_words(\"hi how are you\"))\n",
    "print(reverse_words(\"hello world\"))"
   ]
  },
  {
   "cell_type": "markdown",
   "id": "e59b3e8d-d91b-48d4-bc2c-51f1955d7889",
   "metadata": {},
   "source": [
    "21. Write a Python program to check if two strings are anagrams of each other.\n"
   ]
  },
  {
   "cell_type": "code",
   "execution_count": 156,
   "id": "f754f9cc-56aa-4cd1-b5fd-bfbafa7c59ec",
   "metadata": {},
   "outputs": [],
   "source": [
    "def anagram(s1: str, s2: str):\n",
    "    if len(s1) != len(s2):\n",
    "        return False\n",
    "    \n",
    "    for i in s1:\n",
    "        if i not in s2:\n",
    "            return False\n",
    "    return True"
   ]
  },
  {
   "cell_type": "code",
   "execution_count": 157,
   "id": "fa4d8a7b-fd94-4816-b26a-d4e77586f86a",
   "metadata": {},
   "outputs": [
    {
     "name": "stdout",
     "output_type": "stream",
     "text": [
      "True\n",
      "True\n",
      "False\n"
     ]
    }
   ],
   "source": [
    "print(anagram(\"abc\", \"cab\"))\n",
    "print(anagram(\"c\", \"c\"))\n",
    "print(anagram(\"abcd\", \"cab\"))"
   ]
  },
  {
   "cell_type": "markdown",
   "id": "7d134304-2420-4179-b5ee-05079d169d3d",
   "metadata": {},
   "source": [
    "22. Implement a function to find the first non-repeating character in a string."
   ]
  },
  {
   "cell_type": "code",
   "execution_count": 170,
   "id": "edf0b30b-1d72-442b-b43f-28ec830e724d",
   "metadata": {},
   "outputs": [],
   "source": [
    "def q22(s: str):\n",
    "    s = list(s)\n",
    "    for i in range(len(s)):\n",
    "        if s[i] not in s[:i] + s[(i+1):]:\n",
    "            return s[i]\n",
    "    return \"\""
   ]
  },
  {
   "cell_type": "code",
   "execution_count": 174,
   "id": "5802b13e-aa7e-43ea-b803-82262c2d7937",
   "metadata": {},
   "outputs": [
    {
     "name": "stdout",
     "output_type": "stream",
     "text": [
      "l\n",
      "t\n",
      "c\n",
      "c\n"
     ]
    }
   ],
   "source": [
    "print(q22(\"leetcode\"))\n",
    "print(q22(\"lleetcode\"))\n",
    "print(q22(\"lleettcode\"))\n",
    "print(q22(\"lleetcodte\"))"
   ]
  },
  {
   "cell_type": "markdown",
   "id": "90fd2ab6-d882-46b5-8864-f25ee07b68e8",
   "metadata": {},
   "source": [
    "23. Write a program to find the prime factors of a given number.\n"
   ]
  },
  {
   "cell_type": "code",
   "execution_count": null,
   "id": "0ffdee17-e7f4-47e9-b002-a714ffb8eb79",
   "metadata": {},
   "outputs": [],
   "source": []
  },
  {
   "cell_type": "markdown",
   "id": "207716e6-ca8d-41e1-89ec-11bda639027e",
   "metadata": {},
   "source": [
    "24. Implement a function to check if a given number is a power of two."
   ]
  },
  {
   "cell_type": "code",
   "execution_count": 207,
   "id": "41d22d01-703e-4ef7-a118-62c974fd5b75",
   "metadata": {},
   "outputs": [],
   "source": [
    "def pow_2(n):\n",
    "    if n == 1:\n",
    "        return True\n",
    "    elif n < 1:\n",
    "        return False\n",
    "    else:\n",
    "        return pow_2(n/2)"
   ]
  },
  {
   "cell_type": "code",
   "execution_count": 216,
   "id": "04dae955-a4d1-46b5-87af-398eaa6fafa3",
   "metadata": {},
   "outputs": [
    {
     "name": "stdout",
     "output_type": "stream",
     "text": [
      "True\n",
      "True\n",
      "True\n",
      "False\n",
      "False\n"
     ]
    }
   ],
   "source": [
    "print(pow_2(2))\n",
    "print(pow_2(4))\n",
    "print(pow_2(64))\n",
    "print(pow_2(640))\n",
    "print(pow_2(5))"
   ]
  },
  {
   "cell_type": "markdown",
   "id": "2a060707-2124-4c7e-926f-97f6201b7d14",
   "metadata": {},
   "source": [
    "25. Write a Python program to merge two sorted lists into a single sorted list.\n"
   ]
  },
  {
   "cell_type": "code",
   "execution_count": 218,
   "id": "88614beb-dc45-4756-bc59-a003d0ef7408",
   "metadata": {},
   "outputs": [],
   "source": [
    "def q25(l1: list, l2: list):\n",
    "    nums = l1 + l2\n",
    "    for i in range(len(nums) -1):\n",
    "        for j in range(len(nums) -1):\n",
    "            if nums[j] > nums[j+1]:\n",
    "                nums[j], nums[j+1] = nums[j+1], nums[j]\n",
    "    return nums"
   ]
  },
  {
   "cell_type": "code",
   "execution_count": 221,
   "id": "7cf64d69-740d-4cb2-86fe-3865c7decbd1",
   "metadata": {},
   "outputs": [
    {
     "name": "stdout",
     "output_type": "stream",
     "text": [
      "[1, 2, 2, 3, 3, 4]\n",
      "[1, 1, 2, 2, 3, 3]\n"
     ]
    }
   ],
   "source": [
    "print(q25([1,2,3], [2,3,4]))\n",
    "print(q25([1,2,3], [1,2,3]))"
   ]
  },
  {
   "cell_type": "markdown",
   "id": "bc58cf0a-5a3a-42b1-8182-fa63e7b72a93",
   "metadata": {},
   "source": [
    "26. Implement a function to find the mode of a list of numbers.\n"
   ]
  },
  {
   "cell_type": "code",
   "execution_count": 239,
   "id": "1b1fdcd5-1ad1-4071-a03d-16796ef31985",
   "metadata": {},
   "outputs": [],
   "source": [
    "def find_mode(l: list):\n",
    "    d = dict()\n",
    "    mode = l[0]\n",
    "    cnt = 1\n",
    "    for i in l:\n",
    "        if d.get(i) is None:\n",
    "            d[i] = 1\n",
    "        else:\n",
    "            d[i] += 1\n",
    "        if d.get(i) > cnt:\n",
    "            cnt += 1\n",
    "            mode = i\n",
    "    return mode"
   ]
  },
  {
   "cell_type": "code",
   "execution_count": null,
   "id": "3627cef1-cc64-4804-9332-cf36422ff569",
   "metadata": {},
   "outputs": [
    {
     "name": "stdout",
     "output_type": "stream",
     "text": [
      "5\n",
      "1\n"
     ]
    }
   ],
   "source": [
    "print(find_mode([5,1,2,9,6,5,3]))\n",
    "print(find_mode([5,1,2,9,6,5,3,1,9,1]))"
   ]
  },
  {
   "cell_type": "markdown",
   "id": "50f1f1af-06bb-431e-8e80-1594e8b5e97d",
   "metadata": {},
   "source": [
    "27. Write a program to find the greatest common divisor (GCD) of two numbers.\n"
   ]
  },
  {
   "cell_type": "code",
   "execution_count": null,
   "id": "862e015a-3fc4-44c0-b2bc-a157d5e5c6b8",
   "metadata": {},
   "outputs": [],
   "source": []
  },
  {
   "cell_type": "markdown",
   "id": "d3ef1867-c03c-42e0-ba74-e96bda84d8c9",
   "metadata": {},
   "source": [
    "28. Implement a function to calculate the square root of a given number."
   ]
  },
  {
   "cell_type": "code",
   "execution_count": 403,
   "id": "439c7cac-ed21-4265-b809-517eb773f80b",
   "metadata": {},
   "outputs": [],
   "source": [
    "def find_sqrt(n):\n",
    "    odd = 1\n",
    "    sqrt = 0\n",
    "    while n > 0:\n",
    "        n -= odd\n",
    "        odd += 2\n",
    "        sqrt += 1\n",
    "    if n == 0:\n",
    "        return sqrt\n",
    "    return -1"
   ]
  },
  {
   "cell_type": "code",
   "execution_count": 412,
   "id": "a06149cd-d808-43ac-8ab3-a9fe42e4dceb",
   "metadata": {},
   "outputs": [
    {
     "name": "stdout",
     "output_type": "stream",
     "text": [
      "1\n",
      "2\n",
      "3\n",
      "10\n",
      "-1\n",
      "-1\n"
     ]
    }
   ],
   "source": [
    "print(find_sqrt(1))\n",
    "print(find_sqrt(4))\n",
    "print(find_sqrt(9))\n",
    "print(find_sqrt(100))\n",
    "print(find_sqrt(13))\n",
    "print(find_sqrt(198))"
   ]
  },
  {
   "cell_type": "markdown",
   "id": "bffb7177-87d6-4a9c-b6c5-b8899af57c13",
   "metadata": {},
   "source": [
    "29. Write a Python program to check if a given string is a valid palindrome ignoring non-alphanumeric characters."
   ]
  },
  {
   "cell_type": "code",
   "execution_count": 255,
   "id": "d2a06318-680a-4204-a89e-89c58902ed2b",
   "metadata": {},
   "outputs": [],
   "source": [
    "def q29(s: str):\n",
    "    new_s = \"\"\n",
    "    for i in s:\n",
    "        if i.isalnum() == True:\n",
    "            new_s += i\n",
    "    \n",
    "    return new_s == new_s[::-1]\n",
    "        "
   ]
  },
  {
   "cell_type": "code",
   "execution_count": 257,
   "id": "823ffca6-6f93-44f0-92bd-888426d1ea78",
   "metadata": {},
   "outputs": [
    {
     "name": "stdout",
     "output_type": "stream",
     "text": [
      "True\n"
     ]
    }
   ],
   "source": [
    "print(q29(\"a;b;,a\"))"
   ]
  },
  {
   "cell_type": "markdown",
   "id": "5de3386c-b065-424a-83e6-512027efaa32",
   "metadata": {},
   "source": [
    "30. Implement a function to find the minimum element in a rotated sorted list.\n"
   ]
  },
  {
   "cell_type": "code",
   "execution_count": 258,
   "id": "1e23f95c-5036-4ba2-80b5-9da2b4c3cc8e",
   "metadata": {},
   "outputs": [],
   "source": [
    "def rotation_min(rotated):\n",
    "    lo = 0\n",
    "    hi = len(rotated) - 1\n",
    "    mid = (lo + hi) // 2\n",
    "    while lo <= hi:\n",
    "        if mid > 0:\n",
    "            mid = (lo + hi) // 2\n",
    "            if rotated[mid - 1] > rotated[mid]:\n",
    "                return rotated[mid]\n",
    "            if rotated[mid] > rotated[hi]:\n",
    "                lo = mid+ 1\n",
    "            else:\n",
    "                hi = mid-1"
   ]
  },
  {
   "cell_type": "code",
   "execution_count": 262,
   "id": "58256a75-1d20-48de-b0bd-4f15f29178dc",
   "metadata": {},
   "outputs": [
    {
     "name": "stdout",
     "output_type": "stream",
     "text": [
      "1\n",
      "-1\n"
     ]
    }
   ],
   "source": [
    "print(rotation_min([6,7, 8,9,10,1,2,3,4,5]))\n",
    "print(rotation_min([5,4,-1,2,3]))"
   ]
  },
  {
   "cell_type": "markdown",
   "id": "bd2a025a-86cc-4f7f-910e-c62225c993b5",
   "metadata": {},
   "source": [
    "31. Write a program to find the sum of all even numbers in a list.\n"
   ]
  },
  {
   "cell_type": "code",
   "execution_count": 261,
   "id": "029b2ebe-c062-4e03-bc72-a1c9af54466c",
   "metadata": {},
   "outputs": [],
   "source": [
    "def sum_even(l: list[int]):\n",
    "    tot = 0\n",
    "    for i in l:\n",
    "        if i % 2 == 0:\n",
    "            tot += i\n",
    "    return tot"
   ]
  },
  {
   "cell_type": "code",
   "execution_count": 263,
   "id": "6b0448a1-c518-4e45-a545-190f61c21268",
   "metadata": {},
   "outputs": [
    {
     "name": "stdout",
     "output_type": "stream",
     "text": [
      "6\n"
     ]
    }
   ],
   "source": [
    "print(sum_even([1,2,3,4,5]))"
   ]
  },
  {
   "cell_type": "markdown",
   "id": "4db0e155-e540-47c4-b1e8-7d0b94181972",
   "metadata": {},
   "source": [
    "32. Implement a function to calculate the power of a number using recursion.\n"
   ]
  },
  {
   "cell_type": "code",
   "execution_count": 266,
   "id": "2777b8f2-fd4e-4608-b55e-c8f9729cefef",
   "metadata": {},
   "outputs": [],
   "source": [
    "def pow(num, power):\n",
    "    if power == 1:\n",
    "        return num\n",
    "    else:\n",
    "        return num * pow(num, power-1)"
   ]
  },
  {
   "cell_type": "code",
   "execution_count": 271,
   "id": "a308f7bd-af01-4e7d-89c7-03f55a2b28b3",
   "metadata": {},
   "outputs": [
    {
     "name": "stdout",
     "output_type": "stream",
     "text": [
      "16\n",
      "27\n"
     ]
    }
   ],
   "source": [
    "print(pow(2,4))\n",
    "print(pow(3,3))"
   ]
  },
  {
   "cell_type": "markdown",
   "id": "5802baa8-7f1c-4294-8b33-6fc96adb3e7b",
   "metadata": {},
   "source": [
    "33. Write a Python program to remove duplicates from a list while preserving the order.\n"
   ]
  },
  {
   "cell_type": "code",
   "execution_count": 272,
   "id": "3451cac6-0422-4555-a2e8-4e059b622a73",
   "metadata": {},
   "outputs": [],
   "source": [
    "def remove_duplicates(l: list):\n",
    "    new_l = []\n",
    "    for i in l:\n",
    "        if i not in new_l:\n",
    "            new_l.append(i)\n",
    "    return new_l"
   ]
  },
  {
   "cell_type": "code",
   "execution_count": 273,
   "id": "62266bee-c3ee-44f1-93a0-7083786c5aa2",
   "metadata": {},
   "outputs": [
    {
     "name": "stdout",
     "output_type": "stream",
     "text": [
      "[1, 4, 2]\n",
      "[1, 2, 3]\n"
     ]
    }
   ],
   "source": [
    "print(remove_duplicates([1,4,2,1,4]))\n",
    "print(remove_duplicates([1,2,3]))"
   ]
  },
  {
   "cell_type": "markdown",
   "id": "8c3cbb50-5d28-4bbf-aaab-765cdddbbcff",
   "metadata": {},
   "source": [
    "34. Implement a function to find the longest common prefix among a list of strings."
   ]
  },
  {
   "cell_type": "code",
   "execution_count": 274,
   "id": "964b0348-9132-4a6c-9ad1-2e87cea88bc7",
   "metadata": {},
   "outputs": [],
   "source": [
    "def longest_prefix(s1: str, s2: str):\n",
    "    def find_prefix(s1: str, s2: str):\n",
    "        prefix = \"\"\n",
    "        for i in range(len(s1)):\n",
    "            if s1[i] != s2[i]:\n",
    "                break\n",
    "            prefix += s1[i]\n",
    "        return prefix\n",
    "    \n",
    "    if len(s1) <= len(s2):\n",
    "        return find_prefix(s1, s2)\n",
    "    return find_prefix(s2, s1)"
   ]
  },
  {
   "cell_type": "code",
   "execution_count": 276,
   "id": "a5c05492-324d-4364-8170-8ccd7f9c18b9",
   "metadata": {},
   "outputs": [
    {
     "name": "stdout",
     "output_type": "stream",
     "text": [
      "fl\n",
      "pla\n"
     ]
    }
   ],
   "source": [
    "print(longest_prefix(\"flat\", \"flower\"))\n",
    "print(longest_prefix(\"plane\", \"plate\"))"
   ]
  },
  {
   "cell_type": "markdown",
   "id": "2b46f5b1-a368-469d-bb71-87994fe6bcd0",
   "metadata": {},
   "source": [
    "35. Write a program to check if a given number is a perfect square."
   ]
  },
  {
   "cell_type": "code",
   "execution_count": 414,
   "id": "128b2c7f-27ea-429d-acdf-077761fd9af7",
   "metadata": {},
   "outputs": [],
   "source": [
    "def is_square(n):\n",
    "    odd = 1\n",
    "    while n > 0:\n",
    "        n -= odd\n",
    "        odd += 2\n",
    "    if n == 0:\n",
    "        return True\n",
    "    return False"
   ]
  },
  {
   "cell_type": "code",
   "execution_count": 418,
   "id": "270aa0fc-91d3-4164-8cbf-4c6ae4906728",
   "metadata": {},
   "outputs": [
    {
     "name": "stdout",
     "output_type": "stream",
     "text": [
      "True\n",
      "True\n",
      "True\n",
      "False\n",
      "False\n"
     ]
    }
   ],
   "source": [
    "print(is_square(1))\n",
    "print(is_square(4))\n",
    "print(is_square(121))\n",
    "print(is_square(12))\n",
    "print(is_square(120))"
   ]
  },
  {
   "cell_type": "markdown",
   "id": "bf21568a-348b-42a2-905b-f9c8fc9bf126",
   "metadata": {},
   "source": [
    "36. Implement a function to calculate the product of all elements in a list.\n"
   ]
  },
  {
   "cell_type": "code",
   "execution_count": 277,
   "id": "28877348-ba6f-48da-8914-a41b16f1fd3b",
   "metadata": {},
   "outputs": [],
   "source": [
    "def prod(l: list):\n",
    "    p = 1\n",
    "    for i in l:\n",
    "        p *= i\n",
    "    return p"
   ]
  },
  {
   "cell_type": "code",
   "execution_count": 279,
   "id": "01308f18-d848-4691-9f84-0229275cae55",
   "metadata": {},
   "outputs": [
    {
     "name": "stdout",
     "output_type": "stream",
     "text": [
      "6\n"
     ]
    }
   ],
   "source": [
    "print(prod([1,2,3]))"
   ]
  },
  {
   "cell_type": "markdown",
   "id": "8eae907e-4b33-4df2-8e55-aa5810c1124a",
   "metadata": {},
   "source": [
    "37. Write a Python program to reverse the order of words in a sentence while preserving the word order.\n"
   ]
  },
  {
   "cell_type": "code",
   "execution_count": 282,
   "id": "1e2184b1-a9ba-4532-92e1-6438edb12b2f",
   "metadata": {},
   "outputs": [],
   "source": [
    "def reverse_words(s: str):\n",
    "    s_list = s.split()\n",
    "    return \" \".join(s_list[::-1])"
   ]
  },
  {
   "cell_type": "code",
   "execution_count": 283,
   "id": "63d6447c-efcc-45ee-8b7e-64409cc14562",
   "metadata": {},
   "outputs": [
    {
     "name": "stdout",
     "output_type": "stream",
     "text": [
      "you are how hi\n",
      "world hello\n"
     ]
    }
   ],
   "source": [
    "print(reverse_words(\"hi how are you\"))\n",
    "print(reverse_words(\"hello world\"))"
   ]
  },
  {
   "cell_type": "markdown",
   "id": "e63e0472-a5d5-440b-8ff3-4cc65692f742",
   "metadata": {},
   "source": [
    "38. Implement a function to find the missing number in a given list of consecutive numbers.\n"
   ]
  },
  {
   "cell_type": "code",
   "execution_count": 285,
   "id": "a2b1deb4-6433-4c15-a393-e78fc9f9d8c5",
   "metadata": {},
   "outputs": [],
   "source": [
    "def missing_num(l: list):\n",
    "    p1 = 0\n",
    "    p2 = 1\n",
    "    while p2 < len(l):\n",
    "        if l[p2] != l[p1] + 1:\n",
    "            return l[p1] + 1\n",
    "        p1 += 1\n",
    "        p2 += 1"
   ]
  },
  {
   "cell_type": "code",
   "execution_count": 288,
   "id": "3974d137-2040-4dee-a0a6-bf14bf4698dc",
   "metadata": {},
   "outputs": [
    {
     "name": "stdout",
     "output_type": "stream",
     "text": [
      "9\n",
      "7\n"
     ]
    }
   ],
   "source": [
    "print(missing_num([7,8,10,11]))\n",
    "print(missing_num([5,6,8,9]))"
   ]
  },
  {
   "cell_type": "markdown",
   "id": "02db2788-0827-4ed6-880b-a2c333ae1efd",
   "metadata": {},
   "source": [
    "39. Write a program to find the sum of digits of a given number."
   ]
  },
  {
   "cell_type": "code",
   "execution_count": 291,
   "id": "64be2fd8-5f1f-405b-88c7-0f88a21f9d8a",
   "metadata": {},
   "outputs": [],
   "source": [
    "def sum_digits(num: int):\n",
    "    return sum([int(i) for i in list(str(num))])"
   ]
  },
  {
   "cell_type": "code",
   "execution_count": 293,
   "id": "0ba9eba2-afde-4a5b-8a14-7ace481db897",
   "metadata": {},
   "outputs": [
    {
     "name": "stdout",
     "output_type": "stream",
     "text": [
      "6\n",
      "2\n"
     ]
    }
   ],
   "source": [
    "print(sum_digits(123))\n",
    "print(sum_digits(11))"
   ]
  },
  {
   "cell_type": "markdown",
   "id": "403afa02-22bd-4970-8b5f-db5349a1cfcb",
   "metadata": {},
   "source": [
    "40. Implement a function to check if a given string is a valid palindrome considering case sensitivity.\n"
   ]
  },
  {
   "cell_type": "code",
   "execution_count": 294,
   "id": "cfef38e0-dd91-4ec7-be50-60dbdf63b162",
   "metadata": {},
   "outputs": [],
   "source": [
    "def palindrome(s: str):\n",
    "    if s == s[::-1]:\n",
    "        return True\n",
    "    return False"
   ]
  },
  {
   "cell_type": "code",
   "execution_count": 296,
   "id": "2305c365-2429-4beb-acb5-1491b5619f8e",
   "metadata": {},
   "outputs": [
    {
     "name": "stdout",
     "output_type": "stream",
     "text": [
      "False\n",
      "False\n",
      "True\n"
     ]
    }
   ],
   "source": [
    "print(palindrome(\"abcde\"))\n",
    "print(palindrome(\"abA\"))\n",
    "print(palindrome(\"AaBaA\"))"
   ]
  },
  {
   "cell_type": "markdown",
   "id": "cfce70a9-59e9-4080-9569-674703aa954b",
   "metadata": {},
   "source": [
    "41. Write a Python program to find the smallest missing positive integer in a list.\n"
   ]
  },
  {
   "cell_type": "code",
   "execution_count": null,
   "id": "aa3bfa8b-a135-4ad9-96bb-a69eeae28a7a",
   "metadata": {},
   "outputs": [],
   "source": []
  },
  {
   "cell_type": "markdown",
   "id": "8aafb3e8-f682-471e-87ba-7a95eda577f7",
   "metadata": {},
   "source": [
    "42. Implement a function to find the longest palindrome substring in a given string.\n"
   ]
  },
  {
   "cell_type": "code",
   "execution_count": null,
   "id": "f6f4465e-2831-4847-b427-c410148a2efe",
   "metadata": {},
   "outputs": [],
   "source": []
  },
  {
   "cell_type": "markdown",
   "id": "a7c79810-e5fb-40a1-8c7f-afc1c35cc38c",
   "metadata": {},
   "source": [
    "43. Write a program to find the number of occurrences of a given element in a list."
   ]
  },
  {
   "cell_type": "code",
   "execution_count": 357,
   "id": "e3da4937-8d66-4299-b13c-011931499327",
   "metadata": {},
   "outputs": [],
   "source": [
    "def count_elt(l: list, s):\n",
    "    lo = 0\n",
    "    hi = len(l) - 1\n",
    "    cnt = 0\n",
    "    while(lo <= hi):\n",
    "        if l[lo] == s:\n",
    "            cnt += 1\n",
    "        if l[hi] == s:\n",
    "            if lo != hi:\n",
    "                cnt += 1\n",
    "        lo += 1\n",
    "        hi -= 1\n",
    "    return cnt"
   ]
  },
  {
   "cell_type": "code",
   "execution_count": 362,
   "id": "daaac80d-6fe5-47b8-8373-745ccc098086",
   "metadata": {},
   "outputs": [
    {
     "name": "stdout",
     "output_type": "stream",
     "text": [
      "2\n",
      "1\n",
      "0\n",
      "1\n",
      "0\n"
     ]
    }
   ],
   "source": [
    "print(count_elt([5,3,5,7,2], 5))\n",
    "print(count_elt([5,3,7,2], 5))\n",
    "print(count_elt([3,7,2], 5))\n",
    "print(count_elt([5], 5))\n",
    "print(count_elt([], 5))"
   ]
  },
  {
   "cell_type": "markdown",
   "id": "b5761710-7236-4d5f-8745-7a825ed28d1e",
   "metadata": {},
   "source": [
    "44. Implement a function to check if a given number is a perfect number.\n"
   ]
  },
  {
   "cell_type": "code",
   "execution_count": 368,
   "id": "6567a4b9-a931-42c6-9cd2-2a1ea57a7ec6",
   "metadata": {},
   "outputs": [],
   "source": [
    "def perfect_num(n: int):\n",
    "    factors = [1]\n",
    "    for i in range(2, n):\n",
    "        if n % i == 0:\n",
    "            factors.append(i)\n",
    "    if sum(factors) == n:\n",
    "        return True\n",
    "    return False"
   ]
  },
  {
   "cell_type": "code",
   "execution_count": 377,
   "id": "fe6d7e6c-a804-41a7-bb08-0a45b2e1fd4f",
   "metadata": {},
   "outputs": [
    {
     "name": "stdout",
     "output_type": "stream",
     "text": [
      "True\n",
      "True\n",
      "True\n",
      "True\n",
      "False\n",
      "False\n"
     ]
    }
   ],
   "source": [
    "print(perfect_num(6))\n",
    "print(perfect_num(28))\n",
    "print(perfect_num(496))\n",
    "print(perfect_num(8128))\n",
    "print(perfect_num(81))\n",
    "print(perfect_num(810))"
   ]
  },
  {
   "cell_type": "markdown",
   "id": "95878e6b-fdf3-43f3-9896-d42ef54a09e6",
   "metadata": {},
   "source": [
    "45. Write a Python program to remove all duplicates from a string.\n"
   ]
  },
  {
   "cell_type": "code",
   "execution_count": 363,
   "id": "6775a65f-3a8f-4d90-a6d1-05387a5d28ca",
   "metadata": {},
   "outputs": [],
   "source": [
    "def remove_duplicates(s):\n",
    "    new_s = []\n",
    "    for i in s:\n",
    "        if i not in new_s:\n",
    "            new_s.append(i)\n",
    "    return \"\".join(new_s)"
   ]
  },
  {
   "cell_type": "code",
   "execution_count": 365,
   "id": "8fffd650-5f7f-48db-8ae7-741c9b1182ff",
   "metadata": {},
   "outputs": [
    {
     "name": "stdout",
     "output_type": "stream",
     "text": [
      "ab\n",
      "abcd\n"
     ]
    }
   ],
   "source": [
    "print(remove_duplicates(\"abaa\"))\n",
    "print(remove_duplicates(\"aabbccd\"))"
   ]
  },
  {
   "cell_type": "markdown",
   "id": "2678cfbd-7d62-4ae1-8fd2-335fca814127",
   "metadata": {},
   "source": [
    "46. Implement a function to find the first missing positive\n"
   ]
  },
  {
   "cell_type": "code",
   "execution_count": null,
   "id": "50539ae4-eb26-4fc4-950f-9abfbe9784dc",
   "metadata": {},
   "outputs": [],
   "source": []
  }
 ],
 "metadata": {
  "kernelspec": {
   "display_name": "Python 3 (ipykernel)",
   "language": "python",
   "name": "python3"
  },
  "language_info": {
   "codemirror_mode": {
    "name": "ipython",
    "version": 3
   },
   "file_extension": ".py",
   "mimetype": "text/x-python",
   "name": "python",
   "nbconvert_exporter": "python",
   "pygments_lexer": "ipython3",
   "version": "3.9.13"
  }
 },
 "nbformat": 4,
 "nbformat_minor": 5
}
