{
 "cells": [
  {
   "cell_type": "markdown",
   "id": "d845f534-55da-46d5-9393-ac1b552052fd",
   "metadata": {},
   "source": [
    "<aside>\n",
    "💡 **Question 1**\n",
    "\n",
    "Given two strings s1 and s2, return *the lowest **ASCII** sum of deleted characters to make two strings equal*.\n",
    "\n",
    "**Example 1:**\n",
    "\n",
    "**Input:** s1 = \"sea\", s2 = \"eat\"\n",
    "\n",
    "**Output:** 231\n",
    "\n",
    "**Explanation:** Deleting \"s\" from \"sea\" adds the ASCII value of \"s\" (115) to the sum.\n",
    "\n",
    "Deleting \"t\" from \"eat\" adds 116 to the sum.\n",
    "\n",
    "At the end, both strings are equal, and 115 + 116 = 231 is the minimum sum possible to achieve this.\n",
    "\n",
    "</aside>"
   ]
  },
  {
   "cell_type": "code",
   "execution_count": 12,
   "id": "570dbe1e-552e-478c-a91d-c64e6db37905",
   "metadata": {},
   "outputs": [],
   "source": [
    "def q1(s1: str, s2: str):\n",
    "    s1 = set(s1)\n",
    "    s2 = set(s2)\n",
    "    return ord([*s1.difference(s2)][0]) + ord([*s2.difference(s1)][0])"
   ]
  },
  {
   "cell_type": "code",
   "execution_count": 15,
   "id": "66e18728-eb44-4d96-84b2-d5f59f4fd4ad",
   "metadata": {},
   "outputs": [
    {
     "name": "stdout",
     "output_type": "stream",
     "text": [
      "231\n",
      "227\n"
     ]
    }
   ],
   "source": [
    "print(q1(s1 = \"sea\", s2 = \"eat\"))\n",
    "print(q1(s1 = \"sea\", s2 = \"pea\"))"
   ]
  },
  {
   "cell_type": "markdown",
   "id": "2c392d90-a2ed-4c48-83e6-b8fdbd6d6f21",
   "metadata": {},
   "source": [
    "<aside>\n",
    "💡 **Question 2**\n",
    "\n",
    "Given a string s containing only three types of characters: '(', ')' and '*', return true *if* s *is **valid***.\n",
    "\n",
    "The following rules define a **valid** string:\n",
    "\n",
    "- Any left parenthesis '(' must have a corresponding right parenthesis ')'.\n",
    "- Any right parenthesis ')' must have a corresponding left parenthesis '('.\n",
    "- Left parenthesis '(' must go before the corresponding right parenthesis ')'.\n",
    "- '*' could be treated as a single right parenthesis ')' or a single left parenthesis '(' or an empty string \"\".\n",
    "\n",
    "**Example 1:**\n",
    "\n",
    "**Input:** s = \"()\"\n",
    "\n",
    "**Output:**\n",
    "\n",
    "true\n",
    "\n",
    "</aside>"
   ]
  },
  {
   "cell_type": "code",
   "execution_count": 47,
   "id": "38713966-d556-47ec-a749-f3b7bf6fb0b0",
   "metadata": {},
   "outputs": [],
   "source": [
    "def q2(s: str):\n",
    "    left_par = 0\n",
    "    right_par = 0\n",
    "    for i in range(len(s)):\n",
    "        if s[i] == \"(\":\n",
    "            left_par += 1\n",
    "        elif s[i] == \"*\":\n",
    "            if left_par > 0:\n",
    "                left_par -= 1\n",
    "                right_par += 1\n",
    "            elif right_par > 0:\n",
    "                right_par -= 1\n",
    "        else:\n",
    "            if left_par > 0:\n",
    "                left_par -= 1\n",
    "                right_par += 1\n",
    "            else:\n",
    "                return False\n",
    "    if left_par == 0:\n",
    "        return True\n",
    "    return False"
   ]
  },
  {
   "cell_type": "code",
   "execution_count": 56,
   "id": "2a884a4e-0fd2-4189-999e-90d56cef6889",
   "metadata": {},
   "outputs": [
    {
     "name": "stdout",
     "output_type": "stream",
     "text": [
      "True\n",
      "True\n",
      "True\n",
      "False\n",
      "True\n",
      "False\n"
     ]
    }
   ],
   "source": [
    "print(q2(s=\"(())(*\"))\n",
    "print(q2(s=\"(())\"))\n",
    "print(q2(s=\"(())*\"))\n",
    "print(q2(s=\"(()\"))\n",
    "print(q2(s=\"(*\"))\n",
    "print(q2(s=\"((\"))"
   ]
  },
  {
   "cell_type": "markdown",
   "id": "ed7fb9ba-d766-44be-ab88-4ec9412ca3e3",
   "metadata": {},
   "source": [
    "<aside>\n",
    "💡 **Question 3**\n",
    "\n",
    "Given two strings word1 and word2, return *the minimum number of **steps** required to make* word1 *and* word2 *the same*.\n",
    "\n",
    "In one **step**, you can delete exactly one character in either string.\n",
    "\n",
    "**Example 1:**\n",
    "\n",
    "**Input:** word1 = \"sea\", word2 = \"eat\"\n",
    "\n",
    "**Output:** 2\n",
    "\n",
    "**Explanation:** You need one step to make \"sea\" to \"ea\" and another step to make \"eat\" to \"ea\".\n",
    "\n",
    "</aside>"
   ]
  },
  {
   "cell_type": "code",
   "execution_count": 78,
   "id": "b1545de0-11b1-46e2-aa67-fef243d81189",
   "metadata": {},
   "outputs": [],
   "source": [
    "def q3(s1: str, s2: str):\n",
    "    s1_ = set(s1)\n",
    "    s2_ = set(s2)\n",
    "    s1_rep = len(s1) - len(s1_)\n",
    "    s2_rep = len(s2) - len(s2_)\n",
    "    if s1_rep == s2_rep:\n",
    "        s1_rep = s2_rep = 0\n",
    "    return len([*s1_.difference(s2_)] + [*s2_.difference(s1_)]) + s1_rep + s2_rep"
   ]
  },
  {
   "cell_type": "code",
   "execution_count": 83,
   "id": "23f2aa4e-8f22-425c-b346-30279b248476",
   "metadata": {},
   "outputs": [
    {
     "name": "stdout",
     "output_type": "stream",
     "text": [
      "2\n",
      "4\n",
      "2\n",
      "4\n"
     ]
    }
   ],
   "source": [
    "print(q3(s1=\"eat\", s2=\"sea\"))\n",
    "print(q3(s1=\"auto\", s2=\"moto\"))\n",
    "print(q3(s1=\"moto\", s2=\"boto\"))\n",
    "print(q3(s1=\"moto\", s2=\"bota\"))"
   ]
  },
  {
   "cell_type": "markdown",
   "id": "4fdaba9b-b9eb-4b00-b3ee-8952e866cb36",
   "metadata": {},
   "source": [
    "<aside>\n",
    "💡 **Question 4**\n",
    "\n",
    "You need to construct a binary tree from a string consisting of parenthesis and integers.\n",
    "\n",
    "The whole input represents a binary tree. It contains an integer followed by zero, one or two pairs of parenthesis. The integer represents the root's value and a pair of parenthesis contains a child binary tree with the same structure.\n",
    "You always start to construct the **left** child node of the parent first if it exists.\n",
    "\n",
    "</aside>\n",
    "\n",
    "**Input:** s = \"4(2(3)(1))(6(5))\"\n",
    "\n",
    "**Output:** [4,2,6,3,1,5]"
   ]
  },
  {
   "cell_type": "code",
   "execution_count": null,
   "id": "44f6ef2c-d0c6-4512-93bd-e5a591591633",
   "metadata": {},
   "outputs": [],
   "source": []
  },
  {
   "cell_type": "markdown",
   "id": "d5155049-ad3a-46fa-9527-be1962c6b084",
   "metadata": {},
   "source": [
    "<aside>\n",
    "💡 **Question 5**\n",
    "\n",
    "Given an array of characters chars, compress it using the following algorithm:\n",
    "\n",
    "Begin with an empty string s. For each group of **consecutive repeating characters** in chars:\n",
    "\n",
    "- If the group's length is 1, append the character to s.\n",
    "- Otherwise, append the character followed by the group's length.\n",
    "\n",
    "The compressed string s **should not be returned separately**, but instead, be stored **in the input character array chars**. Note that group lengths that are 10 or longer will be split into multiple characters in chars.\n",
    "\n",
    "After you are done **modifying the input array,** return *the new length of the array*.\n",
    "\n",
    "You must write an algorithm that uses only constant extra space.\n",
    "\n",
    "**Example 1:**\n",
    "\n",
    "**Input:** chars = [\"a\",\"a\",\"b\",\"b\",\"c\",\"c\",\"c\"]\n",
    "\n",
    "**Output:** Return 6, and the first 6 characters of the input array should be: [\"a\",\"2\",\"b\",\"2\",\"c\",\"3\"]\n",
    "\n",
    "**Explanation:**\n",
    "\n",
    "The groups are \"aa\", \"bb\", and \"ccc\". This compresses to \"a2b2c3\".\n",
    "\n",
    "</aside>"
   ]
  },
  {
   "cell_type": "code",
   "execution_count": 17,
   "id": "31f2208d-c3d9-4c4a-992f-df979c0f8d47",
   "metadata": {},
   "outputs": [],
   "source": [
    "def q5(chars: list):\n",
    "    i = 1\n",
    "    cnt = 1\n",
    "    res = []\n",
    "    while i < len(chars):\n",
    "        current_char = chars[i-1]    \n",
    "        if chars[i] == current_char:\n",
    "            cnt+=1\n",
    "\n",
    "        if (chars[i] != current_char):\n",
    "            res.append(current_char)\n",
    "            res.append(cnt)\n",
    "            cnt = 1\n",
    "\n",
    "        if (i == len(chars) -1):\n",
    "            if cnt != 1:\n",
    "                res.append(current_char)\n",
    "            else:\n",
    "                res.append(chars[i])\n",
    "            res.append(cnt)\n",
    "\n",
    "        i += 1 \n",
    "    return res"
   ]
  },
  {
   "cell_type": "code",
   "execution_count": 18,
   "id": "1a781a29-e27b-47a4-83a0-9141d300640f",
   "metadata": {},
   "outputs": [
    {
     "name": "stdout",
     "output_type": "stream",
     "text": [
      "['a', 2, 'b', 2, 'c', 3]\n",
      "['a', 2, 'b', 2, 'c', 3, 'd', 1]\n",
      "['a', 1, 'k', 1, 'b', 2, 'c', 3, 'd', 1]\n"
     ]
    }
   ],
   "source": [
    "print(q5(chars = [\"a\",\"a\",\"b\",\"b\",\"c\",\"c\",\"c\"]))\n",
    "print(q5(chars = [\"a\",\"a\",\"b\",\"b\",\"c\",\"c\",\"c\",\"d\"]))\n",
    "print(q5(chars = [\"a\",'k',\"b\",\"b\",\"c\",\"c\",\"c\",\"d\"]))"
   ]
  },
  {
   "cell_type": "markdown",
   "id": "e050770e-5124-4052-a323-3dcd6c602e6d",
   "metadata": {},
   "source": [
    "<aside>\n",
    "💡 **Question 6**\n",
    "\n",
    "Given two strings s and p, return *an array of all the start indices of* p*'s anagrams in* s. You may return the answer in **any order**.\n",
    "\n",
    "An **Anagram** is a word or phrase formed by rearranging the letters of a different word or phrase, typically using all the original letters exactly once.\n",
    "\n",
    "**Example 1:**\n",
    "\n",
    "**Input:** s = \"cbaebabacd\", p = \"abc\"\n",
    "\n",
    "**Output:** [0,6]\n",
    "\n",
    "**Explanation:**\n",
    "\n",
    "The substring with start index = 0 is \"cba\", which is an anagram of \"abc\".\n",
    "\n",
    "The substring with start index = 6 is \"bac\", which is an anagram of \"abc\".\n",
    "\n",
    "</aside>"
   ]
  },
  {
   "cell_type": "code",
   "execution_count": 19,
   "id": "d31d2a14-fdb6-4c02-ab68-d2646b34249b",
   "metadata": {},
   "outputs": [],
   "source": [
    "def q6(s: str, p: str):\n",
    "    l = 0\n",
    "    r = len(p)\n",
    "    res = []\n",
    "    while r <= len(s):\n",
    "        if set(s[l:r]) == set(p):\n",
    "            res.append(l)\n",
    "        l += 1\n",
    "        r += 1\n",
    "    return res"
   ]
  },
  {
   "cell_type": "code",
   "execution_count": 20,
   "id": "91f290e3-8981-47fc-95ee-96d031f883d3",
   "metadata": {},
   "outputs": [
    {
     "name": "stdout",
     "output_type": "stream",
     "text": [
      "[0, 6]\n",
      "[0, 3]\n"
     ]
    }
   ],
   "source": [
    "print(q6( s = \"cbaebabacd\", p = \"abc\"))\n",
    "print(q6( s = \"abccba\", p = \"abc\"))"
   ]
  },
  {
   "cell_type": "markdown",
   "id": "929c644a-724b-4604-92bf-4b8f0c81fcdc",
   "metadata": {},
   "source": [
    "<aside>\n",
    "💡 **Question 7**\n",
    "\n",
    "Given an encoded string, return its decoded string.\n",
    "\n",
    "The encoding rule is: k[encoded_string], where the encoded_string inside the square brackets is being repeated exactly k times. Note that k is guaranteed to be a positive integer.\n",
    "\n",
    "You may assume that the input string is always valid; there are no extra white spaces, square brackets are well-formed, etc. Furthermore, you may assume that the original data does not contain any digits and that digits are only for those repeat numbers, k. For example, there will not be input like 3a or 2[4].\n",
    "\n",
    "The test cases are generated so that the length of the output will never exceed 105.\n",
    "\n",
    "**Example 1:**\n",
    "\n",
    "**Input:** s = \"3[a]2[bc]\"\n",
    "\n",
    "**Output:** \"aaabcbc\"\n",
    "\n",
    "</aside>"
   ]
  },
  {
   "cell_type": "code",
   "execution_count": 21,
   "id": "57052809-57e4-4fe7-b491-b7868703f86c",
   "metadata": {},
   "outputs": [],
   "source": [
    "def q7(s: str):\n",
    "    s = s.replace(']', '[')\n",
    "    l = s.split('[')\n",
    "    res = \"\"\n",
    "    for i in range(0, len(l)-1, 2):\n",
    "        res += int(l[i]) * l[i+1]\n",
    "    return res"
   ]
  },
  {
   "cell_type": "code",
   "execution_count": 22,
   "id": "95915c65-eb98-4898-a632-0fff0381f5c1",
   "metadata": {},
   "outputs": [
    {
     "name": "stdout",
     "output_type": "stream",
     "text": [
      "aaabcbc\n",
      "ffaabbb\n"
     ]
    }
   ],
   "source": [
    "print(q7(\"3[a]2[bc]\"))\n",
    "print(q7(\"2[f]2[a]3[b]\"))"
   ]
  },
  {
   "cell_type": "markdown",
   "id": "e5b3b6c6-512a-4ddd-a935-d73fcd680495",
   "metadata": {},
   "source": [
    "<aside>\n",
    "💡 **Question 8**\n",
    "\n",
    "Given two strings s and goal, return true *if you can swap two letters in* s *so the result is equal to* goal*, otherwise, return* false*.*\n",
    "\n",
    "Swapping letters is defined as taking two indices i and j (0-indexed) such that i != j and swapping the characters at s[i] and s[j].\n",
    "\n",
    "- For example, swapping at indices 0 and 2 in \"abcd\" results in \"cbad\".\n",
    "\n",
    "**Example 1:**\n",
    "\n",
    "**Input:** s = \"ab\", goal = \"ba\"\n",
    "\n",
    "**Output:** true\n",
    "\n",
    "**Explanation:** You can swap s[0] = 'a' and s[1] = 'b' to get \"ba\", which is equal to goal.\n",
    "\n",
    "</aside>"
   ]
  },
  {
   "cell_type": "code",
   "execution_count": 84,
   "id": "e6c9dfc1-7f48-41df-bb63-58546e20b6fb",
   "metadata": {},
   "outputs": [],
   "source": []
  },
  {
   "cell_type": "code",
   "execution_count": null,
   "id": "481c899a-6842-4cec-94f1-dcd626625678",
   "metadata": {},
   "outputs": [],
   "source": []
  }
 ],
 "metadata": {
  "kernelspec": {
   "display_name": "Python 3 (ipykernel)",
   "language": "python",
   "name": "python3"
  },
  "language_info": {
   "codemirror_mode": {
    "name": "ipython",
    "version": 3
   },
   "file_extension": ".py",
   "mimetype": "text/x-python",
   "name": "python",
   "nbconvert_exporter": "python",
   "pygments_lexer": "ipython3",
   "version": "3.9.13"
  }
 },
 "nbformat": 4,
 "nbformat_minor": 5
}
