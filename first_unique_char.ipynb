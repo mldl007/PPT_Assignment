{
 "cells": [
  {
   "cell_type": "markdown",
   "id": "46ffc477-808a-466e-bdd3-0b6a63c336d0",
   "metadata": {},
   "source": [
    "First Unique Character in a String\n",
    "\n",
    "Given a string s, find the first non-repeating character in it and return its index. If it does not exist, return -1.\n",
    "\n",
    "Example 1:\n",
    "Input: s = \"leetcode\"\n",
    "Output: 0\n",
    "\n",
    "Example 2:\n",
    "Input: s = \"loveleetcode\"\n",
    "Output: 2\n",
    "\n",
    "Example 3:\n",
    "Input: s = \"aabb\"\n",
    "Output: -1\n",
    "\n",
    "Constraints:\n",
    "a. 1 <= s.length <= 10^5\n",
    "b. s consists of only lowercase English letters."
   ]
  },
  {
   "cell_type": "code",
   "execution_count": 29,
   "id": "02de76cb-9b80-4c3d-9d26-0fdf9b1cb87a",
   "metadata": {},
   "outputs": [],
   "source": [
    "def hashmap(s: str):\n",
    "    d = {}\n",
    "    for i in s:\n",
    "        if d.get(i) is None:\n",
    "            d[i] = 1\n",
    "        else:\n",
    "            d[i] += 1\n",
    "    return d\n",
    "        \n",
    "def first_non_rep(s: str):\n",
    "    d = hashmap(s)\n",
    "    for i in range(len(s)):\n",
    "        if d.get(s[i]) == 1:\n",
    "            return i\n",
    "    return -1"
   ]
  },
  {
   "cell_type": "code",
   "execution_count": 30,
   "id": "e225eed2-3d33-4140-8e0f-e40151d97286",
   "metadata": {},
   "outputs": [
    {
     "name": "stdout",
     "output_type": "stream",
     "text": [
      "0\n",
      "2\n",
      "-1\n"
     ]
    }
   ],
   "source": [
    "print(first_non_rep(\"leetcode\"))\n",
    "print(first_non_rep(\"loveleetcode\"))\n",
    "print(first_non_rep(\"aabb\"))"
   ]
  },
  {
   "cell_type": "code",
   "execution_count": null,
   "id": "9cdfc562-545d-4336-8244-32944427d547",
   "metadata": {},
   "outputs": [],
   "source": []
  }
 ],
 "metadata": {
  "kernelspec": {
   "display_name": "Python 3 (ipykernel)",
   "language": "python",
   "name": "python3"
  },
  "language_info": {
   "codemirror_mode": {
    "name": "ipython",
    "version": 3
   },
   "file_extension": ".py",
   "mimetype": "text/x-python",
   "name": "python",
   "nbconvert_exporter": "python",
   "pygments_lexer": "ipython3",
   "version": "3.9.13"
  }
 },
 "nbformat": 4,
 "nbformat_minor": 5
}
