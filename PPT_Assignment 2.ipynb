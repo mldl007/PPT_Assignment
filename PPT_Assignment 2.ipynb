{
 "cells": [
  {
   "cell_type": "markdown",
   "id": "683de48a-a85d-4fd4-a233-0d987b62a129",
   "metadata": {},
   "source": [
    "\n",
    "Question 1\n",
    "Given an integer array nums of 2n integers, group these integers into n pairs (a1, b1), (a2, b2),\n",
    "..., (an, bn) such that the sum of min(ai, bi) for all i is maximized. Return the maximized sum.\n",
    "Example 1:\n",
    "Input: nums = [1,4,3,2]\n",
    "Output: 4\n",
    "Explanation: All possible pairings (ignoring the ordering of elements) are:\n",
    "1. (1, 4), (2, 3) -> min(1, 4) + min(2, 3) = 1 + 2 = 3\n",
    "2. (1, 3), (2, 4) -> min(1, 3) + min(2, 4) = 1 + 2 = 3\n",
    "3. (1, 2), (3, 4) -> min(1, 2) + min(3, 4) = 1 + 3 = 4\n",
    "So the maximum possible sum is 4\n"
   ]
  },
  {
   "cell_type": "code",
   "execution_count": 15,
   "id": "e00c6cd9-8fbb-46a2-98d2-7c752b76d2a5",
   "metadata": {},
   "outputs": [],
   "source": [
    "def q1(nums: list):\n",
    "    min_list = []\n",
    "    nums = sorted(nums)\n",
    "    if len(nums) >= 4:\n",
    "        min_list = [min([nums[-1], nums[-2]]), min([nums[-3], nums[-4]])]\n",
    "    else:\n",
    "        min_list = max(nums)\n",
    "    return sum(min_list)"
   ]
  },
  {
   "cell_type": "code",
   "execution_count": 16,
   "id": "29e1cb2d-b4aa-486b-9cea-72f402264965",
   "metadata": {},
   "outputs": [
    {
     "name": "stdout",
     "output_type": "stream",
     "text": [
      "4\n",
      "15\n",
      "4\n"
     ]
    }
   ],
   "source": [
    "print(q1(nums=[1,4,3,2]))\n",
    "print(q1(nums=[15,3,5,8,10,1]))\n",
    "print(q1(nums=[1,2,3,8]))"
   ]
  },
  {
   "cell_type": "markdown",
   "id": "4e9b8613-3bad-47ef-aa9e-b78afb1ba8a4",
   "metadata": {},
   "source": [
    "\n",
    "Question 2\n",
    "Alice has n candies, where the ith candy is of type candyType[i]. Alice noticed that she started\n",
    "to gain weight, so she visited a doctor.\n",
    "The doctor advised Alice to only eat n / 2 of the candies she has (n is always even). Alice\n",
    "likes her candies very much, and she wants to eat the maximum number of different types of\n",
    "candies while still following the doctor's advice.\n",
    "Given the integer array candyType of length n, return the maximum number of different types\n",
    "of candies she can eat if she only eats n / 2 of them.\n",
    "Example 1:\n",
    "Input: candyType = [1,1,2,2,3,3]\n",
    "Output: 3\n",
    "Explanation: Alice can only eat 6 / 2 = 3 candies. Since there are only 3 types, she can eat one\n",
    "of each type.\n"
   ]
  },
  {
   "cell_type": "code",
   "execution_count": 37,
   "id": "39741e04-4bb6-4432-94e2-3e4219f8f0cb",
   "metadata": {},
   "outputs": [],
   "source": [
    "def q2(candy_type: list):\n",
    "    count = 0\n",
    "    for type_ in set(candy_type):\n",
    "        count += candy_type.count(type_) / 2\n",
    "    return count"
   ]
  },
  {
   "cell_type": "code",
   "execution_count": 39,
   "id": "c42c28dc-faca-4fa1-9e74-a8e1a4df8fb2",
   "metadata": {},
   "outputs": [
    {
     "name": "stdout",
     "output_type": "stream",
     "text": [
      "3.0\n",
      "4.0\n"
     ]
    }
   ],
   "source": [
    "print(q2(candy_type=[1,1,2,2,3,3]))\n",
    "print(q2(candy_type=[1,1,2,2,3,3,3,3]))"
   ]
  },
  {
   "cell_type": "markdown",
   "id": "5c4c8dcb-655a-4c5e-a687-eb0e898055e5",
   "metadata": {},
   "source": [
    "Question 3\n",
    "We define a harmonious array as an array where the difference between its maximum value\n",
    "and its minimum value is exactly 1.\n",
    "Given an integer array nums, return the length of its longest harmonious subsequence\n",
    "among all its possible subsequences.\n",
    "A subsequence of an array is a sequence that can be derived from the array by deleting some\n",
    "or no elements without changing the order of the remaining elements.\n",
    "Example 1:\n",
    "Input: nums = [1,3,2,2,5,2,3,7]\n",
    "Output: 5\n",
    "Explanation: The longest harmonious subsequence is [3,2,2,2,3]."
   ]
  },
  {
   "cell_type": "code",
   "execution_count": 181,
   "id": "8480c256-b6eb-4f49-a03d-7e82e41a81ff",
   "metadata": {},
   "outputs": [],
   "source": [
    "def get_vals_with_diff_1(nums: list):\n",
    "    list_with_diff_1 = []\n",
    "    unique_nums = [*set(nums)]\n",
    "    for i in range(len(unique_nums) - 1):\n",
    "        for j in range(i +  1, len(unique_nums)):\n",
    "            if unique_nums[j] - unique_nums[i] == 1:\n",
    "                list_with_diff_1.append([unique_nums[i], unique_nums[j]])\n",
    "    return list_with_diff_1\n",
    "\n",
    "def q3(nums: list):\n",
    "    list_with_diff_1 = get_vals_with_diff_1(nums)\n",
    "    nums_with_diff_1 = []\n",
    "    for i in list_with_diff_1:\n",
    "        nums_with_diff_1.append([j for j in nums if (j == i[0]) | (j == i[1])])\n",
    "    lens = {len(i): i for i in nums_with_diff_1}\n",
    "    return lens.get(max(lens.keys())) "
   ]
  },
  {
   "cell_type": "code",
   "execution_count": 184,
   "id": "3146bb12-bf6a-42f5-b0b6-c643edf47343",
   "metadata": {},
   "outputs": [
    {
     "name": "stdout",
     "output_type": "stream",
     "text": [
      "[3, 2, 2, 2, 3]\n",
      "[3, 2, 2, 2, 3, 3]\n"
     ]
    }
   ],
   "source": [
    "print(q3(nums = [1,3,2,2,5,2,3,7]))\n",
    "print(q3(nums = [1,3,2,2,5,2,3,3]))"
   ]
  },
  {
   "cell_type": "markdown",
   "id": "ac19cc3a-32ec-4602-b0d7-013536411498",
   "metadata": {},
   "source": [
    "Question 4\n",
    "You have a long flowerbed in which some of the plots are planted, and some are not.\n",
    "However, flowers cannot be planted in adjacent plots.\n",
    "Given an integer array flowerbed containing 0's and 1's, where 0 means empty and 1 means\n",
    "not empty, and an integer n, return true if n new flowers can be planted in the flowerbed\n",
    "without violating the no-adjacent-flowers rule and false otherwise.\n",
    "Example 1:\n",
    "Input: flowerbed = [1,0,0,0,1], n = 1\n",
    "Output: true"
   ]
  },
  {
   "cell_type": "code",
   "execution_count": 83,
   "id": "7ac16b84-1bfd-433c-92c5-0ae555f00f9a",
   "metadata": {},
   "outputs": [],
   "source": [
    "flowerbed = [1,0,1,0,0]\n",
    "n = 1"
   ]
  },
  {
   "cell_type": "code",
   "execution_count": 95,
   "id": "177839db-4cca-4aa9-894e-05f71f419dd0",
   "metadata": {},
   "outputs": [],
   "source": [
    "def q4(flowerbed: list, n: int):\n",
    "    count = 0\n",
    "    flowerbed = [0] + flowerbed + [0]\n",
    "    for i in range(1, len(flowerbed) - 1):\n",
    "        if flowerbed[i] == 0:\n",
    "            if (flowerbed[i - 1] == 0) & (flowerbed[i + 1] == 0):\n",
    "                count += 1\n",
    "                flowerbed[i] = 1\n",
    "    if (count == n) | (count > n):\n",
    "        return True\n",
    "    else:\n",
    "        return False"
   ]
  },
  {
   "cell_type": "code",
   "execution_count": 98,
   "id": "14a468d8-c15f-4799-94dc-621af6adba2c",
   "metadata": {},
   "outputs": [
    {
     "name": "stdout",
     "output_type": "stream",
     "text": [
      "True\n",
      "True\n",
      "True\n",
      "False\n",
      "True\n",
      "False\n"
     ]
    }
   ],
   "source": [
    "print(q4(flowerbed = [1,0,0,0,1], n = 1))\n",
    "print(q4(flowerbed = [1,0,0,0,0], n = 2))\n",
    "print(q4(flowerbed = [1,0,0,0,0,0], n = 2))\n",
    "print(q4(flowerbed = [1,0,0,0,0,0], n = 3))\n",
    "print(q4(flowerbed = [0,0,0,0,0,0], n = 3))\n",
    "print(q4(flowerbed = [0,0,0,0,0,0], n = 4))"
   ]
  },
  {
   "cell_type": "markdown",
   "id": "484ca83a-7d33-46d3-9119-56cca50c0566",
   "metadata": {},
   "source": [
    "Question 5\n",
    "Given an integer array nums, find three numbers whose product is maximum and return the\n",
    "maximum product.\n",
    "Example 1:\n",
    "Input: nums = [1,2,3]\n",
    "Output: 6"
   ]
  },
  {
   "cell_type": "code",
   "execution_count": 101,
   "id": "53ea9de0-e6db-4d19-90ef-3e48c786107a",
   "metadata": {},
   "outputs": [],
   "source": [
    "def q5(nums: list):\n",
    "#     Max 3 nums have max product\n",
    "    sorted_nums = sorted(nums)\n",
    "    max_3 = sorted_nums[-3:]\n",
    "    prod = 1\n",
    "    for i in max_3:\n",
    "        prod *= i\n",
    "    return prod"
   ]
  },
  {
   "cell_type": "code",
   "execution_count": 103,
   "id": "b3e87e49-012b-4d1f-8244-8fedfb4dbbeb",
   "metadata": {},
   "outputs": [
    {
     "name": "stdout",
     "output_type": "stream",
     "text": [
      "6\n",
      "360\n"
     ]
    }
   ],
   "source": [
    "print(q5(nums=[1,2,3]))\n",
    "print(q5(nums=[5,1,8,9,2]))"
   ]
  },
  {
   "cell_type": "markdown",
   "id": "d66ad491-f44a-4d11-9f59-5d5a3d0bfd0f",
   "metadata": {},
   "source": [
    "Question 6\n",
    "Given an array of integers nums which is sorted in ascending order, and an integer target,\n",
    "write a function to search target in nums. If target exists, then return its index. Otherwise,\n",
    "return -1.\n",
    "\n",
    "You must write an algorithm with O(log n) runtime complexity.\n",
    "\n",
    "Input: nums = [-1,0,3,5,9,12], target = 9\n",
    "Output: 4\n",
    "\n",
    "Explanation: 9 exists in nums and its index is 4"
   ]
  },
  {
   "cell_type": "code",
   "execution_count": 78,
   "id": "423d9f2b-9473-436a-985e-3b867b805e9e",
   "metadata": {},
   "outputs": [],
   "source": [
    "def binary_search(nums: list, val: int):\n",
    "    low = 0\n",
    "    high = len(l) - 1\n",
    "    while low <= high:\n",
    "        mid = int((low + high) / 2)\n",
    "        if val > l[mid]:\n",
    "            low = mid + 1\n",
    "        else:\n",
    "            high = mid - 1\n",
    "        if val == l[mid]:\n",
    "            return mid\n",
    "    if val != l[mid]:\n",
    "        return -1"
   ]
  },
  {
   "cell_type": "code",
   "execution_count": 79,
   "id": "3c35c317-33c4-4ff0-81bb-2bcd86636515",
   "metadata": {},
   "outputs": [
    {
     "name": "stdout",
     "output_type": "stream",
     "text": [
      "5\n",
      "-1\n"
     ]
    }
   ],
   "source": [
    "print(binary_search(nums=[1,2,3,4,5,6], val=6))\n",
    "print(binary_search(nums=[1,2,3,4,5,6], val=60))"
   ]
  },
  {
   "cell_type": "markdown",
   "id": "0df78b63-c7e6-4242-86e6-794b33ce1435",
   "metadata": {},
   "source": [
    "Question 7\n",
    "An array is monotonic if it is either monotone increasing or monotone decreasing.\n",
    "\n",
    "An array nums is monotone increasing if for all i <= j, nums[i] <= nums[j]. An array nums is\n",
    "monotone decreasing if for all i <= j, nums[i] >= nums[j].\n",
    "\n",
    "Given an integer array nums, return true if the given array is monotonic, or false otherwise.\n",
    "\n",
    "Example 1:\n",
    "Input: nums = [1,2,2,3]\n",
    "Output: true"
   ]
  },
  {
   "cell_type": "code",
   "execution_count": 107,
   "id": "4acd6be3-efcd-4989-a8db-c54c2597acdf",
   "metadata": {},
   "outputs": [],
   "source": [
    "def is_monotonic(nums: list):\n",
    "    is_monotonic_ = True\n",
    "    for i in range(len(nums) - 1):  \n",
    "        if nums[i] > nums[i+1]:\n",
    "            is_monotonic_ = False\n",
    "            break\n",
    "    return is_monotonic_"
   ]
  },
  {
   "cell_type": "code",
   "execution_count": 185,
   "id": "1fe4bfad-2e0c-4c7a-bd28-9597201067df",
   "metadata": {},
   "outputs": [
    {
     "name": "stdout",
     "output_type": "stream",
     "text": [
      "True\n",
      "False\n"
     ]
    }
   ],
   "source": [
    "print(is_monotonic(nums=[1,2,3,4]))\n",
    "print(is_monotonic(nums=[10,2,3,4]))"
   ]
  },
  {
   "cell_type": "markdown",
   "id": "cfb9cf47-4d16-465d-9d2e-e7046c98bcb7",
   "metadata": {},
   "source": [
    "Question 8:\n",
    "You are given an integer array nums and an integer k.\n",
    "\n",
    "In one operation, you can choose any index i where 0 <= i < nums.length and change nums[i] to nums[i] + x where x is an integer from the range [-k, k]. You can apply this operation at most once for each index i.\n",
    "\n",
    "The score of nums is the difference between the maximum and minimum elements in nums.\n",
    "\n",
    "Return the minimum score of nums after applying the mentioned operation at most once for each index in it.\n",
    "\n",
    "Example 1:\n",
    "Input: nums = [1], k = 0\n",
    "Output: 0\n",
    "\n",
    "Explanation: The score is max(nums) - min(nums) = 1 - 1 = 0."
   ]
  },
  {
   "cell_type": "code",
   "execution_count": 186,
   "id": "d3fa0de8-2f87-46a8-a17e-6f76b648a2d4",
   "metadata": {},
   "outputs": [],
   "source": [
    "def q8(nums: list):\n",
    "    return max(nums) - min(nums)"
   ]
  },
  {
   "cell_type": "code",
   "execution_count": 187,
   "id": "6a739433-39c7-4092-b98c-122d808d1252",
   "metadata": {},
   "outputs": [
    {
     "data": {
      "text/plain": [
       "0"
      ]
     },
     "execution_count": 187,
     "metadata": {},
     "output_type": "execute_result"
    }
   ],
   "source": [
    "q8(nums=[1])"
   ]
  },
  {
   "cell_type": "code",
   "execution_count": null,
   "id": "150d4031-931c-480a-a1d7-aef32f0b2810",
   "metadata": {},
   "outputs": [],
   "source": []
  }
 ],
 "metadata": {
  "kernelspec": {
   "display_name": "Python 3 (ipykernel)",
   "language": "python",
   "name": "python3"
  },
  "language_info": {
   "codemirror_mode": {
    "name": "ipython",
    "version": 3
   },
   "file_extension": ".py",
   "mimetype": "text/x-python",
   "name": "python",
   "nbconvert_exporter": "python",
   "pygments_lexer": "ipython3",
   "version": "3.9.13"
  }
 },
 "nbformat": 4,
 "nbformat_minor": 5
}
