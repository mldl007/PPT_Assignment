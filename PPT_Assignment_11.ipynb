{
 "cells": [
  {
   "cell_type": "markdown",
   "id": "0451f79c-f10b-4ad6-b240-765c3a8d40c9",
   "metadata": {},
   "source": [
    "<aside>\n",
    "💡 **Question 1**\n",
    "\n",
    "Given a non-negative integer `x`, return *the square root of* `x` *rounded down to the nearest integer*. The returned integer should be **non-negative** as well.\n",
    "\n",
    "You **must not use** any built-in exponent function or operator.\n",
    "\n",
    "- For example, do not use `pow(x, 0.5)` in c++ or `x ** 0.5` in python.\n",
    "\n",
    "**Example 1:**\n",
    "\n",
    "```\n",
    "Input: x = 4\n",
    "Output: 2\n",
    "Explanation: The square root of 4 is 2, so we return 2.\n",
    "\n",
    "```\n",
    "\n",
    "**Example 2:**\n",
    "\n",
    "</aside>"
   ]
  },
  {
   "cell_type": "code",
   "execution_count": null,
   "id": "9b10d9b8-7f73-4b25-b944-6f4a94271ee3",
   "metadata": {},
   "outputs": [],
   "source": []
  },
  {
   "cell_type": "markdown",
   "id": "b9189550-b3b5-4db1-b55c-4185b20daa13",
   "metadata": {},
   "source": [
    "<aside>\n",
    "💡 **Question 2**\n",
    "\n",
    "A peak element is an element that is strictly greater than its neighbors.\n",
    "\n",
    "Given a **0-indexed** integer array `nums`, find a peak element, and return its index. If the array contains multiple peaks, return the index to **any of the peaks**.\n",
    "\n",
    "You may imagine that `nums[-1] = nums[n] = -∞`. In other words, an element is always considered to be strictly greater than a neighbor that is outside the array.\n",
    "\n",
    "You must write an algorithm that runs in `O(log n)` time.\n",
    "\n",
    "**Example 1:**\n",
    "\n",
    "```\n",
    "Input: nums = [1,2,3,1]\n",
    "Output: 2\n",
    "Explanation: 3 is a peak element and your function should return the index number 2.\n",
    "```\n",
    "\n",
    "**Example 2:**\n",
    "\n",
    "</aside>"
   ]
  },
  {
   "cell_type": "code",
   "execution_count": 20,
   "id": "42f175b7-4402-4b08-b0ac-3c3beb60ae70",
   "metadata": {},
   "outputs": [],
   "source": [
    "def q2(nums: list[int]):\n",
    "    max_ = 0\n",
    "    i = 0\n",
    "    while i < len(nums):\n",
    "        if nums[i] > nums[max_]:\n",
    "            max_ = i\n",
    "        i += 1\n",
    "    return max_"
   ]
  },
  {
   "cell_type": "code",
   "execution_count": 21,
   "id": "9f14a200-dcf2-48c2-acb0-3f1363ccdd8a",
   "metadata": {},
   "outputs": [
    {
     "name": "stdout",
     "output_type": "stream",
     "text": [
      "2\n",
      "5\n"
     ]
    }
   ],
   "source": [
    "print(q2(nums=[1,2,3,1]))\n",
    "print(q2(nums=[1,14,4,2,22,45,1]))"
   ]
  },
  {
   "cell_type": "markdown",
   "id": "a73ad70a-d14d-435e-bd98-4e8125701482",
   "metadata": {},
   "source": [
    "<aside>\n",
    "💡 **Question 3**\n",
    "\n",
    "****\n",
    "\n",
    "Given an array `nums` containing `n` distinct numbers in the range `[0, n]`, return *the only number in the range that is missing from the array.*\n",
    "\n",
    "**Example 1:**\n",
    "\n",
    "```\n",
    "Input: nums = [3,0,1]\n",
    "Output: 2\n",
    "Explanation: n = 3 since there are 3 numbers, so all numbers are in the range [0,3]. 2 is the missing number in the range since it does not appear in nums.\n",
    "\n",
    "```\n",
    "\n",
    "**Example 2:**\n",
    "\n",
    "```\n",
    "Input: nums = [0,1]\n",
    "Output: 2\n",
    "Explanation: n = 2 since there are 2 numbers, so all numbers are in the range [0,2]. 2 is the missing number in the range since it does not appear in nums.\n",
    "\n",
    "```\n",
    "\n",
    "**Example 3:**\n",
    "\n",
    "</aside>"
   ]
  },
  {
   "cell_type": "code",
   "execution_count": 35,
   "id": "af83aa33-ee51-44e3-96f9-801bbb8d0f1e",
   "metadata": {},
   "outputs": [],
   "source": [
    "def q3(nums: list[int]): \n",
    "    n = len(nums)\n",
    "    sum_n = (n /2) * (n + 1)\n",
    "    sum_nums = sum(nums)\n",
    "    missing = sum_n - sum_nums\n",
    "    return int(missing)"
   ]
  },
  {
   "cell_type": "code",
   "execution_count": 40,
   "id": "58dcd356-6796-4faf-9ebb-ca790b0d9834",
   "metadata": {},
   "outputs": [
    {
     "name": "stdout",
     "output_type": "stream",
     "text": [
      "2\n",
      "2\n",
      "3\n"
     ]
    }
   ],
   "source": [
    "print(q3([3,0,1]))\n",
    "print(q3([0,1]))\n",
    "print(q3([0,1,5,2,4]))"
   ]
  },
  {
   "cell_type": "markdown",
   "id": "24ea9a88-4787-4cd4-8f94-751958da45ea",
   "metadata": {},
   "source": [
    "<aside>\n",
    "💡 **Question 4**\n",
    "\n",
    "Given an array of integers `nums` containing `n + 1` integers where each integer is in the range `[1, n]` inclusive.\n",
    "\n",
    "There is only **one repeated number** in `nums`, return *this repeated number*.\n",
    "\n",
    "You must solve the problem **without** modifying the array `nums` and uses only constant extra space.\n",
    "\n",
    "**Example 1:**\n",
    "\n",
    "```\n",
    "Input: nums = [1,3,4,2,2]\n",
    "Output: 2\n",
    "\n",
    "```\n",
    "\n",
    "**Example 2:**\n",
    "\n",
    "</aside>"
   ]
  },
  {
   "cell_type": "code",
   "execution_count": 46,
   "id": "8f1296e3-f54a-47d3-90c0-fae240ff2d08",
   "metadata": {},
   "outputs": [],
   "source": [
    "def q4(nums: list[int]):\n",
    "    d = {}\n",
    "    i = 0\n",
    "    while i < len(nums):\n",
    "        if d.get(nums[i]) is None:\n",
    "            d[nums[i]] = 1\n",
    "        else:\n",
    "            d[nums[i]] += 1\n",
    "        i += 1\n",
    "    rep = [i[0] for i in d.items() if i[1] > 1]\n",
    "    return rep"
   ]
  },
  {
   "cell_type": "code",
   "execution_count": 49,
   "id": "35ff2f6d-4c8c-4355-ba73-7e4430c8c187",
   "metadata": {},
   "outputs": [
    {
     "name": "stdout",
     "output_type": "stream",
     "text": [
      "[2]\n",
      "[4]\n"
     ]
    }
   ],
   "source": [
    "print(q4(nums=[1,3,4,2,2]))\n",
    "print(q4(nums=[1,3,4,4]))"
   ]
  },
  {
   "cell_type": "markdown",
   "id": "60c192d6-5a17-46b0-bf8d-cd11fdfd85a6",
   "metadata": {},
   "source": [
    "<aside>\n",
    "💡 **Question 5**\n",
    "\n",
    "Given two integer arrays `nums1` and `nums2`, return *an array of their intersection*. Each element in the result must be **unique** and you may return the result in **any order**.\n",
    "\n",
    "**Example 1:**\n",
    "\n",
    "```\n",
    "Input: nums1 = [1,2,2,1], nums2 = [2,2]\n",
    "Output: [2]\n",
    "\n",
    "```\n",
    "\n",
    "**Example 2:**\n",
    "\n",
    "</aside>"
   ]
  },
  {
   "cell_type": "code",
   "execution_count": 55,
   "id": "c27108e8-0c75-42bc-b614-0e308d9cb549",
   "metadata": {},
   "outputs": [],
   "source": [
    "def q5(nums1: list[int], nums2: list[int]):\n",
    "    return set(nums1).intersection(set(nums2))"
   ]
  },
  {
   "cell_type": "code",
   "execution_count": 57,
   "id": "ecc4debe-b4b5-4a1a-b6af-ce5a2e12371d",
   "metadata": {},
   "outputs": [
    {
     "name": "stdout",
     "output_type": "stream",
     "text": [
      "{2}\n"
     ]
    }
   ],
   "source": [
    "print(q5(nums1 = [1,2,2,1], nums2 = [2,2]))"
   ]
  },
  {
   "cell_type": "markdown",
   "id": "a665e9cc-7717-45b9-ad54-5835ced311d7",
   "metadata": {},
   "source": [
    "<aside>\n",
    "💡 **Question 6**\n",
    "\n",
    "Suppose an array of length `n` sorted in ascending order is **rotated** between `1` and `n` times. For example, the array `nums = [0,1,2,4,5,6,7]` might become:\n",
    "\n",
    "- `[4,5,6,7,0,1,2]` if it was rotated `4` times.\n",
    "- `[0,1,2,4,5,6,7]` if it was rotated `7` times.\n",
    "\n",
    "Notice that **rotating** an array `[a[0], a[1], a[2], ..., a[n-1]]` 1 time results in the array `[a[n-1], a[0], a[1], a[2], ..., a[n-2]]`.\n",
    "\n",
    "Given the sorted rotated array `nums` of **unique** elements, return *the minimum element of this array*.\n",
    "\n",
    "You must write an algorithm that runs in `O(log n) time.`\n",
    "\n",
    "**Example 1:**\n",
    "\n",
    "```\n",
    "Input: nums = [3,4,5,1,2]\n",
    "Output: 1\n",
    "Explanation: The original array was [1,2,3,4,5] rotated 3 times.\n",
    "\n",
    "```\n",
    "\n",
    "**Example 2:**\n",
    "\n",
    "```\n",
    "Input: nums = [4,5,6,7,0,1,2]\n",
    "Output: 0\n",
    "Explanation: The original array was [0,1,2,4,5,6,7] and it was rotated 4 times.\n",
    "\n",
    "```\n",
    "\n",
    "**Example 3:**\n",
    "\n",
    "</aside>"
   ]
  },
  {
   "cell_type": "code",
   "execution_count": 59,
   "id": "1fda7f63-869b-42e6-ab8e-93acd117b3ba",
   "metadata": {},
   "outputs": [],
   "source": [
    "def q6(rotated):\n",
    "    lo = 0\n",
    "    hi = len(rotated) - 1\n",
    "    mid = (lo + hi) // 2\n",
    "    while lo <= hi:\n",
    "        if mid > 0:\n",
    "            mid = (lo + hi) // 2\n",
    "            if rotated[mid - 1] > rotated[mid]:\n",
    "                return mid\n",
    "            if rotated[mid] > rotated[hi]:\n",
    "                lo = mid+ 1\n",
    "            else:\n",
    "                hi = mid-1"
   ]
  },
  {
   "cell_type": "code",
   "execution_count": 63,
   "id": "488c6dfd-84eb-414e-8e09-dbd8584ad4c4",
   "metadata": {},
   "outputs": [
    {
     "name": "stdout",
     "output_type": "stream",
     "text": [
      "3\n",
      "4\n",
      "0\n"
     ]
    }
   ],
   "source": [
    "print(q6(rotated = [3,4,5,1,2]))\n",
    "print(q6(rotated = [4,5,6,7,0,1,2]))\n",
    "print(q6(rotated = [11,13,15,17]))"
   ]
  },
  {
   "cell_type": "markdown",
   "id": "2ad29295-d654-4ef1-9fd9-5e0f935b83ba",
   "metadata": {},
   "source": [
    "<aside>\n",
    "💡 **Question 7**\n",
    "\n",
    "Given an array of integers `nums` sorted in non-decreasing order, find the starting and ending position of a given `target` value.\n",
    "\n",
    "If `target` is not found in the array, return `[-1, -1]`.\n",
    "\n",
    "You must write an algorithm with `O(log n)` runtime complexity.\n",
    "\n",
    "**Example 1:**\n",
    "\n",
    "```\n",
    "Input: nums = [5,7,7,8,8,10], target = 8\n",
    "Output: [3,4]\n",
    "\n",
    "```\n",
    "\n",
    "**Example 2:**\n",
    "\n",
    "```\n",
    "Input: nums = [5,7,7,8,8,10], target = 6\n",
    "Output: [-1,-1]\n",
    "\n",
    "```\n",
    "\n",
    "**Example 3:**\n",
    "\n",
    "</aside>"
   ]
  },
  {
   "cell_type": "code",
   "execution_count": 70,
   "id": "03cab367-c40c-409e-a61a-11c76d9e87d7",
   "metadata": {},
   "outputs": [],
   "source": [
    "def q7(nums, tgt):\n",
    "    lo = 0\n",
    "    hi = len(nums)-1\n",
    "    f = 0\n",
    "    l = 0\n",
    "    \n",
    "    \n",
    "#      if first elt = tgt\n",
    "    if nums[lo] == tgt:\n",
    "        f = lo\n",
    "        l = lo\n",
    "        while nums[l+1] == tgt:\n",
    "            l += 1\n",
    "        return (f,l)\n",
    "    \n",
    "    \n",
    "# if last elt == tgt\n",
    "        if nums[hi] == tgt:\n",
    "            l = hi\n",
    "            while nums[hi-1] == tgt:\n",
    "                hi -= 1\n",
    "            f = hi\n",
    "            return (f,l)\n",
    "        \n",
    "        \n",
    "    while lo <= hi:\n",
    "        mid = (lo + hi) // 2\n",
    "        if nums[mid] < tgt:\n",
    "            lo += 1\n",
    "        elif nums[mid] > tgt:\n",
    "            hi -= 1\n",
    "        else:\n",
    "            l = mid\n",
    "            while nums[l+1] == tgt:\n",
    "                l += 1\n",
    "                if l == len(nums) - 1:\n",
    "                    break\n",
    "            while nums[mid-1] == tgt:\n",
    "                mid -= 1\n",
    "            f = mid\n",
    "            return (f,l)\n",
    "    return (-1, -1)     "
   ]
  },
  {
   "cell_type": "code",
   "execution_count": 74,
   "id": "689b3e97-d73a-4e5e-94d2-afcd1efb0e4b",
   "metadata": {},
   "outputs": [
    {
     "name": "stdout",
     "output_type": "stream",
     "text": [
      "(3, 4)\n",
      "(-1, -1)\n"
     ]
    }
   ],
   "source": [
    "print(q7(nums = [5,7,7,8,8,10], tgt = 8))\n",
    "print(q7(nums = [5,7,7,8,8,10], tgt = 6))"
   ]
  },
  {
   "cell_type": "markdown",
   "id": "37356ab4-d060-4535-8129-399be7f7e820",
   "metadata": {},
   "source": [
    "<aside>\n",
    "💡 **Question 8**\n",
    "\n",
    "Given two integer arrays `nums1` and `nums2`, return *an array of their intersection*. Each element in the result must appear as many times as it shows in both arrays and you may return the result in **any order**.\n",
    "\n",
    "**Example 1:**\n",
    "\n",
    "```\n",
    "Input: nums1 = [1,2,2,1], nums2 = [2,2]\n",
    "Output: [2,2]\n",
    "\n",
    "```\n",
    "\n",
    "**Example 2:**\n",
    "\n",
    "</aside>"
   ]
  },
  {
   "cell_type": "code",
   "execution_count": 82,
   "id": "b943ab86-f580-41d5-9d01-3aef7ae2d7a2",
   "metadata": {},
   "outputs": [],
   "source": [
    "def q8(nums1: list[int], nums2: list[int]):\n",
    "    min_arr, max_arr = nums1, nums2\n",
    "    if len(min_arr) > len(max_arr):\n",
    "        min_arr, max_arr = max_arr, min_arr\n",
    "    \n",
    "    res = []\n",
    "    for i in min_arr:\n",
    "        if i in max_arr:\n",
    "            res.append(i)\n",
    "    return res"
   ]
  },
  {
   "cell_type": "code",
   "execution_count": 85,
   "id": "d4e273ca-22a0-43c0-b7a2-bd039206813f",
   "metadata": {},
   "outputs": [
    {
     "name": "stdout",
     "output_type": "stream",
     "text": [
      "[2, 2]\n",
      "[4, 9]\n"
     ]
    }
   ],
   "source": [
    "print(q8(nums1 = [1,2,2,1], nums2 = [2,2]))\n",
    "print(q8(nums1 = [4,9,5], nums2 = [9,4,9,8,4]))"
   ]
  },
  {
   "cell_type": "code",
   "execution_count": null,
   "id": "26f9dd6c-9463-44f6-b1a9-1ad7098688f3",
   "metadata": {},
   "outputs": [],
   "source": []
  }
 ],
 "metadata": {
  "kernelspec": {
   "display_name": "Python 3 (ipykernel)",
   "language": "python",
   "name": "python3"
  },
  "language_info": {
   "codemirror_mode": {
    "name": "ipython",
    "version": 3
   },
   "file_extension": ".py",
   "mimetype": "text/x-python",
   "name": "python",
   "nbconvert_exporter": "python",
   "pygments_lexer": "ipython3",
   "version": "3.9.13"
  }
 },
 "nbformat": 4,
 "nbformat_minor": 5
}
