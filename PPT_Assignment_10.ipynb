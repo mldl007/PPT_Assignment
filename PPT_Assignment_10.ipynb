{
 "cells": [
  {
   "cell_type": "markdown",
   "id": "fea14e75-531e-461c-a913-81640122e7b6",
   "metadata": {},
   "source": [
    "<aside>\n",
    "💡 **Question 1**\n",
    "\n",
    "Given an integer `n`, return *`true` if it is a power of three. Otherwise, return `false`*.\n",
    "\n",
    "An integer `n` is a power of three, if there exists an integer `x` such that `n == 3x`.\n",
    "\n",
    "**Example 1:**\n",
    "\n",
    "```\n",
    "Input: n = 27\n",
    "Output: true\n",
    "Explanation: 27 = 33\n",
    "```\n",
    "\n",
    "**Example 2:**\n",
    "\n",
    "```\n",
    "Input: n = 0\n",
    "Output: false\n",
    "Explanation: There is no x where 3x = 0.\n",
    "\n",
    "```\n",
    "\n",
    "**Example 3:**\n",
    "\n",
    "</aside>"
   ]
  },
  {
   "cell_type": "code",
   "execution_count": 21,
   "id": "3f459fd0-6a6c-49b8-a2fc-b6107fc4b964",
   "metadata": {},
   "outputs": [],
   "source": [
    "def pow_3(n):\n",
    "    if n <= 3:\n",
    "        return n\n",
    "    else:\n",
    "        return pow_3(n/3)\n",
    "\n",
    "def q1(n):\n",
    "    res = pow_3(n)\n",
    "    if (res == 3) | (n == 1):\n",
    "        return True\n",
    "    return False"
   ]
  },
  {
   "cell_type": "code",
   "execution_count": 35,
   "id": "89f06b55-7254-41e7-9848-351aa6c4a924",
   "metadata": {},
   "outputs": [
    {
     "name": "stdout",
     "output_type": "stream",
     "text": [
      "True\n",
      "False\n",
      "True\n",
      "True\n",
      "True\n"
     ]
    }
   ],
   "source": [
    "print(q1(3))\n",
    "print(q1(30))\n",
    "print(q1(9))\n",
    "print(q1(27))\n",
    "print(q1(1))"
   ]
  },
  {
   "cell_type": "markdown",
   "id": "9f614e33-a392-4715-b8b9-672c73c64a6e",
   "metadata": {},
   "source": [
    "<aside>\n",
    "💡 **Question 4**\n",
    "\n",
    "Given a string calculate length of the string using recursion.\n",
    "\n",
    "**Examples:**\n",
    "\n",
    "</aside>"
   ]
  },
  {
   "cell_type": "code",
   "execution_count": 37,
   "id": "f2ff08fd-d265-4536-96e9-404e33767b5c",
   "metadata": {},
   "outputs": [],
   "source": [
    "def len_s(s):\n",
    "    if s == '':\n",
    "        return 0\n",
    "    else:\n",
    "        return 1 + l(s[1:])"
   ]
  },
  {
   "cell_type": "code",
   "execution_count": 40,
   "id": "5fef7d68-d88c-4f3a-8e5e-2b10265f4113",
   "metadata": {},
   "outputs": [
    {
     "name": "stdout",
     "output_type": "stream",
     "text": [
      "4\n",
      "1\n",
      "0\n"
     ]
    }
   ],
   "source": [
    "print(len_s('1234'))\n",
    "print(len_s('1'))\n",
    "print(len_s(''))"
   ]
  },
  {
   "cell_type": "markdown",
   "id": "79a7de39-88a4-41c6-9a8f-de13c892b147",
   "metadata": {},
   "source": [
    "<aside>\n",
    "💡 **Question 5**\n",
    "\n",
    "We are given a string S, we need to find count of all contiguous substrings starting and ending with same character.\n",
    "\n",
    "**Examples :**\n",
    "\n",
    "</aside>"
   ]
  },
  {
   "cell_type": "code",
   "execution_count": 48,
   "id": "2ea85daf-c67a-49b4-b30c-ddce1e83cbb4",
   "metadata": {},
   "outputs": [],
   "source": [
    "def q5(s: str):\n",
    "    l = 0\n",
    "    r = 0\n",
    "    res = []\n",
    "    while l < len(s):\n",
    "        if r >= len(s):\n",
    "            l += 1\n",
    "            r = l\n",
    "        else:\n",
    "            r += 1\n",
    "            if s[l] == s[r-1]:\n",
    "                res.append(s[l:r])\n",
    "    return res"
   ]
  },
  {
   "cell_type": "code",
   "execution_count": 49,
   "id": "43d9fb28-1d4e-46be-8dae-313def95c5f1",
   "metadata": {},
   "outputs": [
    {
     "name": "stdout",
     "output_type": "stream",
     "text": [
      "['a', 'abca', 'b', 'bcab', 'c', 'a', 'b']\n",
      "['a', 'aba', 'b', 'a']\n"
     ]
    }
   ],
   "source": [
    "print(q5(\"abcab\"))\n",
    "print(q5(\"aba\"))"
   ]
  },
  {
   "cell_type": "markdown",
   "id": "8f2655cb-0d0a-48f2-9186-ce37ff62cac2",
   "metadata": {},
   "source": [
    "<aside>\n",
    "💡 **Question 8**\n",
    "\n",
    "Given a string, count total number of consonants in it. A consonant is an English alphabet character that is not vowel (a, e, i, o and u). Examples of constants are b, c, d, f, and g.\n",
    "\n",
    "**Examples :**\n",
    "\n",
    "</aside>"
   ]
  },
  {
   "cell_type": "code",
   "execution_count": 137,
   "id": "486b0c48-a570-47c1-9cb2-266a3a8ce76a",
   "metadata": {},
   "outputs": [],
   "source": [
    "def q8(s: str):\n",
    "    cnt = 0\n",
    "    for i in s:\n",
    "        if i not in list('aeiou'):\n",
    "            cnt += 1\n",
    "    return cnt"
   ]
  },
  {
   "cell_type": "code",
   "execution_count": 195,
   "id": "1918ea02-1e64-4e4e-bdab-172a2818e7d0",
   "metadata": {},
   "outputs": [
    {
     "name": "stdout",
     "output_type": "stream",
     "text": [
      "2\n"
     ]
    }
   ],
   "source": [
    "print(q8(\"abceiou\"))"
   ]
  }
 ],
 "metadata": {
  "kernelspec": {
   "display_name": "Python 3 (ipykernel)",
   "language": "python",
   "name": "python3"
  },
  "language_info": {
   "codemirror_mode": {
    "name": "ipython",
    "version": 3
   },
   "file_extension": ".py",
   "mimetype": "text/x-python",
   "name": "python",
   "nbconvert_exporter": "python",
   "pygments_lexer": "ipython3",
   "version": "3.9.13"
  }
 },
 "nbformat": 4,
 "nbformat_minor": 5
}
