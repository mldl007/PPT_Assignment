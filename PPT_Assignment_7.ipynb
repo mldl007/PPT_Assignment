{
 "cells": [
  {
   "cell_type": "markdown",
   "id": "9f40ce40-0fc1-4ba7-aeb9-7dd04c3266fd",
   "metadata": {},
   "source": [
    "<aside>\n",
    "💡 **Question 1**\n",
    "\n",
    "Given two strings s and t, *determine if they are isomorphic*.\n",
    "\n",
    "Two strings s and t are isomorphic if the characters in s can be replaced to get t.\n",
    "\n",
    "All occurrences of a character must be replaced with another character while preserving the order of characters. No two characters may map to the same character, but a character may map to itself.\n",
    "\n",
    "**Example 1:**\n",
    "\n",
    "**Input:** s = \"egg\", t = \"add\"\n",
    "\n",
    "**Output:** true\n",
    "\n",
    "</aside>"
   ]
  },
  {
   "cell_type": "code",
   "execution_count": 113,
   "id": "4a7a1d1f-98a9-49d5-a5ab-288d40d8f5bd",
   "metadata": {},
   "outputs": [],
   "source": [
    "def hashmap(s: str, t: str):\n",
    "    if len(s) == len(t):\n",
    "        d = {}\n",
    "        for i in range(len(s)):\n",
    "            if d.get(t[i]) is None:\n",
    "                d[t[i]] = s[i]\n",
    "            else:\n",
    "                pass\n",
    "        return d\n",
    "    return None"
   ]
  },
  {
   "cell_type": "code",
   "execution_count": 114,
   "id": "b107eab4-d3a5-4df5-862e-c40ddd9cb003",
   "metadata": {},
   "outputs": [],
   "source": [
    "def q1(s: str, t: str):\n",
    "    d = hashmap(s, t)\n",
    "    t = list(t)\n",
    "    if d is not None:\n",
    "        for i in range(len(t)):\n",
    "            t[i] = d.get(t[i])\n",
    "        if \"\".join(t) == s:\n",
    "            return True    \n",
    "    return False"
   ]
  },
  {
   "cell_type": "code",
   "execution_count": 119,
   "id": "dc5a8855-8f5f-45cc-8e88-fdbcc58a621a",
   "metadata": {},
   "outputs": [
    {
     "name": "stdout",
     "output_type": "stream",
     "text": [
      "True\n",
      "True\n",
      "False\n",
      "True\n"
     ]
    }
   ],
   "source": [
    "print(q1(s=\"egg\", t=\"add\"))\n",
    "print(q1(s=\"abc\", t=\"bce\"))\n",
    "print(q1(s=\"abc\", t=\"eed\"))\n",
    "print(q1(s=\"abcdefaa\", t=\"xyzabcxx\"))"
   ]
  },
  {
   "cell_type": "markdown",
   "id": "9cf40b86-4938-4ca4-bdb8-80d874ae1c9f",
   "metadata": {},
   "source": [
    "<aside>\n",
    "💡 **Question 2**\n",
    "\n",
    "Given a string num which represents an integer, return true *if* num *is a **strobogrammatic number***.\n",
    "\n",
    "A **strobogrammatic number** is a number that looks the same when rotated 180 degrees (looked at upside down).\n",
    "\n",
    "**Example 1:**\n",
    "\n",
    "**Input:** num = \"69\"\n",
    "\n",
    "**Output:**\n",
    "\n",
    "true\n",
    "\n",
    "</aside>"
   ]
  },
  {
   "cell_type": "code",
   "execution_count": 3,
   "id": "1eccbaae-892e-442e-8d78-8b2ae03a3c24",
   "metadata": {},
   "outputs": [],
   "source": [
    "def q2(num: int):\n",
    "    stro_nums = [0, 1,6, 9]\n",
    "    num = str(num)\n",
    "    res = True\n",
    "    for i in num:\n",
    "        if int(i) not in stro_nums:\n",
    "            res = False\n",
    "            break\n",
    "    return res"
   ]
  },
  {
   "cell_type": "code",
   "execution_count": 6,
   "id": "efd11df4-cce5-4df1-8db4-fa7aeea7a81c",
   "metadata": {},
   "outputs": [
    {
     "name": "stdout",
     "output_type": "stream",
     "text": [
      "True\n",
      "True\n",
      "False\n"
     ]
    }
   ],
   "source": [
    "print(q2(69))\n",
    "print(q2(11))\n",
    "print(q2(67))"
   ]
  },
  {
   "cell_type": "markdown",
   "id": "9c37fbaf-52ed-431e-ac99-35353937c7c5",
   "metadata": {},
   "source": [
    "<aside>\n",
    "💡 **Question 3**\n",
    "\n",
    "Given two non-negative integers, num1 and num2 represented as string, return *the sum of* num1 *and* num2 *as a string*.\n",
    "\n",
    "You must solve the problem without using any built-in library for handling large integers (such as BigInteger). You must also not convert the inputs to integers directly.\n",
    "\n",
    "**Example 1:**\n",
    "\n",
    "**Input:** num1 = \"11\", num2 = \"123\"\n",
    "\n",
    "**Output:**\n",
    "\n",
    "\"134\"\n",
    "\n",
    "</aside>"
   ]
  },
  {
   "cell_type": "code",
   "execution_count": 112,
   "id": "98ce781d-822c-42fd-beab-9f54a85d3dd2",
   "metadata": {},
   "outputs": [],
   "source": [
    "def q3(num1: str, num2: str):\n",
    "    large = num1\n",
    "    small = num2\n",
    "    if len(num1) < len(num2):\n",
    "        large = num2\n",
    "        small = num1\n",
    "    res = []\n",
    "    rem = 0\n",
    "    for i in range(1, len(large)+1):\n",
    "        if i <= len(small):\n",
    "            tot = int(large[-i]) + int(small[-i]) + rem\n",
    "        else:\n",
    "            tot = int(large[-i]) + rem\n",
    "        rem = 0\n",
    "        if tot > 9:\n",
    "            rem = int(str(tot)[0])\n",
    "            res = [str(tot)[1]] + res\n",
    "        else:\n",
    "            res = [str(tot)] + res\n",
    "        if (rem != 0) & (i == len(large)):\n",
    "            res = [str(rem)] + res\n",
    "    return f'{num1} + {num2} = {\"\".join(res)}'"
   ]
  },
  {
   "cell_type": "code",
   "execution_count": 114,
   "id": "b4663e4d-243c-4f14-92a4-8cf7ecf62b36",
   "metadata": {},
   "outputs": [
    {
     "name": "stdout",
     "output_type": "stream",
     "text": [
      "11 + 123 = 134\n",
      "9999 + 9999 = 19998\n",
      "9 + 9 = 18\n",
      "9 + 0 = 9\n",
      "90 + 199 = 289\n",
      "999 + 1101 = 2100\n",
      "9 + 1101 = 1110\n"
     ]
    }
   ],
   "source": [
    "print(q3(num1=\"11\", num2=\"123\"))\n",
    "print(q3(num1=\"9999\", num2=\"9999\"))\n",
    "print(q3(num1=\"9\", num2=\"9\"))\n",
    "print(q3(num1=\"9\", num2=\"0\"))\n",
    "print(q3(num1=\"90\", num2=\"199\"))\n",
    "print(q3(num1=\"999\", num2=\"1101\"))\n",
    "print(q3(num1=\"9\", num2=\"1101\"))"
   ]
  },
  {
   "cell_type": "markdown",
   "id": "0b79bb40-7850-4d5b-8036-8b74ceae63e7",
   "metadata": {},
   "source": [
    "<aside>\n",
    "💡 **Question 4**\n",
    "\n",
    "Given a string s, reverse the order of characters in each word within a sentence while still preserving whitespace and initial word order.\n",
    "\n",
    "**Example 1:**\n",
    "\n",
    "**Input:** s = \"Let's take LeetCode contest\"\n",
    "\n",
    "**Output:** \"s'teL ekat edoCteeL tsetnoc\"\n",
    "\n",
    "</aside>"
   ]
  },
  {
   "cell_type": "code",
   "execution_count": 123,
   "id": "d5925be8-8ee6-43bf-a4f8-10d81465051a",
   "metadata": {},
   "outputs": [],
   "source": [
    "def palindrome(s: str):\n",
    "    l = 0\n",
    "    r = len(s)-1\n",
    "    s = list(s)\n",
    "    while l < r:\n",
    "        s[l], s[r] = s[r], s[l]\n",
    "        l += 1\n",
    "        r -= 1\n",
    "    return \"\".join(s)    \n",
    "\n",
    "def q4(s: str):\n",
    "    l = s.split()\n",
    "    res = \"\"\n",
    "    for i in l:\n",
    "        res += palindrome(i) + \" \"\n",
    "    return res"
   ]
  },
  {
   "cell_type": "code",
   "execution_count": 124,
   "id": "28e0a57e-dbb7-478e-8bcb-9bbc3bd73982",
   "metadata": {},
   "outputs": [
    {
     "name": "stdout",
     "output_type": "stream",
     "text": [
      "s'teL ekat edoCteeL tsetnoc \n"
     ]
    }
   ],
   "source": [
    "print(q4(s = \"Let's take LeetCode contest\"))"
   ]
  },
  {
   "cell_type": "markdown",
   "id": "0c097083-ca08-4cc0-85ea-21166804a182",
   "metadata": {},
   "source": [
    "<aside>\n",
    "💡 **Question 5**\n",
    "\n",
    "Given a string s and an integer k, reverse the first k characters for every 2k characters counting from the start of the string.\n",
    "\n",
    "If there are fewer than k characters left, reverse all of them. If there are less than 2k but greater than or equal to k characters, then reverse the first k characters and leave the other as original.\n",
    "\n",
    "**Example 1:**\n",
    "\n",
    "**Input:** s = \"abcdefg\", k = 2\n",
    "\n",
    "**Output:**\n",
    "\n",
    "\"bacdfeg\"\n",
    "\n",
    "</aside>"
   ]
  },
  {
   "cell_type": "code",
   "execution_count": 265,
   "id": "2ce18f7c-81a6-4b2b-8d0c-909cbc2a5719",
   "metadata": {},
   "outputs": [],
   "source": [
    "def q5(s: str, k: int):\n",
    "    l = 0\n",
    "    r = l + k\n",
    "    c = 0\n",
    "    res = \"\"\n",
    "    while r <= (len(s) + k - 1):\n",
    "        if c % 2 == 0:\n",
    "            if len(s[l:r]) == k:\n",
    "                res += palindrome(s[l:r])\n",
    "            else:\n",
    "                res += s[l:r]\n",
    "        else:\n",
    "            res += s[l:r]\n",
    "        l = r\n",
    "        r = l + k\n",
    "        c += 1\n",
    "    return res"
   ]
  },
  {
   "cell_type": "code",
   "execution_count": 277,
   "id": "c8117909-e7c8-447e-bb9a-4512b1769dba",
   "metadata": {},
   "outputs": [
    {
     "name": "stdout",
     "output_type": "stream",
     "text": [
      "bacdfeg\n",
      "cbadefgh\n",
      "edcbafghijkl\n",
      "abcdefg\n"
     ]
    }
   ],
   "source": [
    "print(q5(s=\"abcdefg\", k=2))\n",
    "print(q5(s=\"abcdefgh\", k=3))\n",
    "print(q5(s=\"abcdefghijkl\", k=5))\n",
    "print(q5(s=\"abcdefg\", k=1))"
   ]
  },
  {
   "cell_type": "markdown",
   "id": "2116a974-4ee7-4700-a60e-762430943759",
   "metadata": {},
   "source": [
    "<aside>\n",
    "💡 **Question 6**\n",
    "\n",
    "Given two strings s and goal, return true *if and only if* s *can become* goal *after some number of **shifts** on* s.\n",
    "\n",
    "A **shift** on s consists of moving the leftmost character of s to the rightmost position.\n",
    "\n",
    "- For example, if s = \"abcde\", then it will be \"bcdea\" after one shift.\n",
    "\n",
    "**Example 1:**\n",
    "\n",
    "**Input:** s = \"abcde\", goal = \"cdeab\"\n",
    "\n",
    "**Output:**\n",
    "\n",
    "true\n",
    "\n",
    "</aside>"
   ]
  },
  {
   "cell_type": "code",
   "execution_count": 32,
   "id": "e0599c9e-c2b9-404c-9534-10599d829ea0",
   "metadata": {},
   "outputs": [],
   "source": [
    "def q6(s: str, goal: str):\n",
    "    if s == goal:\n",
    "        return True\n",
    "    if len(s) != len(goal):\n",
    "        return False\n",
    "    \n",
    "    s = list(s)\n",
    "    n_shift = 0\n",
    "    while n_shift < len(s)-1:\n",
    "        s = [s[-1]] + s[:-1]\n",
    "        n_shift += 1\n",
    "        if \"\".join(s) == goal:\n",
    "            return True\n",
    "    return False"
   ]
  },
  {
   "cell_type": "code",
   "execution_count": 33,
   "id": "8bc9cdba-622d-4cfc-94f2-22d946402296",
   "metadata": {},
   "outputs": [
    {
     "name": "stdout",
     "output_type": "stream",
     "text": [
      "True\n",
      "True\n",
      "False\n",
      "False\n"
     ]
    }
   ],
   "source": [
    "print(q6(s=\"abcde\", goal=\"abcde\"))\n",
    "print(q6(s=\"abcde\", goal=\"cdeab\"))\n",
    "print(q6(s=\"abcde\", goal=\"cdeaba\"))\n",
    "print(q6(s=\"abcde\", goal=\"cdeaa\"))"
   ]
  },
  {
   "cell_type": "markdown",
   "id": "a979e3b7-bceb-448e-9fc8-353759efd748",
   "metadata": {},
   "source": [
    "<aside>\n",
    "💡 **Question 7**\n",
    "\n",
    "Given two strings s and t, return true *if they are equal when both are typed into empty text editors*. '#' means a backspace character.\n",
    "\n",
    "Note that after backspacing an empty text, the text will continue empty.\n",
    "\n",
    "**Example 1:**\n",
    "\n",
    "**Input:** s = \"ab#c\", t = \"ad#c\"\n",
    "\n",
    "**Output:** true\n",
    "\n",
    "**Explanation:**\n",
    "\n",
    "Both s and t become \"ac\".\n",
    "\n",
    "</aside>"
   ]
  },
  {
   "cell_type": "code",
   "execution_count": 56,
   "id": "4c06e51c-9c75-4a9c-a6ae-bcc06865ed15",
   "metadata": {},
   "outputs": [],
   "source": [
    "def remove_backspace(s: str):\n",
    "    new_s = \"\"\n",
    "    for i in range(len(s)):\n",
    "        if s[i] != \"#\":\n",
    "            new_s += s[i]\n",
    "        else:\n",
    "            new_s = new_s[:-1]\n",
    "    return new_s"
   ]
  },
  {
   "cell_type": "code",
   "execution_count": 57,
   "id": "da84d313-0572-4275-9bf4-f6e86bb7962e",
   "metadata": {},
   "outputs": [],
   "source": [
    "def q7(s: str, t: str):\n",
    "    if remove_backspace(s) == remove_backspace(t):\n",
    "        return True\n",
    "    else:\n",
    "        return False"
   ]
  },
  {
   "cell_type": "code",
   "execution_count": 61,
   "id": "1923ec91-1e3a-4396-a308-af6ce3b834b9",
   "metadata": {},
   "outputs": [
    {
     "name": "stdout",
     "output_type": "stream",
     "text": [
      "True\n",
      "True\n",
      "True\n"
     ]
    }
   ],
   "source": [
    "print(q7(s=\"ab#c\", t=\"ad#c\"))\n",
    "print(q7(s=\"a#\", t=\"#\"))\n",
    "print(q7(s=\"a##c\", t=\"#c\"))"
   ]
  },
  {
   "cell_type": "markdown",
   "id": "f3cf5461-7e73-4862-9031-a93333cded08",
   "metadata": {},
   "source": [
    "<aside>\n",
    "💡 **Question 8**\n",
    "\n",
    "You are given an array coordinates, coordinates[i] = [x, y], where [x, y] represents the coordinate of a point. Check if these points make a straight line in the XY plane.\n",
    "\n",
    "**Example 1:**\n",
    "\n",
    "\n",
    "\n",
    "**Input:** coordinates = [[1,2],[2,3],[3,4],[4,5],[5,6],[6,7]]\n",
    "\n",
    "</aside>"
   ]
  },
  {
   "cell_type": "code",
   "execution_count": 62,
   "id": "e2e119a9-5682-46c5-8633-63eca1f0eaba",
   "metadata": {},
   "outputs": [],
   "source": [
    "def q8(coordinates: list):\n",
    "    for i in range(len(coordinates)-1):\n",
    "        if (coordinates[i][0] - coordinates[i+1][0]) != (coordinates[i][1] - coordinates[i+1][1]):\n",
    "            return False\n",
    "    return True"
   ]
  },
  {
   "cell_type": "code",
   "execution_count": 66,
   "id": "56e0f629-d3d0-47a9-9e3f-3ad1f33f89f4",
   "metadata": {},
   "outputs": [
    {
     "name": "stdout",
     "output_type": "stream",
     "text": [
      "True\n",
      "True\n",
      "False\n"
     ]
    }
   ],
   "source": [
    "print(q8([[1,2],[2,3],[3,4],[4,5],[5,6],[6,7]]))\n",
    "print(q8([[1,2],[3,4],[4,5],[5,6]]))\n",
    "print(q8([[1,3],[2,5],[4,5],[5,6]]))"
   ]
  },
  {
   "cell_type": "code",
   "execution_count": null,
   "id": "2580a3d2-779a-4565-9574-35b4311ae0c6",
   "metadata": {},
   "outputs": [],
   "source": []
  }
 ],
 "metadata": {
  "kernelspec": {
   "display_name": "Python 3 (ipykernel)",
   "language": "python",
   "name": "python3"
  },
  "language_info": {
   "codemirror_mode": {
    "name": "ipython",
    "version": 3
   },
   "file_extension": ".py",
   "mimetype": "text/x-python",
   "name": "python",
   "nbconvert_exporter": "python",
   "pygments_lexer": "ipython3",
   "version": "3.9.13"
  }
 },
 "nbformat": 4,
 "nbformat_minor": 5
}
