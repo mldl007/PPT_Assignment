{
 "cells": [
  {
   "cell_type": "markdown",
   "id": "f616fb52-d52a-45b1-8626-5f8b135ab0e3",
   "metadata": {},
   "source": [
    "Question 1\n",
    "Given an integer array nums of length n and an integer target, find three integers\n",
    "in nums such that the sum is closest to the target.\n",
    "Return the sum of the three integers.\n",
    "\n",
    "You may assume that each input would have exactly one solution.\n",
    "\n",
    "Example 1:\n",
    "Input: nums = [-1,2,1,-4], target = 1\n",
    "Output: 2\n",
    "\n",
    "Explanation: The sum that is closest to the target is 2. (-1 + 2 + 1 = 2)."
   ]
  },
  {
   "cell_type": "code",
   "execution_count": 1,
   "id": "e0d24fa7-86ae-407a-a1ca-bb19c84e1dd1",
   "metadata": {},
   "outputs": [],
   "source": [
    "def q1(nums: list, target: int):\n",
    "    diff_dict = dict()\n",
    "    for i in nums:\n",
    "        diff = abs(i - target)\n",
    "        if diff_dict.get(diff) is None:\n",
    "            diff_dict[diff] = [i]\n",
    "        else:\n",
    "            diff_dict[diff].append(i)\n",
    "\n",
    "    sorted_diff = sorted([*diff_dict.keys()])\n",
    "    nearest_nums = []\n",
    "    for i in sorted_diff[:3]:\n",
    "        nearest_nums.extend(diff_dict[i])\n",
    "    return sum(nearest_nums)"
   ]
  },
  {
   "cell_type": "code",
   "execution_count": 2,
   "id": "41f41603-9c09-4810-8569-edcdcfdd280e",
   "metadata": {},
   "outputs": [
    {
     "name": "stdout",
     "output_type": "stream",
     "text": [
      "2\n",
      "13\n"
     ]
    }
   ],
   "source": [
    "print(q1(nums = [-1,2,1,-4], target = 1))\n",
    "print(q1(nums = [-1,0,1,2,4,5,1], target = 3))"
   ]
  },
  {
   "cell_type": "markdown",
   "id": "37ab712e-837f-47ad-982a-e6c7d2c474c7",
   "metadata": {},
   "source": [
    "Question 2\n",
    "Given an array nums of n integers, return an array of all the unique quadruplets\n",
    "[nums[a], nums[b], nums[c], nums[d]] such that:\n",
    "           ● 0 <= a, b, c, d < n\n",
    "           ● a, b, c, and d are distinct.\n",
    "           ● nums[a] + nums[b] + nums[c] + nums[d] == target\n",
    "\n",
    "You may return the answer in any order.\n",
    "\n",
    "Example 1:\n",
    "Input: nums = [1,0,-1,0,-2,2], target = 0\n",
    "Output: [[-2,-1,1,2],[-2,0,0,2],[-1,0,0,1]]"
   ]
  },
  {
   "cell_type": "code",
   "execution_count": 3,
   "id": "a7079b0f-de78-4cc1-9a4a-88792c945de7",
   "metadata": {},
   "outputs": [],
   "source": [
    "def q2(nums: list, target: int):\n",
    "    nums = sorted(nums)\n",
    "    res = []\n",
    "    for i in range(len(nums)):\n",
    "        first = i\n",
    "        if i < len(nums):\n",
    "            last = len(nums) - (i+1)\n",
    "        else:\n",
    "            pass\n",
    "        lo = first + 1\n",
    "        hi = last - 1\n",
    "        while (lo <= hi):\n",
    "            if nums[first] + nums[lo] + nums[hi] + nums[last] > target:\n",
    "                hi = hi-1\n",
    "            elif nums[first] + nums[lo] + nums[hi] + nums[last] < target:\n",
    "                lo = lo+1\n",
    "            else:\n",
    "                res.append([nums[first] , nums[lo] , nums[hi] , nums[last]])\n",
    "                hi = hi-1\n",
    "                lo = lo+1\n",
    "    return res"
   ]
  },
  {
   "cell_type": "code",
   "execution_count": 4,
   "id": "86045deb-8245-4551-b3df-652dec58a53a",
   "metadata": {},
   "outputs": [
    {
     "name": "stdout",
     "output_type": "stream",
     "text": [
      "[[-2, -1, 1, 2], [-2, 0, 0, 2], [-1, 0, 0, 1]]\n"
     ]
    }
   ],
   "source": [
    "print(q2(nums=[1,0,-1,0,-2,2], target=0))"
   ]
  },
  {
   "cell_type": "markdown",
   "id": "f642bac6-8566-45df-85e0-2a18cb19f6da",
   "metadata": {},
   "source": [
    "<aside>\n",
    "💡 **Question 3**\n",
    "A permutation of an array of integers is an arrangement of its members into a\n",
    "sequence or linear order.\n",
    "\n",
    "For example, for arr = [1,2,3], the following are all the permutations of arr:\n",
    "[1,2,3], [1,3,2], [2, 1, 3], [2, 3, 1], [3,1,2], [3,2,1].\n",
    "\n",
    "The next permutation of an array of integers is the next lexicographically greater\n",
    "permutation of its integer. More formally, if all the permutations of the array are\n",
    "sorted in one container according to their lexicographical order, then the next\n",
    "permutation of that array is the permutation that follows it in the sorted container.\n",
    "\n",
    "If such an arrangement is not possible, the array must be rearranged as the\n",
    "lowest possible order (i.e., sorted in ascending order).\n",
    "\n",
    "● For example, the next permutation of arr = [1,2,3] is [1,3,2].\n",
    "● Similarly, the next permutation of arr = [2,3,1] is [3,1,2].\n",
    "● While the next permutation of arr = [3,2,1] is [1,2,3] because [3,2,1] does not\n",
    "have a lexicographical larger rearrangement.\n",
    "\n",
    "Given an array of integers nums, find the next permutation of nums.\n",
    "The replacement must be in place and use only constant extra memory.\n",
    "\n",
    "**Example 1:**\n",
    "Input: nums = [1,2,3]\n",
    "Output: [1,3,2]\n",
    "\n",
    "</aside>"
   ]
  },
  {
   "cell_type": "code",
   "execution_count": 5,
   "id": "da6bab82-fbba-4369-b126-d2e5f9e7f147",
   "metadata": {},
   "outputs": [],
   "source": [
    "def q3(l: list):\n",
    "    for i in [*range(len(l)-1,1,-1)]:\n",
    "        if l[i] > l[i-1]:\n",
    "            temp = l[i-1]\n",
    "            l[i-1] = l[i]\n",
    "            l[i] = temp\n",
    "            break\n",
    "\n",
    "    for j in range(i, len(l)-1):\n",
    "        if l[i] > l[i+1]:\n",
    "            temp = l[i+1]\n",
    "            l[i+1] = l[i]\n",
    "            l[i] = temp\n",
    "    return l"
   ]
  },
  {
   "cell_type": "code",
   "execution_count": 6,
   "id": "fc7a9e30-0c65-4e78-b3e0-45fe8e844b68",
   "metadata": {},
   "outputs": [
    {
     "name": "stdout",
     "output_type": "stream",
     "text": [
      "[1, 3, 2]\n",
      "[7, 8, 3, 5, 1]\n",
      "[1, 5, 8, 4, 5, 6, 7, 1, 3]\n",
      "[3, 6, 2, 8, 1]\n",
      "[1, 2, 3, 5, 4]\n",
      "[1, 2, 9, 0, 3]\n"
     ]
    }
   ],
   "source": [
    "print(q3([1,2,3]))\n",
    "print(q3([7,5,8,3,1]))\n",
    "print(q3([1,5,8,4,5,6,3,7,1]))\n",
    "print(q3([3,6,2,1,8]))\n",
    "print(q3([1,2,3,4,5]))\n",
    "print(q3([1,2,3,9,0]))"
   ]
  },
  {
   "cell_type": "markdown",
   "id": "d65e93ff-0aff-4319-b645-5250b0a17f4e",
   "metadata": {},
   "source": [
    "Question 4\n",
    "Given a sorted array of distinct integers and a target value, return the index if the\n",
    "target is found. If not, return the index where it would be if it were inserted in\n",
    "order.\n",
    "\n",
    "You must write an algorithm with O(log n) runtime complexity.\n",
    "\n",
    "Example 1:\n",
    "Input: nums = [1,3,5,6], target = 5\n",
    "Output: 2"
   ]
  },
  {
   "cell_type": "code",
   "execution_count": 10,
   "id": "492f2654-ef23-4039-89b1-6d758cc40de0",
   "metadata": {},
   "outputs": [],
   "source": [
    "def binary_search(nums, tgt):\n",
    "    lo = 0\n",
    "    hi = len(nums)-1\n",
    "    if nums[lo] == tgt:\n",
    "        return lo\n",
    "        if nums[hi] == tgt:\n",
    "            while nums[hi-1] == tgt:\n",
    "                hi -= 1\n",
    "            return hi\n",
    "    while lo <= hi:\n",
    "        mid = (lo + hi) // 2\n",
    "        if nums[mid] < tgt:\n",
    "            lo = mid + 1\n",
    "        elif nums[mid] > tgt:\n",
    "            hi = mid - 1\n",
    "        else:\n",
    "            while nums[mid-1] == tgt:\n",
    "                mid -= 1\n",
    "            return mid\n",
    "    return -1      "
   ]
  },
  {
   "cell_type": "code",
   "execution_count": 18,
   "id": "1bad6729-af9c-40a7-a019-a214524c3bb6",
   "metadata": {},
   "outputs": [],
   "source": [
    "def q4(nums: list, target: int):\n",
    "    idx = binary_search(nums, target)\n",
    "    for i in range(len(nums)):\n",
    "        if idx == -1:\n",
    "                if (i == 0) & (target < nums[i]):\n",
    "                    return 0\n",
    "                elif (i == len(nums) - 1) & (target > nums[i]):\n",
    "                    return i + 1\n",
    "                elif (target < nums[i]):\n",
    "                    return i    \n",
    "    else:\n",
    "        return idx"
   ]
  },
  {
   "cell_type": "code",
   "execution_count": 20,
   "id": "cbd3cedf-ae9a-498d-b77d-4cdf283b0139",
   "metadata": {},
   "outputs": [
    {
     "name": "stdout",
     "output_type": "stream",
     "text": [
      "2\n",
      "2\n",
      "4\n"
     ]
    }
   ],
   "source": [
    "print(q4(nums=[1,3,5,6], target = 5))\n",
    "print(q4(nums=[1,3,5,6], target = 4))\n",
    "print(q4(nums=[1,3,5,6], target = 40))"
   ]
  },
  {
   "cell_type": "markdown",
   "id": "39119ece-6b03-4cf6-96f5-d53dd765d527",
   "metadata": {},
   "source": [
    "<aside>\n",
    "💡 **Question 5**\n",
    "You are given a large integer represented as an integer array digits, where each\n",
    "digits[i] is the ith digit of the integer. The digits are ordered from most significant\n",
    "to least significant in left-to-right order. The large integer does not contain any\n",
    "leading 0's.\n",
    "\n",
    "Increment the large integer by one and return the resulting array of digits.\n",
    "\n",
    "**Example 1:**\n",
    "Input: digits = [1,2,3]\n",
    "Output: [1,2,4]\n",
    "\n",
    "**Explanation:** The array represents the integer 123.\n",
    "Incrementing by one gives 123 + 1 = 124.\n",
    "Thus, the result should be [1,2,4].\n",
    "\n",
    "</aside>"
   ]
  },
  {
   "cell_type": "code",
   "execution_count": 78,
   "id": "2855ad22-e636-4030-935c-413a9189d5d6",
   "metadata": {},
   "outputs": [],
   "source": [
    "def q5(l: list):\n",
    "    i = len(l) - 1\n",
    "    while l[i] == 9:\n",
    "        l[i] = 0\n",
    "        i -= 1\n",
    "    if i != -1:\n",
    "        l[i] = l[i]+1\n",
    "    else:\n",
    "        l = [1] + l\n",
    "    return l"
   ]
  },
  {
   "cell_type": "code",
   "execution_count": 86,
   "id": "3a202e56-998a-416b-ab3b-21b8587ef310",
   "metadata": {},
   "outputs": [
    {
     "name": "stdout",
     "output_type": "stream",
     "text": [
      "[1, 0, 1]\n",
      "[2, 0, 1]\n",
      "[1, 1, 0]\n",
      "[2, 0, 0]\n",
      "[1, 0, 0, 0]\n",
      "[1, 0, 0, 0, 0]\n",
      "[9, 9, 9, 8]\n"
     ]
    }
   ],
   "source": [
    "print(q5(l=[1,0,0]))\n",
    "print(q5(l=[2,0,0]))\n",
    "print(q5(l=[1,0,9]))\n",
    "print(q5(l=[1,9,9]))\n",
    "print(q5(l=[9,9,9]))\n",
    "print(q5(l=[9,9,9,9]))\n",
    "print(q5(l=[9,9,9,7]))"
   ]
  },
  {
   "cell_type": "markdown",
   "id": "46358c70-2b66-463e-99dc-d4e98a5368f9",
   "metadata": {},
   "source": [
    "Question 6\n",
    "Given a non-empty array of integers nums, every element appears twice except\n",
    "for one. Find that single one.\n",
    "\n",
    "You must implement a solution with a linear runtime complexity and use only\n",
    "constant extra space.\n",
    "\n",
    "Example 1:\n",
    "Input: nums = [2,2,1]\n",
    "Output: 1"
   ]
  },
  {
   "cell_type": "code",
   "execution_count": 101,
   "id": "c46e22db-cc1e-4afe-ae55-670ca2e7f77b",
   "metadata": {},
   "outputs": [],
   "source": [
    "def q6(nums: list):\n",
    "    d = {}\n",
    "    for i in nums:\n",
    "        if d.get(str(i)) == None:\n",
    "            d[str(i)] = 1\n",
    "        else:\n",
    "            d[str(i)] = d[str(i)] + 1\n",
    "    res = [int(i) for i, j in d.items() if j == 1]\n",
    "    return res"
   ]
  },
  {
   "cell_type": "code",
   "execution_count": 104,
   "id": "5fa38d01-730f-40c7-952c-1fd34f3db400",
   "metadata": {},
   "outputs": [
    {
     "name": "stdout",
     "output_type": "stream",
     "text": [
      "[1]\n",
      "[1, 3]\n"
     ]
    }
   ],
   "source": [
    "print(q6(nums=[2,2,1]))\n",
    "print(q6(nums=[2,2,1,3]))"
   ]
  },
  {
   "cell_type": "markdown",
   "id": "a280ec93-391e-403e-b502-93c1a8ffcdb8",
   "metadata": {},
   "source": [
    "Question 7\n",
    "You are given an inclusive range [lower, upper] and a sorted unique integer array\n",
    "nums, where all elements are within the inclusive range.\n",
    "\n",
    "A number x is considered missing if x is in the range [lower, upper] and x is not in\n",
    "nums.\n",
    "\n",
    "Return the shortest sorted list of ranges that exactly covers all the missing\n",
    "numbers. That is, no element of nums is included in any of the ranges, and each\n",
    "missing number is covered by one of the ranges.\n",
    "\n",
    "Example 1:\n",
    "Input: nums = [0,1,3,50,75], lower = 0, upper = 99\n",
    "Output: [[2,2],[4,49],[51,74],[76,99]]\n",
    "\n",
    "Explanation: The ranges are:\n",
    "[2,2]\n",
    "[4,49]\n",
    "[51,74]\n",
    "[76,99]"
   ]
  },
  {
   "cell_type": "code",
   "execution_count": 178,
   "id": "7693bebc-34db-4de6-88b1-5079a807ab9d",
   "metadata": {},
   "outputs": [],
   "source": [
    "def q7(nums: list, lower: int, upper: int):\n",
    "    res = []\n",
    "    start = 0\n",
    "    if nums[0] != lower:\n",
    "        res.append([lower, lower])\n",
    "        if nums[0] - 1 != lower:\n",
    "            res[0][1] = nums[0] - 1\n",
    "            \n",
    "\n",
    "    for i in range(start, len(nums)-1):\n",
    "        if nums[i]+1 != nums[i+1]:\n",
    "            res.append([nums[i]+1, nums[i+1]-1])\n",
    "\n",
    "    if nums[-1] != upper:\n",
    "        res.append([upper, upper])\n",
    "        if nums[-1] + 1 != upper:\n",
    "            res[-1][0] = nums[-1] + 1\n",
    "    return res"
   ]
  },
  {
   "cell_type": "code",
   "execution_count": 180,
   "id": "fd853bfc-3639-46b8-9a3e-3f5e3b02106a",
   "metadata": {},
   "outputs": [
    {
     "name": "stdout",
     "output_type": "stream",
     "text": [
      "[[2, 2], [4, 49], [51, 74], [76, 99]]\n",
      "[[-5, -1], [2, 2], [4, 49], [51, 74], [76, 99]]\n",
      "[[0, 2], [4, 49], [51, 74], [76, 89], [91, 990]]\n",
      "[[1, 49], [51, 74], [76, 98]]\n",
      "[[4, 49], [51, 74], [76, 99]]\n",
      "[[0, 0], [4, 49], [51, 74], [76, 99]]\n",
      "[[0, 0], [4, 49], [51, 74], [76, 97], [99, 99]]\n"
     ]
    }
   ],
   "source": [
    "print(q7(nums = [0,1,3,50,75], lower = 0, upper = 99))\n",
    "print(q7(nums = [0,1,3,50,75], lower = -5, upper = 99))\n",
    "print(q7(nums = [3,50,75,90], lower = 0, upper = 990))\n",
    "print(q7(nums = [0,50,75,99], lower = 0, upper = 99))\n",
    "print(q7(nums = [0,1,2,3,50,75], lower = 0, upper = 99))\n",
    "print(q7(nums = [1,2,3,50,75], lower = 0, upper = 99))\n",
    "print(q7(nums = [1,2,3,50,75,98], lower = 0, upper = 99))"
   ]
  },
  {
   "cell_type": "markdown",
   "id": "edcb171d-8640-4108-9457-ff3264221c1a",
   "metadata": {},
   "source": [
    "<aside>\n",
    "💡 **Question 8**\n",
    "Given an array of meeting time intervals where intervals[i] = [starti, endi],\n",
    "determine if a person could attend all meetings.\n",
    "\n",
    "**Example 1:**\n",
    "Input: intervals = [[0,30],[5,10],[15,20]]\n",
    "Output: false\n",
    "\n",
    "</aside>"
   ]
  },
  {
   "cell_type": "code",
   "execution_count": 110,
   "id": "6022ba70-6c0c-49e6-b809-908c6a68a230",
   "metadata": {},
   "outputs": [],
   "source": [
    "def q8(intervals: list):\n",
    "    res = True\n",
    "    for i in range(len(intervals) - 1):\n",
    "        if intervals[i][1] > intervals[i+1][0]:\n",
    "            res = False\n",
    "            break\n",
    "    return res"
   ]
  },
  {
   "cell_type": "code",
   "execution_count": 112,
   "id": "174f6cb7-475e-4b41-ac7a-5ffe54572e1d",
   "metadata": {},
   "outputs": [
    {
     "name": "stdout",
     "output_type": "stream",
     "text": [
      "False\n",
      "True\n"
     ]
    }
   ],
   "source": [
    "print(q8([[0,30],[5,10],[15,20]]))\n",
    "print(q8([[0,10],[15,20],[25,30]]))"
   ]
  }
 ],
 "metadata": {
  "kernelspec": {
   "display_name": "Python 3 (ipykernel)",
   "language": "python",
   "name": "python3"
  },
  "language_info": {
   "codemirror_mode": {
    "name": "ipython",
    "version": 3
   },
   "file_extension": ".py",
   "mimetype": "text/x-python",
   "name": "python",
   "nbconvert_exporter": "python",
   "pygments_lexer": "ipython3",
   "version": "3.9.13"
  }
 },
 "nbformat": 4,
 "nbformat_minor": 5
}
